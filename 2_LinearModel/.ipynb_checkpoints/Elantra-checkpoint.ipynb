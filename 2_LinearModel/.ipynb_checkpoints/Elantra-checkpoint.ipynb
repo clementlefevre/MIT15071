{
 "cells": [
  {
   "cell_type": "code",
   "execution_count": 1,
   "metadata": {
    "collapsed": true
   },
   "outputs": [],
   "source": [
    "%matplotlib inline\n",
    "import numpy as np\n",
    "import pandas as pd\n",
    "import matplotlib.pyplot as plt\n",
    "import seaborn as sns\n",
    "from math import pow,exp\n",
    "from sklearn.linear_model import LinearRegression\n",
    "from pandas.tools.plotting import scatter_matrix\n",
    "from sklearn.metrics import mean_squared_error\n",
    "import statsmodels.formula.api as smf"
   ]
  },
  {
   "cell_type": "code",
   "execution_count": 2,
   "metadata": {
    "collapsed": true
   },
   "outputs": [],
   "source": [
    "df = pd.read_csv('elantra.csv')"
   ]
  },
  {
   "cell_type": "code",
   "execution_count": 3,
   "metadata": {
    "collapsed": false
   },
   "outputs": [
    {
     "data": {
      "text/html": [
       "<div>\n",
       "<table border=\"1\" class=\"dataframe\">\n",
       "  <thead>\n",
       "    <tr style=\"text-align: right;\">\n",
       "      <th></th>\n",
       "      <th>Month</th>\n",
       "      <th>Year</th>\n",
       "      <th>ElantraSales</th>\n",
       "      <th>Unemployment</th>\n",
       "      <th>Queries</th>\n",
       "      <th>CPI_energy</th>\n",
       "      <th>CPI_all</th>\n",
       "    </tr>\n",
       "  </thead>\n",
       "  <tbody>\n",
       "    <tr>\n",
       "      <th>0</th>\n",
       "      <td>1</td>\n",
       "      <td>2010</td>\n",
       "      <td>7690</td>\n",
       "      <td>9.7</td>\n",
       "      <td>153</td>\n",
       "      <td>213.377</td>\n",
       "      <td>217.466</td>\n",
       "    </tr>\n",
       "    <tr>\n",
       "      <th>1</th>\n",
       "      <td>1</td>\n",
       "      <td>2011</td>\n",
       "      <td>9659</td>\n",
       "      <td>9.1</td>\n",
       "      <td>259</td>\n",
       "      <td>229.353</td>\n",
       "      <td>221.082</td>\n",
       "    </tr>\n",
       "    <tr>\n",
       "      <th>2</th>\n",
       "      <td>1</td>\n",
       "      <td>2012</td>\n",
       "      <td>10900</td>\n",
       "      <td>8.2</td>\n",
       "      <td>354</td>\n",
       "      <td>244.178</td>\n",
       "      <td>227.666</td>\n",
       "    </tr>\n",
       "    <tr>\n",
       "      <th>3</th>\n",
       "      <td>1</td>\n",
       "      <td>2013</td>\n",
       "      <td>12174</td>\n",
       "      <td>7.9</td>\n",
       "      <td>230</td>\n",
       "      <td>242.560</td>\n",
       "      <td>231.321</td>\n",
       "    </tr>\n",
       "    <tr>\n",
       "      <th>4</th>\n",
       "      <td>1</td>\n",
       "      <td>2014</td>\n",
       "      <td>15326</td>\n",
       "      <td>6.6</td>\n",
       "      <td>232</td>\n",
       "      <td>247.575</td>\n",
       "      <td>234.933</td>\n",
       "    </tr>\n",
       "  </tbody>\n",
       "</table>\n",
       "</div>"
      ],
      "text/plain": [
       "   Month  Year  ElantraSales  Unemployment  Queries  CPI_energy  CPI_all\n",
       "0      1  2010          7690           9.7      153     213.377  217.466\n",
       "1      1  2011          9659           9.1      259     229.353  221.082\n",
       "2      1  2012         10900           8.2      354     244.178  227.666\n",
       "3      1  2013         12174           7.9      230     242.560  231.321\n",
       "4      1  2014         15326           6.6      232     247.575  234.933"
      ]
     },
     "execution_count": 3,
     "metadata": {},
     "output_type": "execute_result"
    }
   ],
   "source": [
    "df.head()"
   ]
  },
  {
   "cell_type": "code",
   "execution_count": 4,
   "metadata": {
    "collapsed": false
   },
   "outputs": [
    {
     "data": {
      "text/html": [
       "<div>\n",
       "<table border=\"1\" class=\"dataframe\">\n",
       "  <thead>\n",
       "    <tr style=\"text-align: right;\">\n",
       "      <th></th>\n",
       "      <th>Month</th>\n",
       "      <th>Year</th>\n",
       "      <th>ElantraSales</th>\n",
       "      <th>Unemployment</th>\n",
       "      <th>Queries</th>\n",
       "      <th>CPI_energy</th>\n",
       "      <th>CPI_all</th>\n",
       "    </tr>\n",
       "  </thead>\n",
       "  <tbody>\n",
       "    <tr>\n",
       "      <th>count</th>\n",
       "      <td>50.000000</td>\n",
       "      <td>50.000000</td>\n",
       "      <td>50.000000</td>\n",
       "      <td>50.000000</td>\n",
       "      <td>50.000000</td>\n",
       "      <td>50.000000</td>\n",
       "      <td>50.000000</td>\n",
       "    </tr>\n",
       "    <tr>\n",
       "      <th>mean</th>\n",
       "      <td>6.300000</td>\n",
       "      <td>2011.600000</td>\n",
       "      <td>16005.440000</td>\n",
       "      <td>8.422000</td>\n",
       "      <td>263.480000</td>\n",
       "      <td>236.945280</td>\n",
       "      <td>226.739040</td>\n",
       "    </tr>\n",
       "    <tr>\n",
       "      <th>std</th>\n",
       "      <td>3.558548</td>\n",
       "      <td>1.212183</td>\n",
       "      <td>4887.924676</td>\n",
       "      <td>0.951538</td>\n",
       "      <td>77.982007</td>\n",
       "      <td>15.393399</td>\n",
       "      <td>5.942194</td>\n",
       "    </tr>\n",
       "    <tr>\n",
       "      <th>min</th>\n",
       "      <td>1.000000</td>\n",
       "      <td>2010.000000</td>\n",
       "      <td>7690.000000</td>\n",
       "      <td>6.600000</td>\n",
       "      <td>130.000000</td>\n",
       "      <td>204.161000</td>\n",
       "      <td>217.251000</td>\n",
       "    </tr>\n",
       "    <tr>\n",
       "      <th>25%</th>\n",
       "      <td>3.000000</td>\n",
       "      <td>2011.000000</td>\n",
       "      <td>12560.500000</td>\n",
       "      <td>7.725000</td>\n",
       "      <td>224.750000</td>\n",
       "      <td>230.061750</td>\n",
       "      <td>221.265500</td>\n",
       "    </tr>\n",
       "    <tr>\n",
       "      <th>50%</th>\n",
       "      <td>6.000000</td>\n",
       "      <td>2012.000000</td>\n",
       "      <td>15624.500000</td>\n",
       "      <td>8.250000</td>\n",
       "      <td>262.500000</td>\n",
       "      <td>244.388000</td>\n",
       "      <td>227.902000</td>\n",
       "    </tr>\n",
       "    <tr>\n",
       "      <th>75%</th>\n",
       "      <td>9.000000</td>\n",
       "      <td>2013.000000</td>\n",
       "      <td>19197.250000</td>\n",
       "      <td>9.100000</td>\n",
       "      <td>311.000000</td>\n",
       "      <td>247.061750</td>\n",
       "      <td>231.693250</td>\n",
       "    </tr>\n",
       "    <tr>\n",
       "      <th>max</th>\n",
       "      <td>12.000000</td>\n",
       "      <td>2014.000000</td>\n",
       "      <td>26153.000000</td>\n",
       "      <td>9.900000</td>\n",
       "      <td>427.000000</td>\n",
       "      <td>256.389000</td>\n",
       "      <td>235.169000</td>\n",
       "    </tr>\n",
       "  </tbody>\n",
       "</table>\n",
       "</div>"
      ],
      "text/plain": [
       "           Month         Year  ElantraSales  Unemployment     Queries  \\\n",
       "count  50.000000    50.000000     50.000000     50.000000   50.000000   \n",
       "mean    6.300000  2011.600000  16005.440000      8.422000  263.480000   \n",
       "std     3.558548     1.212183   4887.924676      0.951538   77.982007   \n",
       "min     1.000000  2010.000000   7690.000000      6.600000  130.000000   \n",
       "25%     3.000000  2011.000000  12560.500000      7.725000  224.750000   \n",
       "50%     6.000000  2012.000000  15624.500000      8.250000  262.500000   \n",
       "75%     9.000000  2013.000000  19197.250000      9.100000  311.000000   \n",
       "max    12.000000  2014.000000  26153.000000      9.900000  427.000000   \n",
       "\n",
       "       CPI_energy     CPI_all  \n",
       "count   50.000000   50.000000  \n",
       "mean   236.945280  226.739040  \n",
       "std     15.393399    5.942194  \n",
       "min    204.161000  217.251000  \n",
       "25%    230.061750  221.265500  \n",
       "50%    244.388000  227.902000  \n",
       "75%    247.061750  231.693250  \n",
       "max    256.389000  235.169000  "
      ]
     },
     "execution_count": 4,
     "metadata": {},
     "output_type": "execute_result"
    }
   ],
   "source": [
    "df.describe()"
   ]
  },
  {
   "cell_type": "code",
   "execution_count": 5,
   "metadata": {
    "collapsed": false
   },
   "outputs": [
    {
     "data": {
      "text/plain": [
       "Index([u'Month', u'Year', u'ElantraSales', u'Unemployment', u'Queries',\n",
       "       u'CPI_energy', u'CPI_all'],\n",
       "      dtype='object')"
      ]
     },
     "execution_count": 5,
     "metadata": {},
     "output_type": "execute_result"
    }
   ],
   "source": [
    "df.columns"
   ]
  },
  {
   "cell_type": "markdown",
   "metadata": {
    "collapsed": true
   },
   "source": [
    "**Problem 1 - Loading the Data**\n",
    "\n",
    "0 points possible (ungraded)\n",
    " Unit 9: Integer\n",
    "Optimization\n",
    " Final Exam\n",
    "Load the data set. Split the data set into training and testing sets as\n",
    "follows: place all observations for 2012 and earlier in the training set,\n",
    "and all observations for 2013 and 2014 into the testing set.\n",
    "How many observations are in the training set?"
   ]
  },
  {
   "cell_type": "code",
   "execution_count": 6,
   "metadata": {
    "collapsed": true
   },
   "outputs": [],
   "source": [
    "df_train=df[df.Year<=2012]\n",
    "df_test = df[df.Year>2012]"
   ]
  },
  {
   "cell_type": "code",
   "execution_count": 7,
   "metadata": {
    "collapsed": false
   },
   "outputs": [
    {
     "data": {
      "text/plain": [
       "36"
      ]
     },
     "execution_count": 7,
     "metadata": {},
     "output_type": "execute_result"
    }
   ],
   "source": [
    "df_train.shape[0]"
   ]
  },
  {
   "cell_type": "markdown",
   "metadata": {
    "collapsed": true
   },
   "source": [
    "**Problem 2.1 - A Linear Regression Model**\n",
    "\n",
    "0 points possible (ungraded)\n",
    "\n",
    "Build a linear regression model to predict monthly Elantra sales using\n",
    "Unemployment, CPI_all, CPI_energy and Queries as the independent\n",
    "variables. Use all of the training set data to do this.\n",
    "What is the model R-squared? Note: In this problem, we will always be\n",
    "asking for the \"Multiple R-Squared\" of the model."
   ]
  },
  {
   "cell_type": "code",
   "execution_count": 8,
   "metadata": {
    "collapsed": false
   },
   "outputs": [
    {
     "data": {
      "text/plain": [
       "'Month+Year+ElantraSales+Unemployment+Queries+CPI_energy+CPI_all'"
      ]
     },
     "execution_count": 8,
     "metadata": {},
     "output_type": "execute_result"
    }
   ],
   "source": [
    "'+'.join(df.columns)"
   ]
  },
  {
   "cell_type": "code",
   "execution_count": 9,
   "metadata": {
    "collapsed": false
   },
   "outputs": [
    {
     "data": {
      "text/html": [
       "<table class=\"simpletable\">\n",
       "<caption>OLS Regression Results</caption>\n",
       "<tr>\n",
       "  <th>Dep. Variable:</th>      <td>ElantraSales</td>   <th>  R-squared:         </th> <td>   0.428</td>\n",
       "</tr>\n",
       "<tr>\n",
       "  <th>Model:</th>                   <td>OLS</td>       <th>  Adj. R-squared:    </th> <td>   0.354</td>\n",
       "</tr>\n",
       "<tr>\n",
       "  <th>Method:</th>             <td>Least Squares</td>  <th>  F-statistic:       </th> <td>   5.803</td>\n",
       "</tr>\n",
       "<tr>\n",
       "  <th>Date:</th>             <td>Sun, 19 Feb 2017</td> <th>  Prob (F-statistic):</th>  <td>0.00132</td>\n",
       "</tr>\n",
       "<tr>\n",
       "  <th>Time:</th>                 <td>10:44:50</td>     <th>  Log-Likelihood:    </th> <td> -339.99</td>\n",
       "</tr>\n",
       "<tr>\n",
       "  <th>No. Observations:</th>      <td>    36</td>      <th>  AIC:               </th> <td>   690.0</td>\n",
       "</tr>\n",
       "<tr>\n",
       "  <th>Df Residuals:</th>          <td>    31</td>      <th>  BIC:               </th> <td>   697.9</td>\n",
       "</tr>\n",
       "<tr>\n",
       "  <th>Df Model:</th>              <td>     4</td>      <th>                     </th>     <td> </td>   \n",
       "</tr>\n",
       "<tr>\n",
       "  <th>Covariance Type:</th>      <td>nonrobust</td>    <th>                     </th>     <td> </td>   \n",
       "</tr>\n",
       "</table>\n",
       "<table class=\"simpletable\">\n",
       "<tr>\n",
       "        <td></td>          <th>coef</th>     <th>std err</th>      <th>t</th>      <th>P>|t|</th> <th>[95.0% Conf. Int.]</th> \n",
       "</tr>\n",
       "<tr>\n",
       "  <th>Intercept</th>    <td> 9.539e+04</td> <td> 1.71e+05</td> <td>    0.559</td> <td> 0.580</td> <td>-2.53e+05  4.43e+05</td>\n",
       "</tr>\n",
       "<tr>\n",
       "  <th>Unemployment</th> <td>-3179.8996</td> <td> 3610.262</td> <td>   -0.881</td> <td> 0.385</td> <td>-1.05e+04  4183.279</td>\n",
       "</tr>\n",
       "<tr>\n",
       "  <th>Queries</th>      <td>   19.0297</td> <td>   11.259</td> <td>    1.690</td> <td> 0.101</td> <td>   -3.933    41.992</td>\n",
       "</tr>\n",
       "<tr>\n",
       "  <th>CPI_energy</th>   <td>   38.5060</td> <td>  109.601</td> <td>    0.351</td> <td> 0.728</td> <td> -185.027   262.039</td>\n",
       "</tr>\n",
       "<tr>\n",
       "  <th>CPI_all</th>      <td> -297.6456</td> <td>  704.837</td> <td>   -0.422</td> <td> 0.676</td> <td>-1735.169  1139.878</td>\n",
       "</tr>\n",
       "</table>\n",
       "<table class=\"simpletable\">\n",
       "<tr>\n",
       "  <th>Omnibus:</th>       <td> 1.210</td> <th>  Durbin-Watson:     </th> <td>   1.190</td>\n",
       "</tr>\n",
       "<tr>\n",
       "  <th>Prob(Omnibus):</th> <td> 0.546</td> <th>  Jarque-Bera (JB):  </th> <td>   0.947</td>\n",
       "</tr>\n",
       "<tr>\n",
       "  <th>Skew:</th>          <td> 0.390</td> <th>  Prob(JB):          </th> <td>   0.623</td>\n",
       "</tr>\n",
       "<tr>\n",
       "  <th>Kurtosis:</th>      <td> 2.845</td> <th>  Cond. No.          </th> <td>1.32e+05</td>\n",
       "</tr>\n",
       "</table>"
      ],
      "text/plain": [
       "<class 'statsmodels.iolib.summary.Summary'>\n",
       "\"\"\"\n",
       "                            OLS Regression Results                            \n",
       "==============================================================================\n",
       "Dep. Variable:           ElantraSales   R-squared:                       0.428\n",
       "Model:                            OLS   Adj. R-squared:                  0.354\n",
       "Method:                 Least Squares   F-statistic:                     5.803\n",
       "Date:                Sun, 19 Feb 2017   Prob (F-statistic):            0.00132\n",
       "Time:                        10:44:50   Log-Likelihood:                -339.99\n",
       "No. Observations:                  36   AIC:                             690.0\n",
       "Df Residuals:                      31   BIC:                             697.9\n",
       "Df Model:                           4                                         \n",
       "Covariance Type:            nonrobust                                         \n",
       "================================================================================\n",
       "                   coef    std err          t      P>|t|      [95.0% Conf. Int.]\n",
       "--------------------------------------------------------------------------------\n",
       "Intercept     9.539e+04   1.71e+05      0.559      0.580     -2.53e+05  4.43e+05\n",
       "Unemployment -3179.8996   3610.262     -0.881      0.385     -1.05e+04  4183.279\n",
       "Queries         19.0297     11.259      1.690      0.101        -3.933    41.992\n",
       "CPI_energy      38.5060    109.601      0.351      0.728      -185.027   262.039\n",
       "CPI_all       -297.6456    704.837     -0.422      0.676     -1735.169  1139.878\n",
       "==============================================================================\n",
       "Omnibus:                        1.210   Durbin-Watson:                   1.190\n",
       "Prob(Omnibus):                  0.546   Jarque-Bera (JB):                0.947\n",
       "Skew:                           0.390   Prob(JB):                        0.623\n",
       "Kurtosis:                       2.845   Cond. No.                     1.32e+05\n",
       "==============================================================================\n",
       "\n",
       "Warnings:\n",
       "[1] Standard Errors assume that the covariance matrix of the errors is correctly specified.\n",
       "[2] The condition number is large, 1.32e+05. This might indicate that there are\n",
       "strong multicollinearity or other numerical problems.\n",
       "\"\"\""
      ]
     },
     "execution_count": 9,
     "metadata": {},
     "output_type": "execute_result"
    }
   ],
   "source": [
    "model = smf.ols('ElantraSales ~ Unemployment+Queries+CPI_energy+CPI_all',data=df_train)\n",
    "result = model.fit()\n",
    "result.summary()"
   ]
  },
  {
   "cell_type": "markdown",
   "metadata": {},
   "source": [
    "** Problem 3.1 - Modeling Seasonality**\n",
    "\n",
    "0 points possible (ungraded)\n",
    "\n",
    "Our model R-Squared is relatively low, so we would now like to improve\n",
    "our model. In modeling demand and sales, it is often useful to model\n",
    "seasonality. Seasonality refers to the fact that demand is often\n",
    "cyclical/periodic in time. For example, in countries with different\n",
    "seasons, demand for warm outerwear (like jackets and coats) is higher in\n",
    "fall/autumn and winter (due to the colder weather) than in spring and\n",
    "summer. (In contrast, demand for swimsuits and sunscreen is higher in\n",
    "the summer than in the other seasons.) Another example is the \"back to\n",
    "school\" period in North America: demand for stationary (pencils,\n",
    "notebooks and so on) in late July and all of August is higher than the rest\n",
    "of the year due to the start of the school year in September.\n",
    "In our problem, since our data includes the month of the year in which\n",
    "the units were sold, it is feasible for us to incorporate monthly\n",
    "seasonality. From a modeling point of view, it may be reasonable that\n",
    "the month plays an effect in how many Elantra units are sold.\n",
    "To incorporate the seasonal effect due to the month, build a new linear\n",
    "regression model that predicts monthly Elantra sales using Month as\n",
    "well as Unemployment, CPI_all, CPI_energy and Queries. Do not modify\n",
    "the training and testing data frames before building the model.\n",
    "What is the model R-Squared?"
   ]
  },
  {
   "cell_type": "code",
   "execution_count": 10,
   "metadata": {
    "collapsed": false
   },
   "outputs": [
    {
     "data": {
      "text/html": [
       "<table class=\"simpletable\">\n",
       "<caption>OLS Regression Results</caption>\n",
       "<tr>\n",
       "  <th>Dep. Variable:</th>      <td>ElantraSales</td>   <th>  R-squared:         </th> <td>   0.434</td>\n",
       "</tr>\n",
       "<tr>\n",
       "  <th>Model:</th>                   <td>OLS</td>       <th>  Adj. R-squared:    </th> <td>   0.340</td>\n",
       "</tr>\n",
       "<tr>\n",
       "  <th>Method:</th>             <td>Least Squares</td>  <th>  F-statistic:       </th> <td>   4.609</td>\n",
       "</tr>\n",
       "<tr>\n",
       "  <th>Date:</th>             <td>Sun, 19 Feb 2017</td> <th>  Prob (F-statistic):</th>  <td>0.00308</td>\n",
       "</tr>\n",
       "<tr>\n",
       "  <th>Time:</th>                 <td>10:44:50</td>     <th>  Log-Likelihood:    </th> <td> -339.79</td>\n",
       "</tr>\n",
       "<tr>\n",
       "  <th>No. Observations:</th>      <td>    36</td>      <th>  AIC:               </th> <td>   691.6</td>\n",
       "</tr>\n",
       "<tr>\n",
       "  <th>Df Residuals:</th>          <td>    30</td>      <th>  BIC:               </th> <td>   701.1</td>\n",
       "</tr>\n",
       "<tr>\n",
       "  <th>Df Model:</th>              <td>     5</td>      <th>                     </th>     <td> </td>   \n",
       "</tr>\n",
       "<tr>\n",
       "  <th>Covariance Type:</th>      <td>nonrobust</td>    <th>                     </th>     <td> </td>   \n",
       "</tr>\n",
       "</table>\n",
       "<table class=\"simpletable\">\n",
       "<tr>\n",
       "        <td></td>          <th>coef</th>     <th>std err</th>      <th>t</th>      <th>P>|t|</th> <th>[95.0% Conf. Int.]</th> \n",
       "</tr>\n",
       "<tr>\n",
       "  <th>Intercept</th>    <td> 1.483e+05</td> <td> 1.95e+05</td> <td>    0.759</td> <td> 0.454</td> <td>-2.51e+05  5.47e+05</td>\n",
       "</tr>\n",
       "<tr>\n",
       "  <th>Month</th>        <td>  110.6853</td> <td>  191.657</td> <td>    0.578</td> <td> 0.568</td> <td> -280.731   502.102</td>\n",
       "</tr>\n",
       "<tr>\n",
       "  <th>Unemployment</th> <td>-4137.2826</td> <td> 4008.558</td> <td>   -1.032</td> <td> 0.310</td> <td>-1.23e+04  4049.285</td>\n",
       "</tr>\n",
       "<tr>\n",
       "  <th>Queries</th>      <td>   21.1855</td> <td>   11.978</td> <td>    1.769</td> <td> 0.087</td> <td>   -3.278    45.649</td>\n",
       "</tr>\n",
       "<tr>\n",
       "  <th>CPI_energy</th>   <td>   54.1833</td> <td>  114.076</td> <td>    0.475</td> <td> 0.638</td> <td> -178.790   287.157</td>\n",
       "</tr>\n",
       "<tr>\n",
       "  <th>CPI_all</th>      <td> -517.9910</td> <td>  808.259</td> <td>   -0.641</td> <td> 0.526</td> <td>-2168.676  1132.694</td>\n",
       "</tr>\n",
       "</table>\n",
       "<table class=\"simpletable\">\n",
       "<tr>\n",
       "  <th>Omnibus:</th>       <td> 1.544</td> <th>  Durbin-Watson:     </th> <td>   1.158</td>\n",
       "</tr>\n",
       "<tr>\n",
       "  <th>Prob(Omnibus):</th> <td> 0.462</td> <th>  Jarque-Bera (JB):  </th> <td>   1.312</td>\n",
       "</tr>\n",
       "<tr>\n",
       "  <th>Skew:</th>          <td> 0.453</td> <th>  Prob(JB):          </th> <td>   0.519</td>\n",
       "</tr>\n",
       "<tr>\n",
       "  <th>Kurtosis:</th>      <td> 2.764</td> <th>  Cond. No.          </th> <td>1.49e+05</td>\n",
       "</tr>\n",
       "</table>"
      ],
      "text/plain": [
       "<class 'statsmodels.iolib.summary.Summary'>\n",
       "\"\"\"\n",
       "                            OLS Regression Results                            \n",
       "==============================================================================\n",
       "Dep. Variable:           ElantraSales   R-squared:                       0.434\n",
       "Model:                            OLS   Adj. R-squared:                  0.340\n",
       "Method:                 Least Squares   F-statistic:                     4.609\n",
       "Date:                Sun, 19 Feb 2017   Prob (F-statistic):            0.00308\n",
       "Time:                        10:44:50   Log-Likelihood:                -339.79\n",
       "No. Observations:                  36   AIC:                             691.6\n",
       "Df Residuals:                      30   BIC:                             701.1\n",
       "Df Model:                           5                                         \n",
       "Covariance Type:            nonrobust                                         \n",
       "================================================================================\n",
       "                   coef    std err          t      P>|t|      [95.0% Conf. Int.]\n",
       "--------------------------------------------------------------------------------\n",
       "Intercept     1.483e+05   1.95e+05      0.759      0.454     -2.51e+05  5.47e+05\n",
       "Month          110.6853    191.657      0.578      0.568      -280.731   502.102\n",
       "Unemployment -4137.2826   4008.558     -1.032      0.310     -1.23e+04  4049.285\n",
       "Queries         21.1855     11.978      1.769      0.087        -3.278    45.649\n",
       "CPI_energy      54.1833    114.076      0.475      0.638      -178.790   287.157\n",
       "CPI_all       -517.9910    808.259     -0.641      0.526     -2168.676  1132.694\n",
       "==============================================================================\n",
       "Omnibus:                        1.544   Durbin-Watson:                   1.158\n",
       "Prob(Omnibus):                  0.462   Jarque-Bera (JB):                1.312\n",
       "Skew:                           0.453   Prob(JB):                        0.519\n",
       "Kurtosis:                       2.764   Cond. No.                     1.49e+05\n",
       "==============================================================================\n",
       "\n",
       "Warnings:\n",
       "[1] Standard Errors assume that the covariance matrix of the errors is correctly specified.\n",
       "[2] The condition number is large, 1.49e+05. This might indicate that there are\n",
       "strong multicollinearity or other numerical problems.\n",
       "\"\"\""
      ]
     },
     "execution_count": 10,
     "metadata": {},
     "output_type": "execute_result"
    }
   ],
   "source": [
    "model = smf.ols('ElantraSales ~ Month+Unemployment+Queries+CPI_energy+CPI_all',data=df_train)\n",
    "result = model.fit()\n",
    "result.summary()"
   ]
  },
  {
   "cell_type": "code",
   "execution_count": 11,
   "metadata": {
    "collapsed": false
   },
   "outputs": [
    {
     "name": "stderr",
     "output_type": "stream",
     "text": [
      "/home/ramon/anaconda2/lib/python2.7/site-packages/ipykernel/__main__.py:1: SettingWithCopyWarning: \n",
      "A value is trying to be set on a copy of a slice from a DataFrame.\n",
      "Try using .loc[row_indexer,col_indexer] = value instead\n",
      "\n",
      "See the caveats in the documentation: http://pandas.pydata.org/pandas-docs/stable/indexing.html#indexing-view-versus-copy\n",
      "  if __name__ == '__main__':\n",
      "/home/ramon/anaconda2/lib/python2.7/site-packages/ipykernel/__main__.py:2: SettingWithCopyWarning: \n",
      "A value is trying to be set on a copy of a slice from a DataFrame.\n",
      "Try using .loc[row_indexer,col_indexer] = value instead\n",
      "\n",
      "See the caveats in the documentation: http://pandas.pydata.org/pandas-docs/stable/indexing.html#indexing-view-versus-copy\n",
      "  from ipykernel import kernelapp as app\n",
      "/home/ramon/anaconda2/lib/python2.7/site-packages/ipykernel/__main__.py:3: SettingWithCopyWarning: \n",
      "A value is trying to be set on a copy of a slice from a DataFrame.\n",
      "Try using .loc[row_indexer,col_indexer] = value instead\n",
      "\n",
      "See the caveats in the documentation: http://pandas.pydata.org/pandas-docs/stable/indexing.html#indexing-view-versus-copy\n",
      "  app.launch_new_instance()\n"
     ]
    }
   ],
   "source": [
    "df_train['ElantraSales_1']=df_train.ElantraSales.shift(-1)\n",
    "df_train['ElantraSales_2']=df_train.ElantraSales.shift(-2)\n",
    "df_train['rolling_ElantraSales']=df_train.ElantraSales.ewm(span=10).mean()"
   ]
  },
  {
   "cell_type": "code",
   "execution_count": 12,
   "metadata": {
    "collapsed": false
   },
   "outputs": [
    {
     "data": {
      "text/plain": [
       "<matplotlib.axes._subplots.AxesSubplot at 0x7f1b77c96490>"
      ]
     },
     "execution_count": 12,
     "metadata": {},
     "output_type": "execute_result"
    },
    {
     "data": {
      "image/png": "[encoded data removed]",
      "text/plain": [
       "<matplotlib.figure.Figure at 0x7f1ba81b1850>"
      ]
     },
     "metadata": {},
     "output_type": "display_data"
    }
   ],
   "source": [
    "df_train[['ElantraSales','rolling_ElantraSales','ElantraSales_1']].plot()"
   ]
  },
  {
   "cell_type": "code",
   "execution_count": 13,
   "metadata": {
    "collapsed": false
   },
   "outputs": [
    {
     "data": {
      "text/html": [
       "<table class=\"simpletable\">\n",
       "<caption>OLS Regression Results</caption>\n",
       "<tr>\n",
       "  <th>Dep. Variable:</th>      <td>ElantraSales</td>   <th>  R-squared:         </th> <td>   0.434</td>\n",
       "</tr>\n",
       "<tr>\n",
       "  <th>Model:</th>                   <td>OLS</td>       <th>  Adj. R-squared:    </th> <td>   0.340</td>\n",
       "</tr>\n",
       "<tr>\n",
       "  <th>Method:</th>             <td>Least Squares</td>  <th>  F-statistic:       </th> <td>   4.609</td>\n",
       "</tr>\n",
       "<tr>\n",
       "  <th>Date:</th>             <td>Sun, 19 Feb 2017</td> <th>  Prob (F-statistic):</th>  <td>0.00308</td>\n",
       "</tr>\n",
       "<tr>\n",
       "  <th>Time:</th>                 <td>10:44:50</td>     <th>  Log-Likelihood:    </th> <td> -339.79</td>\n",
       "</tr>\n",
       "<tr>\n",
       "  <th>No. Observations:</th>      <td>    36</td>      <th>  AIC:               </th> <td>   691.6</td>\n",
       "</tr>\n",
       "<tr>\n",
       "  <th>Df Residuals:</th>          <td>    30</td>      <th>  BIC:               </th> <td>   701.1</td>\n",
       "</tr>\n",
       "<tr>\n",
       "  <th>Df Model:</th>              <td>     5</td>      <th>                     </th>     <td> </td>   \n",
       "</tr>\n",
       "<tr>\n",
       "  <th>Covariance Type:</th>      <td>nonrobust</td>    <th>                     </th>     <td> </td>   \n",
       "</tr>\n",
       "</table>\n",
       "<table class=\"simpletable\">\n",
       "<tr>\n",
       "        <td></td>          <th>coef</th>     <th>std err</th>      <th>t</th>      <th>P>|t|</th> <th>[95.0% Conf. Int.]</th> \n",
       "</tr>\n",
       "<tr>\n",
       "  <th>Intercept</th>    <td> 1.483e+05</td> <td> 1.95e+05</td> <td>    0.759</td> <td> 0.454</td> <td>-2.51e+05  5.47e+05</td>\n",
       "</tr>\n",
       "<tr>\n",
       "  <th>Month</th>        <td>  110.6853</td> <td>  191.657</td> <td>    0.578</td> <td> 0.568</td> <td> -280.731   502.102</td>\n",
       "</tr>\n",
       "<tr>\n",
       "  <th>Unemployment</th> <td>-4137.2826</td> <td> 4008.558</td> <td>   -1.032</td> <td> 0.310</td> <td>-1.23e+04  4049.285</td>\n",
       "</tr>\n",
       "<tr>\n",
       "  <th>Queries</th>      <td>   21.1855</td> <td>   11.978</td> <td>    1.769</td> <td> 0.087</td> <td>   -3.278    45.649</td>\n",
       "</tr>\n",
       "<tr>\n",
       "  <th>CPI_energy</th>   <td>   54.1833</td> <td>  114.076</td> <td>    0.475</td> <td> 0.638</td> <td> -178.790   287.157</td>\n",
       "</tr>\n",
       "<tr>\n",
       "  <th>CPI_all</th>      <td> -517.9910</td> <td>  808.259</td> <td>   -0.641</td> <td> 0.526</td> <td>-2168.676  1132.694</td>\n",
       "</tr>\n",
       "</table>\n",
       "<table class=\"simpletable\">\n",
       "<tr>\n",
       "  <th>Omnibus:</th>       <td> 1.544</td> <th>  Durbin-Watson:     </th> <td>   1.158</td>\n",
       "</tr>\n",
       "<tr>\n",
       "  <th>Prob(Omnibus):</th> <td> 0.462</td> <th>  Jarque-Bera (JB):  </th> <td>   1.312</td>\n",
       "</tr>\n",
       "<tr>\n",
       "  <th>Skew:</th>          <td> 0.453</td> <th>  Prob(JB):          </th> <td>   0.519</td>\n",
       "</tr>\n",
       "<tr>\n",
       "  <th>Kurtosis:</th>      <td> 2.764</td> <th>  Cond. No.          </th> <td>1.49e+05</td>\n",
       "</tr>\n",
       "</table>"
      ],
      "text/plain": [
       "<class 'statsmodels.iolib.summary.Summary'>\n",
       "\"\"\"\n",
       "                            OLS Regression Results                            \n",
       "==============================================================================\n",
       "Dep. Variable:           ElantraSales   R-squared:                       0.434\n",
       "Model:                            OLS   Adj. R-squared:                  0.340\n",
       "Method:                 Least Squares   F-statistic:                     4.609\n",
       "Date:                Sun, 19 Feb 2017   Prob (F-statistic):            0.00308\n",
       "Time:                        10:44:50   Log-Likelihood:                -339.79\n",
       "No. Observations:                  36   AIC:                             691.6\n",
       "Df Residuals:                      30   BIC:                             701.1\n",
       "Df Model:                           5                                         \n",
       "Covariance Type:            nonrobust                                         \n",
       "================================================================================\n",
       "                   coef    std err          t      P>|t|      [95.0% Conf. Int.]\n",
       "--------------------------------------------------------------------------------\n",
       "Intercept     1.483e+05   1.95e+05      0.759      0.454     -2.51e+05  5.47e+05\n",
       "Month          110.6853    191.657      0.578      0.568      -280.731   502.102\n",
       "Unemployment -4137.2826   4008.558     -1.032      0.310     -1.23e+04  4049.285\n",
       "Queries         21.1855     11.978      1.769      0.087        -3.278    45.649\n",
       "CPI_energy      54.1833    114.076      0.475      0.638      -178.790   287.157\n",
       "CPI_all       -517.9910    808.259     -0.641      0.526     -2168.676  1132.694\n",
       "==============================================================================\n",
       "Omnibus:                        1.544   Durbin-Watson:                   1.158\n",
       "Prob(Omnibus):                  0.462   Jarque-Bera (JB):                1.312\n",
       "Skew:                           0.453   Prob(JB):                        0.519\n",
       "Kurtosis:                       2.764   Cond. No.                     1.49e+05\n",
       "==============================================================================\n",
       "\n",
       "Warnings:\n",
       "[1] Standard Errors assume that the covariance matrix of the errors is correctly specified.\n",
       "[2] The condition number is large, 1.49e+05. This might indicate that there are\n",
       "strong multicollinearity or other numerical problems.\n",
       "\"\"\""
      ]
     },
     "execution_count": 13,
     "metadata": {},
     "output_type": "execute_result"
    }
   ],
   "source": [
    "model = smf.ols('ElantraSales ~  Month +Unemployment+Queries+CPI_energy+CPI_all',data=df_train)\n",
    "result = model.fit()\n",
    "result.summary()"
   ]
  },
  {
   "cell_type": "markdown",
   "metadata": {},
   "source": [
    "**Problem 3.3 - Understanding the Model**\n",
    "\n",
    "\n",
    "Let us try to understand our model.\n",
    "In the new model, given two monthly periods that are otherwise\n",
    "identical in Unemployment, CPI_all, CPI_energy and Queries, what is the\n",
    "absolute difference in predicted Elantra sales given that one period is in\n",
    "January and one is in March?"
   ]
  },
  {
   "cell_type": "code",
   "execution_count": 14,
   "metadata": {
    "collapsed": false
   },
   "outputs": [
    {
     "name": "stdout",
     "output_type": "stream",
     "text": [
      "221.370539303\n",
      "442.741078605\n"
     ]
    }
   ],
   "source": [
    "print result.params.Month*2\n",
    "print result.params.Month*4\n"
   ]
  },
  {
   "cell_type": "markdown",
   "metadata": {},
   "source": [
    "**Problem 3.4 - Numeric vs. Factors**\n",
    "\n",
    "\n",
    "You may be experiencing an uneasy feeling that there is something not\n",
    "quite right in how we have modeled the effect of the calendar month on\n",
    "the monthly sales of Elantras. If so, you are right. In particular, we added Month as a variable, but Month is an ordinary numeric variable. In fact,\n",
    "we must convert Month to a factor variable before adding it to the\n",
    "model.\n",
    "What is the best explanation for why we must do this?"
   ]
  },
  {
   "cell_type": "code",
   "execution_count": 15,
   "metadata": {
    "collapsed": true
   },
   "outputs": [],
   "source": [
    "## Not used, because Statsmodel handle the 'category' formt of pandas very well.\n",
    "def relevel_month(df):\n",
    "    dummies = pd.get_dummies(df.Month,prefix='Month')\n",
    "\n",
    "    df = pd.concat([df, dummies], axis=1)\n",
    "    df = df.drop(['Month', 'Month_1'], axis=1)\n",
    "    return df"
   ]
  },
  {
   "cell_type": "code",
   "execution_count": 16,
   "metadata": {
    "collapsed": true
   },
   "outputs": [],
   "source": [
    "df_train_leveled = relevel_month(df_train)\n",
    "df_test_leveled = relevel_month(df_test)"
   ]
  },
  {
   "cell_type": "code",
   "execution_count": 17,
   "metadata": {
    "collapsed": false
   },
   "outputs": [
    {
     "name": "stderr",
     "output_type": "stream",
     "text": [
      "/home/ramon/anaconda2/lib/python2.7/site-packages/ipykernel/__main__.py:1: SettingWithCopyWarning: \n",
      "A value is trying to be set on a copy of a slice from a DataFrame.\n",
      "Try using .loc[row_indexer,col_indexer] = value instead\n",
      "\n",
      "See the caveats in the documentation: http://pandas.pydata.org/pandas-docs/stable/indexing.html#indexing-view-versus-copy\n",
      "  if __name__ == '__main__':\n"
     ]
    }
   ],
   "source": [
    "df_train['category_month'] =  df_train['Month'].astype('category')"
   ]
  },
  {
   "cell_type": "code",
   "execution_count": null,
   "metadata": {
    "collapsed": true
   },
   "outputs": [],
   "source": []
  },
  {
   "cell_type": "code",
   "execution_count": 18,
   "metadata": {
    "collapsed": false
   },
   "outputs": [
    {
     "data": {
      "text/html": [
       "<div>\n",
       "<table border=\"1\" class=\"dataframe\">\n",
       "  <thead>\n",
       "    <tr style=\"text-align: right;\">\n",
       "      <th></th>\n",
       "      <th>Month</th>\n",
       "      <th>Year</th>\n",
       "      <th>ElantraSales</th>\n",
       "      <th>Unemployment</th>\n",
       "      <th>Queries</th>\n",
       "      <th>CPI_energy</th>\n",
       "      <th>CPI_all</th>\n",
       "      <th>ElantraSales_1</th>\n",
       "      <th>ElantraSales_2</th>\n",
       "      <th>rolling_ElantraSales</th>\n",
       "      <th>category_month</th>\n",
       "    </tr>\n",
       "  </thead>\n",
       "  <tbody>\n",
       "    <tr>\n",
       "      <th>0</th>\n",
       "      <td>1</td>\n",
       "      <td>2010</td>\n",
       "      <td>7690</td>\n",
       "      <td>9.7</td>\n",
       "      <td>153</td>\n",
       "      <td>213.377</td>\n",
       "      <td>217.466</td>\n",
       "      <td>9659.0</td>\n",
       "      <td>10900.0</td>\n",
       "      <td>7690.000000</td>\n",
       "      <td>1</td>\n",
       "    </tr>\n",
       "    <tr>\n",
       "      <th>1</th>\n",
       "      <td>1</td>\n",
       "      <td>2011</td>\n",
       "      <td>9659</td>\n",
       "      <td>9.1</td>\n",
       "      <td>259</td>\n",
       "      <td>229.353</td>\n",
       "      <td>221.082</td>\n",
       "      <td>10900.0</td>\n",
       "      <td>7966.0</td>\n",
       "      <td>8772.950000</td>\n",
       "      <td>1</td>\n",
       "    </tr>\n",
       "    <tr>\n",
       "      <th>2</th>\n",
       "      <td>1</td>\n",
       "      <td>2012</td>\n",
       "      <td>10900</td>\n",
       "      <td>8.2</td>\n",
       "      <td>354</td>\n",
       "      <td>244.178</td>\n",
       "      <td>227.666</td>\n",
       "      <td>7966.0</td>\n",
       "      <td>12289.0</td>\n",
       "      <td>9628.009967</td>\n",
       "      <td>1</td>\n",
       "    </tr>\n",
       "    <tr>\n",
       "      <th>5</th>\n",
       "      <td>2</td>\n",
       "      <td>2010</td>\n",
       "      <td>7966</td>\n",
       "      <td>9.8</td>\n",
       "      <td>130</td>\n",
       "      <td>209.924</td>\n",
       "      <td>217.251</td>\n",
       "      <td>12289.0</td>\n",
       "      <td>13820.0</td>\n",
       "      <td>9080.451733</td>\n",
       "      <td>2</td>\n",
       "    </tr>\n",
       "    <tr>\n",
       "      <th>6</th>\n",
       "      <td>2</td>\n",
       "      <td>2011</td>\n",
       "      <td>12289</td>\n",
       "      <td>9.0</td>\n",
       "      <td>266</td>\n",
       "      <td>232.188</td>\n",
       "      <td>221.816</td>\n",
       "      <td>13820.0</td>\n",
       "      <td>8225.0</td>\n",
       "      <td>10001.538676</td>\n",
       "      <td>2</td>\n",
       "    </tr>\n",
       "  </tbody>\n",
       "</table>\n",
       "</div>"
      ],
      "text/plain": [
       "   Month  Year  ElantraSales  Unemployment  Queries  CPI_energy  CPI_all  \\\n",
       "0      1  2010          7690           9.7      153     213.377  217.466   \n",
       "1      1  2011          9659           9.1      259     229.353  221.082   \n",
       "2      1  2012         10900           8.2      354     244.178  227.666   \n",
       "5      2  2010          7966           9.8      130     209.924  217.251   \n",
       "6      2  2011         12289           9.0      266     232.188  221.816   \n",
       "\n",
       "   ElantraSales_1  ElantraSales_2  rolling_ElantraSales category_month  \n",
       "0          9659.0         10900.0           7690.000000              1  \n",
       "1         10900.0          7966.0           8772.950000              1  \n",
       "2          7966.0         12289.0           9628.009967              1  \n",
       "5         12289.0         13820.0           9080.451733              2  \n",
       "6         13820.0          8225.0          10001.538676              2  "
      ]
     },
     "execution_count": 18,
     "metadata": {},
     "output_type": "execute_result"
    }
   ],
   "source": [
    "df_train.head()"
   ]
  },
  {
   "cell_type": "markdown",
   "metadata": {},
   "source": [
    "**Problem 4.1 - A New Model**\n",
    "Re-run the regression with the Month variable modeled as a factor\n",
    "variable. (Create a new variable that models the Month as a factor (using\n",
    "the as.factor function) instead of overwriting the current Month variable.\n",
    "We'll still use the numeric version of Month later in the problem.)\n",
    "What is the model R-Squared?"
   ]
  },
  {
   "cell_type": "code",
   "execution_count": 19,
   "metadata": {
    "collapsed": false
   },
   "outputs": [
    {
     "data": {
      "text/plain": [
       "['Month_2',\n",
       " 'Month_3',\n",
       " 'Month_4',\n",
       " 'Month_5',\n",
       " 'Month_6',\n",
       " 'Month_7',\n",
       " 'Month_8',\n",
       " 'Month_9',\n",
       " 'Month_10',\n",
       " 'Month_11',\n",
       " 'Month_12']"
      ]
     },
     "execution_count": 19,
     "metadata": {},
     "output_type": "execute_result"
    }
   ],
   "source": [
    "[month for month in df_train_leveled.columns if 'Month_' in month]"
   ]
  },
  {
   "cell_type": "code",
   "execution_count": 20,
   "metadata": {
    "collapsed": false
   },
   "outputs": [
    {
     "data": {
      "text/html": [
       "<table class=\"simpletable\">\n",
       "<caption>OLS Regression Results</caption>\n",
       "<tr>\n",
       "  <th>Dep. Variable:</th>      <td>ElantraSales</td>   <th>  R-squared:         </th> <td>   0.819</td>\n",
       "</tr>\n",
       "<tr>\n",
       "  <th>Model:</th>                   <td>OLS</td>       <th>  Adj. R-squared:    </th> <td>   0.684</td>\n",
       "</tr>\n",
       "<tr>\n",
       "  <th>Method:</th>             <td>Least Squares</td>  <th>  F-statistic:       </th> <td>   6.044</td>\n",
       "</tr>\n",
       "<tr>\n",
       "  <th>Date:</th>             <td>Sun, 19 Feb 2017</td> <th>  Prob (F-statistic):</th> <td>0.000147</td>\n",
       "</tr>\n",
       "<tr>\n",
       "  <th>Time:</th>                 <td>10:44:51</td>     <th>  Log-Likelihood:    </th> <td> -319.26</td>\n",
       "</tr>\n",
       "<tr>\n",
       "  <th>No. Observations:</th>      <td>    36</td>      <th>  AIC:               </th> <td>   670.5</td>\n",
       "</tr>\n",
       "<tr>\n",
       "  <th>Df Residuals:</th>          <td>    20</td>      <th>  BIC:               </th> <td>   695.9</td>\n",
       "</tr>\n",
       "<tr>\n",
       "  <th>Df Model:</th>              <td>    15</td>      <th>                     </th>     <td> </td>   \n",
       "</tr>\n",
       "<tr>\n",
       "  <th>Covariance Type:</th>      <td>nonrobust</td>    <th>                     </th>     <td> </td>   \n",
       "</tr>\n",
       "</table>\n",
       "<table class=\"simpletable\">\n",
       "<tr>\n",
       "            <td></td>              <th>coef</th>     <th>std err</th>      <th>t</th>      <th>P>|t|</th> <th>[95.0% Conf. Int.]</th> \n",
       "</tr>\n",
       "<tr>\n",
       "  <th>Intercept</th>            <td> 3.125e+05</td> <td> 1.44e+05</td> <td>    2.169</td> <td> 0.042</td> <td>  1.2e+04  6.13e+05</td>\n",
       "</tr>\n",
       "<tr>\n",
       "  <th>category_month[T.2]</th>  <td> 2254.9978</td> <td> 1943.249</td> <td>    1.160</td> <td> 0.260</td> <td>-1798.548  6308.543</td>\n",
       "</tr>\n",
       "<tr>\n",
       "  <th>category_month[T.3]</th>  <td> 6696.5568</td> <td> 1991.635</td> <td>    3.362</td> <td> 0.003</td> <td> 2542.080  1.09e+04</td>\n",
       "</tr>\n",
       "<tr>\n",
       "  <th>category_month[T.4]</th>  <td> 7556.6074</td> <td> 2038.022</td> <td>    3.708</td> <td> 0.001</td> <td> 3305.368  1.18e+04</td>\n",
       "</tr>\n",
       "<tr>\n",
       "  <th>category_month[T.5]</th>  <td> 7420.2490</td> <td> 1950.139</td> <td>    3.805</td> <td> 0.001</td> <td> 3352.331  1.15e+04</td>\n",
       "</tr>\n",
       "<tr>\n",
       "  <th>category_month[T.6]</th>  <td> 9215.8326</td> <td> 1995.230</td> <td>    4.619</td> <td> 0.000</td> <td> 5053.856  1.34e+04</td>\n",
       "</tr>\n",
       "<tr>\n",
       "  <th>category_month[T.7]</th>  <td> 9929.4644</td> <td> 2238.800</td> <td>    4.435</td> <td> 0.000</td> <td> 5259.409  1.46e+04</td>\n",
       "</tr>\n",
       "<tr>\n",
       "  <th>category_month[T.8]</th>  <td> 7939.4474</td> <td> 2064.629</td> <td>    3.845</td> <td> 0.001</td> <td> 3632.706  1.22e+04</td>\n",
       "</tr>\n",
       "<tr>\n",
       "  <th>category_month[T.9]</th>  <td> 5013.2866</td> <td> 2010.745</td> <td>    2.493</td> <td> 0.022</td> <td>  818.946  9207.627</td>\n",
       "</tr>\n",
       "<tr>\n",
       "  <th>category_month[T.10]</th> <td> 2500.1838</td> <td> 2084.057</td> <td>    1.200</td> <td> 0.244</td> <td>-1847.083  6847.451</td>\n",
       "</tr>\n",
       "<tr>\n",
       "  <th>category_month[T.11]</th> <td> 3238.9315</td> <td> 2397.231</td> <td>    1.351</td> <td> 0.192</td> <td>-1761.605  8239.468</td>\n",
       "</tr>\n",
       "<tr>\n",
       "  <th>category_month[T.12]</th> <td> 5293.9107</td> <td> 2228.310</td> <td>    2.376</td> <td> 0.028</td> <td>  645.738  9942.083</td>\n",
       "</tr>\n",
       "<tr>\n",
       "  <th>Unemployment</th>         <td>-7739.3814</td> <td> 2968.747</td> <td>   -2.607</td> <td> 0.017</td> <td>-1.39e+04 -1546.683</td>\n",
       "</tr>\n",
       "<tr>\n",
       "  <th>Queries</th>              <td>   -4.7636</td> <td>   12.938</td> <td>   -0.368</td> <td> 0.717</td> <td>  -31.752    22.224</td>\n",
       "</tr>\n",
       "<tr>\n",
       "  <th>CPI_energy</th>           <td>  288.6314</td> <td>   97.974</td> <td>    2.946</td> <td> 0.008</td> <td>   84.262   493.001</td>\n",
       "</tr>\n",
       "<tr>\n",
       "  <th>CPI_all</th>              <td>-1343.3068</td> <td>  592.919</td> <td>   -2.266</td> <td> 0.035</td> <td>-2580.114  -106.500</td>\n",
       "</tr>\n",
       "</table>\n",
       "<table class=\"simpletable\">\n",
       "<tr>\n",
       "  <th>Omnibus:</th>       <td> 0.047</td> <th>  Durbin-Watson:     </th> <td>   2.795</td>\n",
       "</tr>\n",
       "<tr>\n",
       "  <th>Prob(Omnibus):</th> <td> 0.977</td> <th>  Jarque-Bera (JB):  </th> <td>   0.246</td>\n",
       "</tr>\n",
       "<tr>\n",
       "  <th>Skew:</th>          <td>-0.032</td> <th>  Prob(JB):          </th> <td>   0.884</td>\n",
       "</tr>\n",
       "<tr>\n",
       "  <th>Kurtosis:</th>      <td> 2.600</td> <th>  Cond. No.          </th> <td>1.59e+05</td>\n",
       "</tr>\n",
       "</table>"
      ],
      "text/plain": [
       "<class 'statsmodels.iolib.summary.Summary'>\n",
       "\"\"\"\n",
       "                            OLS Regression Results                            \n",
       "==============================================================================\n",
       "Dep. Variable:           ElantraSales   R-squared:                       0.819\n",
       "Model:                            OLS   Adj. R-squared:                  0.684\n",
       "Method:                 Least Squares   F-statistic:                     6.044\n",
       "Date:                Sun, 19 Feb 2017   Prob (F-statistic):           0.000147\n",
       "Time:                        10:44:51   Log-Likelihood:                -319.26\n",
       "No. Observations:                  36   AIC:                             670.5\n",
       "Df Residuals:                      20   BIC:                             695.9\n",
       "Df Model:                          15                                         \n",
       "Covariance Type:            nonrobust                                         \n",
       "========================================================================================\n",
       "                           coef    std err          t      P>|t|      [95.0% Conf. Int.]\n",
       "----------------------------------------------------------------------------------------\n",
       "Intercept             3.125e+05   1.44e+05      2.169      0.042       1.2e+04  6.13e+05\n",
       "category_month[T.2]   2254.9978   1943.249      1.160      0.260     -1798.548  6308.543\n",
       "category_month[T.3]   6696.5568   1991.635      3.362      0.003      2542.080  1.09e+04\n",
       "category_month[T.4]   7556.6074   2038.022      3.708      0.001      3305.368  1.18e+04\n",
       "category_month[T.5]   7420.2490   1950.139      3.805      0.001      3352.331  1.15e+04\n",
       "category_month[T.6]   9215.8326   1995.230      4.619      0.000      5053.856  1.34e+04\n",
       "category_month[T.7]   9929.4644   2238.800      4.435      0.000      5259.409  1.46e+04\n",
       "category_month[T.8]   7939.4474   2064.629      3.845      0.001      3632.706  1.22e+04\n",
       "category_month[T.9]   5013.2866   2010.745      2.493      0.022       818.946  9207.627\n",
       "category_month[T.10]  2500.1838   2084.057      1.200      0.244     -1847.083  6847.451\n",
       "category_month[T.11]  3238.9315   2397.231      1.351      0.192     -1761.605  8239.468\n",
       "category_month[T.12]  5293.9107   2228.310      2.376      0.028       645.738  9942.083\n",
       "Unemployment         -7739.3814   2968.747     -2.607      0.017     -1.39e+04 -1546.683\n",
       "Queries                 -4.7636     12.938     -0.368      0.717       -31.752    22.224\n",
       "CPI_energy             288.6314     97.974      2.946      0.008        84.262   493.001\n",
       "CPI_all              -1343.3068    592.919     -2.266      0.035     -2580.114  -106.500\n",
       "==============================================================================\n",
       "Omnibus:                        0.047   Durbin-Watson:                   2.795\n",
       "Prob(Omnibus):                  0.977   Jarque-Bera (JB):                0.246\n",
       "Skew:                          -0.032   Prob(JB):                        0.884\n",
       "Kurtosis:                       2.600   Cond. No.                     1.59e+05\n",
       "==============================================================================\n",
       "\n",
       "Warnings:\n",
       "[1] Standard Errors assume that the covariance matrix of the errors is correctly specified.\n",
       "[2] The condition number is large, 1.59e+05. This might indicate that there are\n",
       "strong multicollinearity or other numerical problems.\n",
       "\"\"\""
      ]
     },
     "execution_count": 20,
     "metadata": {},
     "output_type": "execute_result"
    }
   ],
   "source": [
    "model = smf.ols('ElantraSales ~  category_month +Unemployment+Queries+CPI_energy+CPI_all',data=df_train)\n",
    "result = model.fit()\n",
    "result.summary()"
   ]
  },
  {
   "cell_type": "markdown",
   "metadata": {},
   "source": [
    "**Problem 4.2 - Significant Variables **\n",
    "\n",
    "0 points possible (ungraded)\n",
    "\n",
    "Which variables are significant, or have levels that are significant? Use\n",
    "0.10 as your p-value cutoff. (Select all that apply.)"
   ]
  },
  {
   "cell_type": "code",
   "execution_count": 21,
   "metadata": {
    "collapsed": false
   },
   "outputs": [
    {
     "data": {
      "text/plain": [
       "category_month[T.6]     0.000166\n",
       "category_month[T.7]     0.000254\n",
       "category_month[T.8]     0.001010\n",
       "category_month[T.5]     0.001110\n",
       "category_month[T.4]     0.001392\n",
       "category_month[T.3]     0.003099\n",
       "CPI_energy              0.007988\n",
       "Unemployment            0.016871\n",
       "category_month[T.9]     0.021542\n",
       "category_month[T.12]    0.027621\n",
       "CPI_all                 0.034732\n",
       "Intercept               0.042288\n",
       "dtype: float64"
      ]
     },
     "execution_count": 21,
     "metadata": {},
     "output_type": "execute_result"
    }
   ],
   "source": [
    "result.pvalues[result.pvalues<0.10].sort_values()"
   ]
  },
  {
   "cell_type": "markdown",
   "metadata": {},
   "source": [
    "**Problem 5.1 - Multicolinearity**\n",
    "\n",
    "0 points possible (ungraded)\n",
    "Another peculiar observation about the regression is that the sign of the\n",
    "Queries variable has changed. In particular, when we naively modeled\n",
    "Month as a numeric variable, Queries had a positive coefficient. Now,\n",
    "Queries has a negative coefficient. Furthermore, CPI_energy has a\n",
    "positive coefficient -- as the overall price of energy increases, we expect\n",
    "Elantra sales to increase, which seems counter-intuitive (if the price of\n",
    "energy increases, we'd expect consumers to have less funds to purchase\n",
    "automobiles, leading to lower Elantra sales).\n",
    "\n",
    "As we have seen before, changes in coefficient signs and signs that are\n",
    "counter to our intuition may be due to a multicolinearity problem. To\n",
    "check, compute the correlations of the variables in the training set.\n",
    "\n",
    "Which of the following variables is CPI_energy highly correlated with?\n",
    "Select all that apply. (Include only variables where the absolute value of\n",
    "the correlation exceeds 0.6. For the purpose of this question, treat\n",
    "Month as a numeric variable, not a factor variable.)"
   ]
  },
  {
   "cell_type": "code",
   "execution_count": 22,
   "metadata": {
    "collapsed": false
   },
   "outputs": [
    {
     "data": {
      "text/html": [
       "<div>\n",
       "<table border=\"1\" class=\"dataframe\">\n",
       "  <thead>\n",
       "    <tr style=\"text-align: right;\">\n",
       "      <th></th>\n",
       "      <th>Month</th>\n",
       "      <th>Unemployment</th>\n",
       "      <th>Queries</th>\n",
       "      <th>CPI_energy</th>\n",
       "      <th>CPI_all</th>\n",
       "    </tr>\n",
       "  </thead>\n",
       "  <tbody>\n",
       "    <tr>\n",
       "      <th>Month</th>\n",
       "      <td>-</td>\n",
       "      <td>-</td>\n",
       "      <td>-</td>\n",
       "      <td>-</td>\n",
       "      <td>-</td>\n",
       "    </tr>\n",
       "    <tr>\n",
       "      <th>Unemployment</th>\n",
       "      <td>-0.203603</td>\n",
       "      <td>-</td>\n",
       "      <td>-</td>\n",
       "      <td>-</td>\n",
       "      <td>-</td>\n",
       "    </tr>\n",
       "    <tr>\n",
       "      <th>Queries</th>\n",
       "      <td>0.0158443</td>\n",
       "      <td>-0.641109</td>\n",
       "      <td>-</td>\n",
       "      <td>-</td>\n",
       "      <td>-</td>\n",
       "    </tr>\n",
       "    <tr>\n",
       "      <th>CPI_energy</th>\n",
       "      <td>0.17602</td>\n",
       "      <td>-0.800719</td>\n",
       "      <td>0.832838</td>\n",
       "      <td>-</td>\n",
       "      <td>-</td>\n",
       "    </tr>\n",
       "    <tr>\n",
       "      <th>CPI_all</th>\n",
       "      <td>0.266788</td>\n",
       "      <td>-0.956212</td>\n",
       "      <td>0.753673</td>\n",
       "      <td>0.913226</td>\n",
       "      <td>-</td>\n",
       "    </tr>\n",
       "  </tbody>\n",
       "</table>\n",
       "</div>"
      ],
      "text/plain": [
       "                  Month Unemployment   Queries CPI_energy CPI_all\n",
       "Month                 -            -         -          -       -\n",
       "Unemployment  -0.203603            -         -          -       -\n",
       "Queries       0.0158443    -0.641109         -          -       -\n",
       "CPI_energy      0.17602    -0.800719  0.832838          -       -\n",
       "CPI_all        0.266788    -0.956212  0.753673   0.913226       -"
      ]
     },
     "execution_count": 22,
     "metadata": {},
     "output_type": "execute_result"
    }
   ],
   "source": [
    "df_corr = df_train[['Month','Unemployment','Queries','CPI_energy','CPI_all']].corr()\n",
    "df_corr.where(~np.triu(np.ones(df_corr.shape)).astype(np.bool)).fillna('-')"
   ]
  },
  {
   "cell_type": "markdown",
   "metadata": {},
   "source": [
    "**Problem 6.1 - A Reduced Model**\n",
    "\n",
    "0 points possible (ungraded)\n",
    "Let us now simplify our model (the model using the factor version of the\n",
    "Month variable). We will do this by iteratively removing variables, one at\n",
    "a time. Remove the variable with the highest p-value (i.e., the least\n",
    "statistically significant variable) from the model. Repeat this until there\n",
    "are no variables that are insignificant or variables for which all of the\n",
    "factor levels are insignificant. Use a threshold of 0.10 to determine\n",
    "whether a variable is significant.\n",
    "\n",
    "Which variables, and in what order, are removed by this process?"
   ]
  },
  {
   "cell_type": "code",
   "execution_count": 23,
   "metadata": {
    "collapsed": false
   },
   "outputs": [],
   "source": [
    "from pandas.stats.api import ols"
   ]
  },
  {
   "cell_type": "code",
   "execution_count": 24,
   "metadata": {
    "collapsed": false
   },
   "outputs": [
    {
     "name": "stderr",
     "output_type": "stream",
     "text": [
      "/home/ramon/anaconda2/lib/python2.7/site-packages/IPython/core/interactiveshell.py:2881: FutureWarning: The pandas.stats.ols module is deprecated and will be removed in a future version. We refer to external packages like statsmodels, see some examples here: http://statsmodels.sourceforge.net/stable/regression.html\n",
      "  exec(code_obj, self.user_global_ns, self.user_ns)\n"
     ]
    }
   ],
   "source": [
    "res = ols(y=df_train['ElantraSales'], x=df_train[['Unemployment','Queries','CPI_energy','CPI_all']])"
   ]
  },
  {
   "cell_type": "code",
   "execution_count": 25,
   "metadata": {
    "collapsed": false
   },
   "outputs": [],
   "source": [
    "def select_best_pvalues(df):\n",
    "    predictors = ['Month_2',\n",
    " 'Month_3',\n",
    " 'Month_4',\n",
    " 'Month_5',\n",
    " 'Month_6',\n",
    " 'Month_7',\n",
    " 'Month_8',\n",
    " 'Month_9',\n",
    " 'Month_10',\n",
    " 'Month_11',\n",
    " 'Month_12','Unemployment','Queries','CPI_energy','CPI_all']\n",
    "    \n",
    "   \n",
    "    while len(predictors)>14:\n",
    "        res = ols(y=df['ElantraSales'], x=df[predictors])\n",
    "        print 'Finish OLS, worst pvalues :',res.p_value.idxmax()\n",
    "        predictors.remove(res.p_value.idxmax())"
   ]
  },
  {
   "cell_type": "code",
   "execution_count": 26,
   "metadata": {
    "collapsed": false
   },
   "outputs": [
    {
     "name": "stdout",
     "output_type": "stream",
     "text": [
      "Finish OLS, worst pvalues : Queries\n"
     ]
    },
    {
     "name": "stderr",
     "output_type": "stream",
     "text": [
      "/home/ramon/anaconda2/lib/python2.7/site-packages/ipykernel/__main__.py:1: FutureWarning: The pandas.stats.ols module is deprecated and will be removed in a future version. We refer to external packages like statsmodels, see some examples here: http://statsmodels.sourceforge.net/stable/regression.html\n",
      "  if __name__ == '__main__':\n"
     ]
    }
   ],
   "source": [
    "select_best_pvalues(df_train_leveled)"
   ]
  },
  {
   "cell_type": "markdown",
   "metadata": {},
   "source": [
    "** Problem 6.2 - Test Set Predictions **\n",
    "\n",
    "0 points possible (ungraded)\n",
    "\n",
    "Using the model from Problem 6.1, make predictions on the test set.\n",
    "What is the sum of squared errors of the model on the test set?"
   ]
  },
  {
   "cell_type": "code",
   "execution_count": 27,
   "metadata": {
    "collapsed": false
   },
   "outputs": [
    {
     "name": "stderr",
     "output_type": "stream",
     "text": [
      "/home/ramon/anaconda2/lib/python2.7/site-packages/ipykernel/__main__.py:1: SettingWithCopyWarning: \n",
      "A value is trying to be set on a copy of a slice from a DataFrame.\n",
      "Try using .loc[row_indexer,col_indexer] = value instead\n",
      "\n",
      "See the caveats in the documentation: http://pandas.pydata.org/pandas-docs/stable/indexing.html#indexing-view-versus-copy\n",
      "  if __name__ == '__main__':\n"
     ]
    }
   ],
   "source": [
    "df_test['category_month'] =  df_test['Month'].astype('category')"
   ]
  },
  {
   "cell_type": "code",
   "execution_count": 28,
   "metadata": {
    "collapsed": true
   },
   "outputs": [],
   "source": [
    "features = ['category_month','Unemployment','CPI_energy','CPI_all']"
   ]
  },
  {
   "cell_type": "code",
   "execution_count": 29,
   "metadata": {
    "collapsed": false
   },
   "outputs": [],
   "source": [
    "model = smf.ols('ElantraSales ~  category_month +Unemployment+CPI_energy+CPI_all',data=df_train)\n",
    "result = model.fit()"
   ]
  },
  {
   "cell_type": "code",
   "execution_count": 30,
   "metadata": {
    "collapsed": false
   },
   "outputs": [
    {
     "name": "stderr",
     "output_type": "stream",
     "text": [
      "/home/ramon/anaconda2/lib/python2.7/site-packages/ipykernel/__main__.py:1: SettingWithCopyWarning: \n",
      "A value is trying to be set on a copy of a slice from a DataFrame.\n",
      "Try using .loc[row_indexer,col_indexer] = value instead\n",
      "\n",
      "See the caveats in the documentation: http://pandas.pydata.org/pandas-docs/stable/indexing.html#indexing-view-versus-copy\n",
      "  if __name__ == '__main__':\n",
      "/home/ramon/anaconda2/lib/python2.7/site-packages/ipykernel/__main__.py:2: SettingWithCopyWarning: \n",
      "A value is trying to be set on a copy of a slice from a DataFrame.\n",
      "Try using .loc[row_indexer,col_indexer] = value instead\n",
      "\n",
      "See the caveats in the documentation: http://pandas.pydata.org/pandas-docs/stable/indexing.html#indexing-view-versus-copy\n",
      "  from ipykernel import kernelapp as app\n",
      "/home/ramon/anaconda2/lib/python2.7/site-packages/ipykernel/__main__.py:5: SettingWithCopyWarning: \n",
      "A value is trying to be set on a copy of a slice from a DataFrame.\n",
      "Try using .loc[row_indexer,col_indexer] = value instead\n",
      "\n",
      "See the caveats in the documentation: http://pandas.pydata.org/pandas-docs/stable/indexing.html#indexing-view-versus-copy\n"
     ]
    },
    {
     "name": "stdout",
     "output_type": "stream",
     "text": [
      "SSE 190757747.444\n"
     ]
    },
    {
     "data": {
      "image/png": "[encoded data removed]",
      "text/plain": [
       "<matplotlib.figure.Figure at 0x7f1b6ddcecd0>"
      ]
     },
     "metadata": {},
     "output_type": "display_data"
    }
   ],
   "source": [
    "df_test['prediction']=result.predict(df_test[features])\n",
    "df_test['Year_Month']=df_test.apply(lambda x : str(x.Year)+'-'+str(x.Month),axis=1)\n",
    "df_test.set_index('Year_Month', inplace=True)\n",
    "df_test[['ElantraSales','prediction']].plot()\n",
    "df_test['SE']= np.square(df_test.ElantraSales-df_test.prediction)\n",
    "print 'SSE',df_test.SE.sum()"
   ]
  },
  {
   "cell_type": "markdown",
   "metadata": {},
   "source": [
    "** Problem 6.3 - Comparing to a Baseline **\n",
    "\n",
    "0 points possible (ungraded)\n",
    "What would the baseline method predict for all observations in the test\n",
    "set? Remember that the baseline method we use predicts the average\n",
    "outcome of all observations in the training set."
   ]
  },
  {
   "cell_type": "code",
   "execution_count": 31,
   "metadata": {
    "collapsed": false
   },
   "outputs": [
    {
     "data": {
      "text/plain": [
       "14462.25"
      ]
     },
     "execution_count": 31,
     "metadata": {},
     "output_type": "execute_result"
    }
   ],
   "source": [
    "df_train.ElantraSales.mean()"
   ]
  },
  {
   "cell_type": "markdown",
   "metadata": {},
   "source": [
    "** Problem 6.4 - Test Set R-Squared**\n",
    "\n",
    "0 points possible (ungraded)\n",
    "What is the test set R-Squared?"
   ]
  },
  {
   "cell_type": "code",
   "execution_count": 32,
   "metadata": {
    "collapsed": false
   },
   "outputs": [
    {
     "data": {
      "text/plain": [
       "<matplotlib.axes._subplots.AxesSubplot at 0x7f1b753934d0>"
      ]
     },
     "execution_count": 32,
     "metadata": {},
     "output_type": "execute_result"
    },
    {
     "data": {
      "image/png": "[encoded data removed]",
      "text/plain": [
       "<matplotlib.figure.Figure at 0x7f1b756aa190>"
      ]
     },
     "metadata": {},
     "output_type": "display_data"
    }
   ],
   "source": [
    "df_test.ElantraSales.plot()"
   ]
  },
  {
   "cell_type": "code",
   "execution_count": 35,
   "metadata": {
    "collapsed": false
   },
   "outputs": [
    {
     "name": "stdout",
     "output_type": "stream",
     "text": [
      "0.728023227629\n"
     ]
    }
   ],
   "source": [
    "R2 = 1-df_test.SE.sum()/np.sum(np.square(df_test.ElantraSales-df_train.ElantraSales.mean()))\n",
    "print R2"
   ]
  },
  {
   "cell_type": "markdown",
   "metadata": {},
   "source": [
    "** Problem 6.5 - Absolute Errors **\n",
    "\n",
    "0 points possible (ungraded)\n",
    "What is the largest absolute error that we make in our test set\n",
    "predictions?"
   ]
  },
  {
   "cell_type": "code",
   "execution_count": 34,
   "metadata": {
    "collapsed": false
   },
   "outputs": [
    {
     "name": "stdout",
     "output_type": "stream",
     "text": [
      "7491.48769271\n",
      "2013-3\n"
     ]
    }
   ],
   "source": [
    "print np.sqrt(df_test.SE).max()\n",
    "print df_test.SE.idxmax()"
   ]
  }
 ],
 "metadata": {
  "anaconda-cloud": {},
  "kernelspec": {
   "display_name": "Python [conda root]",
   "language": "python",
   "name": "conda-root-py"
  },
  "language_info": {
   "codemirror_mode": {
    "name": "ipython",
    "version": 2
   },
   "file_extension": ".py",
   "mimetype": "text/x-python",
   "name": "python",
   "nbconvert_exporter": "python",
   "pygments_lexer": "ipython2",
   "version": "2.7.12"
  }
 },
 "nbformat": 4,
 "nbformat_minor": 1
}
