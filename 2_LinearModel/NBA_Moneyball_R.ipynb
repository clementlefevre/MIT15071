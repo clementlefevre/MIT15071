{
 "cells": [
  {
   "cell_type": "code",
   "execution_count": 2,
   "metadata": {
    "collapsed": true
   },
   "outputs": [],
   "source": [
    "df_train = read.csv('NBA_train.csv')\n",
    "df_test = read.csv('NBA_test.csv')"
   ]
  },
  {
   "cell_type": "code",
   "execution_count": 3,
   "metadata": {
    "collapsed": false
   },
   "outputs": [
    {
     "data": {
      "text/html": [
       "<table>\n",
       "<thead><tr><th scope=col>SeasonEnd</th><th scope=col>Team</th><th scope=col>Playoffs</th><th scope=col>W</th><th scope=col>PTS</th><th scope=col>oppPTS</th><th scope=col>FG</th><th scope=col>FGA</th><th scope=col>X2P</th><th scope=col>X2PA</th><th scope=col>X3P</th><th scope=col>X3PA</th><th scope=col>FT</th><th scope=col>FTA</th><th scope=col>ORB</th><th scope=col>DRB</th><th scope=col>AST</th><th scope=col>STL</th><th scope=col>BLK</th><th scope=col>TOV</th></tr></thead>\n",
       "<tbody>\n",
       "\t<tr><td>1980               </td><td>Atlanta Hawks      </td><td>1                  </td><td>50                 </td><td>8573               </td><td>8334               </td><td>3261               </td><td>7027               </td><td>3248               </td><td>6952               </td><td> 13                </td><td> 75                </td><td>2038               </td><td>2645               </td><td>1369               </td><td>2406               </td><td>1913               </td><td>782                </td><td>539                </td><td>1495               </td></tr>\n",
       "\t<tr><td>1980               </td><td>Boston Celtics     </td><td>1                  </td><td>61                 </td><td>9303               </td><td>8664               </td><td>3617               </td><td>7387               </td><td>3455               </td><td>6965               </td><td>162                </td><td>422                </td><td>1907               </td><td>2449               </td><td>1227               </td><td>2457               </td><td>2198               </td><td>809                </td><td>308                </td><td>1539               </td></tr>\n",
       "\t<tr><td>1980               </td><td>Chicago Bulls      </td><td>0                  </td><td>30                 </td><td>8813               </td><td>9035               </td><td>3362               </td><td>6943               </td><td>3292               </td><td>6668               </td><td> 70                </td><td>275                </td><td>2019               </td><td>2592               </td><td>1115               </td><td>2465               </td><td>2152               </td><td>704                </td><td>392                </td><td>1684               </td></tr>\n",
       "\t<tr><td>1980               </td><td>Cleveland Cavaliers</td><td>0                  </td><td>37                 </td><td>9360               </td><td>9332               </td><td>3811               </td><td>8041               </td><td>3775               </td><td>7854               </td><td> 36                </td><td>187                </td><td>1702               </td><td>2205               </td><td>1307               </td><td>2381               </td><td>2108               </td><td>764                </td><td>342                </td><td>1370               </td></tr>\n",
       "\t<tr><td>1980               </td><td>Denver Nuggets     </td><td>0                  </td><td>30                 </td><td>8878               </td><td>9240               </td><td>3462               </td><td>7470               </td><td>3379               </td><td>7215               </td><td> 83                </td><td>255                </td><td>1871               </td><td>2539               </td><td>1311               </td><td>2524               </td><td>2079               </td><td>746                </td><td>404                </td><td>1533               </td></tr>\n",
       "\t<tr><td>1980               </td><td>Detroit Pistons    </td><td>0                  </td><td>16                 </td><td>8933               </td><td>9609               </td><td>3643               </td><td>7596               </td><td>3586               </td><td>7377               </td><td> 57                </td><td>219                </td><td>1590               </td><td>2149               </td><td>1226               </td><td>2415               </td><td>1950               </td><td>783                </td><td>562                </td><td>1742               </td></tr>\n",
       "</tbody>\n",
       "</table>\n"
      ],
      "text/latex": [
       "\\begin{tabular}{r|llllllllllllllllllll}\n",
       " SeasonEnd & Team & Playoffs & W & PTS & oppPTS & FG & FGA & X2P & X2PA & X3P & X3PA & FT & FTA & ORB & DRB & AST & STL & BLK & TOV\\\\\n",
       "\\hline\n",
       "\t 1980                & Atlanta Hawks       & 1                   & 50                  & 8573                & 8334                & 3261                & 7027                & 3248                & 6952                &  13                 &  75                 & 2038                & 2645                & 1369                & 2406                & 1913                & 782                 & 539                 & 1495               \\\\\n",
       "\t 1980                & Boston Celtics      & 1                   & 61                  & 9303                & 8664                & 3617                & 7387                & 3455                & 6965                & 162                 & 422                 & 1907                & 2449                & 1227                & 2457                & 2198                & 809                 & 308                 & 1539               \\\\\n",
       "\t 1980                & Chicago Bulls       & 0                   & 30                  & 8813                & 9035                & 3362                & 6943                & 3292                & 6668                &  70                 & 275                 & 2019                & 2592                & 1115                & 2465                & 2152                & 704                 & 392                 & 1684               \\\\\n",
       "\t 1980                & Cleveland Cavaliers & 0                   & 37                  & 9360                & 9332                & 3811                & 8041                & 3775                & 7854                &  36                 & 187                 & 1702                & 2205                & 1307                & 2381                & 2108                & 764                 & 342                 & 1370               \\\\\n",
       "\t 1980                & Denver Nuggets      & 0                   & 30                  & 8878                & 9240                & 3462                & 7470                & 3379                & 7215                &  83                 & 255                 & 1871                & 2539                & 1311                & 2524                & 2079                & 746                 & 404                 & 1533               \\\\\n",
       "\t 1980                & Detroit Pistons     & 0                   & 16                  & 8933                & 9609                & 3643                & 7596                & 3586                & 7377                &  57                 & 219                 & 1590                & 2149                & 1226                & 2415                & 1950                & 783                 & 562                 & 1742               \\\\\n",
       "\\end{tabular}\n"
      ],
      "text/markdown": [
       "\n",
       "SeasonEnd | Team | Playoffs | W | PTS | oppPTS | FG | FGA | X2P | X2PA | X3P | X3PA | FT | FTA | ORB | DRB | AST | STL | BLK | TOV | \n",
       "|---|---|---|---|---|---|\n",
       "| 1980                | Atlanta Hawks       | 1                   | 50                  | 8573                | 8334                | 3261                | 7027                | 3248                | 6952                |  13                 |  75                 | 2038                | 2645                | 1369                | 2406                | 1913                | 782                 | 539                 | 1495                | \n",
       "| 1980                | Boston Celtics      | 1                   | 61                  | 9303                | 8664                | 3617                | 7387                | 3455                | 6965                | 162                 | 422                 | 1907                | 2449                | 1227                | 2457                | 2198                | 809                 | 308                 | 1539                | \n",
       "| 1980                | Chicago Bulls       | 0                   | 30                  | 8813                | 9035                | 3362                | 6943                | 3292                | 6668                |  70                 | 275                 | 2019                | 2592                | 1115                | 2465                | 2152                | 704                 | 392                 | 1684                | \n",
       "| 1980                | Cleveland Cavaliers | 0                   | 37                  | 9360                | 9332                | 3811                | 8041                | 3775                | 7854                |  36                 | 187                 | 1702                | 2205                | 1307                | 2381                | 2108                | 764                 | 342                 | 1370                | \n",
       "| 1980                | Denver Nuggets      | 0                   | 30                  | 8878                | 9240                | 3462                | 7470                | 3379                | 7215                |  83                 | 255                 | 1871                | 2539                | 1311                | 2524                | 2079                | 746                 | 404                 | 1533                | \n",
       "| 1980                | Detroit Pistons     | 0                   | 16                  | 8933                | 9609                | 3643                | 7596                | 3586                | 7377                |  57                 | 219                 | 1590                | 2149                | 1226                | 2415                | 1950                | 783                 | 562                 | 1742                | \n",
       "\n",
       "\n"
      ],
      "text/plain": [
       "  SeasonEnd Team                Playoffs W  PTS  oppPTS FG   FGA  X2P  X2PA X3P\n",
       "1 1980      Atlanta Hawks       1        50 8573 8334   3261 7027 3248 6952  13\n",
       "2 1980      Boston Celtics      1        61 9303 8664   3617 7387 3455 6965 162\n",
       "3 1980      Chicago Bulls       0        30 8813 9035   3362 6943 3292 6668  70\n",
       "4 1980      Cleveland Cavaliers 0        37 9360 9332   3811 8041 3775 7854  36\n",
       "5 1980      Denver Nuggets      0        30 8878 9240   3462 7470 3379 7215  83\n",
       "6 1980      Detroit Pistons     0        16 8933 9609   3643 7596 3586 7377  57\n",
       "  X3PA FT   FTA  ORB  DRB  AST  STL BLK TOV \n",
       "1  75  2038 2645 1369 2406 1913 782 539 1495\n",
       "2 422  1907 2449 1227 2457 2198 809 308 1539\n",
       "3 275  2019 2592 1115 2465 2152 704 392 1684\n",
       "4 187  1702 2205 1307 2381 2108 764 342 1370\n",
       "5 255  1871 2539 1311 2524 2079 746 404 1533\n",
       "6 219  1590 2149 1226 2415 1950 783 562 1742"
      ]
     },
     "metadata": {},
     "output_type": "display_data"
    }
   ],
   "source": [
    "head(df_train)"
   ]
  },
  {
   "cell_type": "code",
   "execution_count": null,
   "metadata": {
    "collapsed": true
   },
   "outputs": [],
   "source": []
  }
 ],
 "metadata": {
  "anaconda-cloud": {},
  "kernelspec": {
   "display_name": "R",
   "language": "R",
   "name": "ir"
  },
  "language_info": {
   "codemirror_mode": "r",
   "file_extension": ".r",
   "mimetype": "text/x-r-source",
   "name": "R",
   "pygments_lexer": "r",
   "version": "3.3.2"
  }
 },
 "nbformat": 4,
 "nbformat_minor": 1
}
