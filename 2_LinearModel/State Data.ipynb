{
 "cells": [
  {
   "cell_type": "code",
   "execution_count": 129,
   "metadata": {
    "collapsed": true
   },
   "outputs": [],
   "source": [
    "%matplotlib inline\n",
    "import numpy as np\n",
    "import pandas as pd\n",
    "import matplotlib.pyplot as plt\n",
    "import seaborn as sns\n",
    "from math import pow,exp\n",
    "from sklearn.linear_model import LinearRegression\n",
    "from pandas.tools.plotting import scatter_matrix\n",
    "from sklearn.metrics import mean_squared_error\n",
    "from sklearn.feature_selection import f_regression,chi2\n",
    "import statsmodels.formula.api as smf"
   ]
  },
  {
   "cell_type": "code",
   "execution_count": 109,
   "metadata": {
    "collapsed": false
   },
   "outputs": [
    {
     "data": {
      "text/html": [
       "<div>\n",
       "<table border=\"1\" class=\"dataframe\">\n",
       "  <thead>\n",
       "    <tr style=\"text-align: right;\">\n",
       "      <th></th>\n",
       "      <th>Population</th>\n",
       "      <th>Income</th>\n",
       "      <th>Illiteracy</th>\n",
       "      <th>Life.Exp</th>\n",
       "      <th>Murder</th>\n",
       "      <th>HS.Grad</th>\n",
       "      <th>Frost</th>\n",
       "      <th>Area</th>\n",
       "      <th>state.abb</th>\n",
       "      <th>state.area</th>\n",
       "      <th>x</th>\n",
       "      <th>y</th>\n",
       "      <th>state.division</th>\n",
       "      <th>state.name</th>\n",
       "      <th>state.region</th>\n",
       "    </tr>\n",
       "  </thead>\n",
       "  <tbody>\n",
       "    <tr>\n",
       "      <th>0</th>\n",
       "      <td>3615</td>\n",
       "      <td>3624</td>\n",
       "      <td>2.1</td>\n",
       "      <td>69.05</td>\n",
       "      <td>15.1</td>\n",
       "      <td>41.3</td>\n",
       "      <td>20</td>\n",
       "      <td>50708</td>\n",
       "      <td>AL</td>\n",
       "      <td>51609</td>\n",
       "      <td>-86.7509</td>\n",
       "      <td>32.5901</td>\n",
       "      <td>East South Central</td>\n",
       "      <td>Alabama</td>\n",
       "      <td>South</td>\n",
       "    </tr>\n",
       "    <tr>\n",
       "      <th>1</th>\n",
       "      <td>365</td>\n",
       "      <td>6315</td>\n",
       "      <td>1.5</td>\n",
       "      <td>69.31</td>\n",
       "      <td>11.3</td>\n",
       "      <td>66.7</td>\n",
       "      <td>152</td>\n",
       "      <td>566432</td>\n",
       "      <td>AK</td>\n",
       "      <td>589757</td>\n",
       "      <td>-127.2500</td>\n",
       "      <td>49.2500</td>\n",
       "      <td>Pacific</td>\n",
       "      <td>Alaska</td>\n",
       "      <td>West</td>\n",
       "    </tr>\n",
       "    <tr>\n",
       "      <th>2</th>\n",
       "      <td>2212</td>\n",
       "      <td>4530</td>\n",
       "      <td>1.8</td>\n",
       "      <td>70.55</td>\n",
       "      <td>7.8</td>\n",
       "      <td>58.1</td>\n",
       "      <td>15</td>\n",
       "      <td>113417</td>\n",
       "      <td>AZ</td>\n",
       "      <td>113909</td>\n",
       "      <td>-111.6250</td>\n",
       "      <td>34.2192</td>\n",
       "      <td>Mountain</td>\n",
       "      <td>Arizona</td>\n",
       "      <td>West</td>\n",
       "    </tr>\n",
       "    <tr>\n",
       "      <th>3</th>\n",
       "      <td>2110</td>\n",
       "      <td>3378</td>\n",
       "      <td>1.9</td>\n",
       "      <td>70.66</td>\n",
       "      <td>10.1</td>\n",
       "      <td>39.9</td>\n",
       "      <td>65</td>\n",
       "      <td>51945</td>\n",
       "      <td>AR</td>\n",
       "      <td>53104</td>\n",
       "      <td>-92.2992</td>\n",
       "      <td>34.7336</td>\n",
       "      <td>West South Central</td>\n",
       "      <td>Arkansas</td>\n",
       "      <td>South</td>\n",
       "    </tr>\n",
       "    <tr>\n",
       "      <th>4</th>\n",
       "      <td>21198</td>\n",
       "      <td>5114</td>\n",
       "      <td>1.1</td>\n",
       "      <td>71.71</td>\n",
       "      <td>10.3</td>\n",
       "      <td>62.6</td>\n",
       "      <td>20</td>\n",
       "      <td>156361</td>\n",
       "      <td>CA</td>\n",
       "      <td>158693</td>\n",
       "      <td>-119.7730</td>\n",
       "      <td>36.5341</td>\n",
       "      <td>Pacific</td>\n",
       "      <td>California</td>\n",
       "      <td>West</td>\n",
       "    </tr>\n",
       "  </tbody>\n",
       "</table>\n",
       "</div>"
      ],
      "text/plain": [
       "   Population  Income  Illiteracy  Life.Exp  Murder  HS.Grad  Frost    Area  \\\n",
       "0        3615    3624         2.1     69.05    15.1     41.3     20   50708   \n",
       "1         365    6315         1.5     69.31    11.3     66.7    152  566432   \n",
       "2        2212    4530         1.8     70.55     7.8     58.1     15  113417   \n",
       "3        2110    3378         1.9     70.66    10.1     39.9     65   51945   \n",
       "4       21198    5114         1.1     71.71    10.3     62.6     20  156361   \n",
       "\n",
       "  state.abb  state.area         x        y      state.division  state.name  \\\n",
       "0        AL       51609  -86.7509  32.5901  East South Central     Alabama   \n",
       "1        AK      589757 -127.2500  49.2500             Pacific      Alaska   \n",
       "2        AZ      113909 -111.6250  34.2192            Mountain     Arizona   \n",
       "3        AR       53104  -92.2992  34.7336  West South Central    Arkansas   \n",
       "4        CA      158693 -119.7730  36.5341             Pacific  California   \n",
       "\n",
       "  state.region  \n",
       "0        South  \n",
       "1         West  \n",
       "2         West  \n",
       "3        South  \n",
       "4         West  "
      ]
     },
     "execution_count": 109,
     "metadata": {},
     "output_type": "execute_result"
    }
   ],
   "source": [
    "df=pd.read_csv('statedata.csv')\n",
    "df.head()"
   ]
  },
  {
   "cell_type": "code",
   "execution_count": 110,
   "metadata": {
    "collapsed": false
   },
   "outputs": [],
   "source": [
    "df.columns=[col.replace('.','_') for col in df.columns]"
   ]
  },
  {
   "cell_type": "code",
   "execution_count": 111,
   "metadata": {
    "collapsed": false
   },
   "outputs": [
    {
     "data": {
      "text/html": [
       "<div>\n",
       "<table border=\"1\" class=\"dataframe\">\n",
       "  <thead>\n",
       "    <tr style=\"text-align: right;\">\n",
       "      <th></th>\n",
       "      <th>Population</th>\n",
       "      <th>Income</th>\n",
       "      <th>Illiteracy</th>\n",
       "      <th>Life_Exp</th>\n",
       "      <th>Murder</th>\n",
       "      <th>HS_Grad</th>\n",
       "      <th>Frost</th>\n",
       "      <th>Area</th>\n",
       "      <th>state_abb</th>\n",
       "      <th>state_area</th>\n",
       "      <th>x</th>\n",
       "      <th>y</th>\n",
       "      <th>state_division</th>\n",
       "      <th>state_name</th>\n",
       "      <th>state_region</th>\n",
       "    </tr>\n",
       "  </thead>\n",
       "  <tbody>\n",
       "    <tr>\n",
       "      <th>0</th>\n",
       "      <td>3615</td>\n",
       "      <td>3624</td>\n",
       "      <td>2.1</td>\n",
       "      <td>69.05</td>\n",
       "      <td>15.1</td>\n",
       "      <td>41.3</td>\n",
       "      <td>20</td>\n",
       "      <td>50708</td>\n",
       "      <td>AL</td>\n",
       "      <td>51609</td>\n",
       "      <td>-86.7509</td>\n",
       "      <td>32.5901</td>\n",
       "      <td>East South Central</td>\n",
       "      <td>Alabama</td>\n",
       "      <td>South</td>\n",
       "    </tr>\n",
       "    <tr>\n",
       "      <th>1</th>\n",
       "      <td>365</td>\n",
       "      <td>6315</td>\n",
       "      <td>1.5</td>\n",
       "      <td>69.31</td>\n",
       "      <td>11.3</td>\n",
       "      <td>66.7</td>\n",
       "      <td>152</td>\n",
       "      <td>566432</td>\n",
       "      <td>AK</td>\n",
       "      <td>589757</td>\n",
       "      <td>-127.2500</td>\n",
       "      <td>49.2500</td>\n",
       "      <td>Pacific</td>\n",
       "      <td>Alaska</td>\n",
       "      <td>West</td>\n",
       "    </tr>\n",
       "    <tr>\n",
       "      <th>2</th>\n",
       "      <td>2212</td>\n",
       "      <td>4530</td>\n",
       "      <td>1.8</td>\n",
       "      <td>70.55</td>\n",
       "      <td>7.8</td>\n",
       "      <td>58.1</td>\n",
       "      <td>15</td>\n",
       "      <td>113417</td>\n",
       "      <td>AZ</td>\n",
       "      <td>113909</td>\n",
       "      <td>-111.6250</td>\n",
       "      <td>34.2192</td>\n",
       "      <td>Mountain</td>\n",
       "      <td>Arizona</td>\n",
       "      <td>West</td>\n",
       "    </tr>\n",
       "    <tr>\n",
       "      <th>3</th>\n",
       "      <td>2110</td>\n",
       "      <td>3378</td>\n",
       "      <td>1.9</td>\n",
       "      <td>70.66</td>\n",
       "      <td>10.1</td>\n",
       "      <td>39.9</td>\n",
       "      <td>65</td>\n",
       "      <td>51945</td>\n",
       "      <td>AR</td>\n",
       "      <td>53104</td>\n",
       "      <td>-92.2992</td>\n",
       "      <td>34.7336</td>\n",
       "      <td>West South Central</td>\n",
       "      <td>Arkansas</td>\n",
       "      <td>South</td>\n",
       "    </tr>\n",
       "    <tr>\n",
       "      <th>4</th>\n",
       "      <td>21198</td>\n",
       "      <td>5114</td>\n",
       "      <td>1.1</td>\n",
       "      <td>71.71</td>\n",
       "      <td>10.3</td>\n",
       "      <td>62.6</td>\n",
       "      <td>20</td>\n",
       "      <td>156361</td>\n",
       "      <td>CA</td>\n",
       "      <td>158693</td>\n",
       "      <td>-119.7730</td>\n",
       "      <td>36.5341</td>\n",
       "      <td>Pacific</td>\n",
       "      <td>California</td>\n",
       "      <td>West</td>\n",
       "    </tr>\n",
       "  </tbody>\n",
       "</table>\n",
       "</div>"
      ],
      "text/plain": [
       "   Population  Income  Illiteracy  Life_Exp  Murder  HS_Grad  Frost    Area  \\\n",
       "0        3615    3624         2.1     69.05    15.1     41.3     20   50708   \n",
       "1         365    6315         1.5     69.31    11.3     66.7    152  566432   \n",
       "2        2212    4530         1.8     70.55     7.8     58.1     15  113417   \n",
       "3        2110    3378         1.9     70.66    10.1     39.9     65   51945   \n",
       "4       21198    5114         1.1     71.71    10.3     62.6     20  156361   \n",
       "\n",
       "  state_abb  state_area         x        y      state_division  state_name  \\\n",
       "0        AL       51609  -86.7509  32.5901  East South Central     Alabama   \n",
       "1        AK      589757 -127.2500  49.2500             Pacific      Alaska   \n",
       "2        AZ      113909 -111.6250  34.2192            Mountain     Arizona   \n",
       "3        AR       53104  -92.2992  34.7336  West South Central    Arkansas   \n",
       "4        CA      158693 -119.7730  36.5341             Pacific  California   \n",
       "\n",
       "  state_region  \n",
       "0        South  \n",
       "1         West  \n",
       "2         West  \n",
       "3        South  \n",
       "4         West  "
      ]
     },
     "execution_count": 111,
     "metadata": {},
     "output_type": "execute_result"
    }
   ],
   "source": [
    "df.head()"
   ]
  },
  {
   "cell_type": "markdown",
   "metadata": {},
   "source": [
    "**Problem 1.1 - Data Exploration**\n",
    "\n",
    "0 points possible (ungraded)\n",
    "\n",
    "We begin by exploring the data. Plot all of the states' centers with latitude on the y axis (the \"y\" variable in our dataset) and longitude on the x axis (the \"x\" variable in our dataset). The shape of the plot should look like the outline of the United States! Note that Alaska and Hawaii have had their coordinates adjusted to appear just off of the west coast.\n",
    "\n",
    "In the R command you used to generate this plot, which variable name did you use as the first argument?"
   ]
  },
  {
   "cell_type": "code",
   "execution_count": 112,
   "metadata": {
    "collapsed": false
   },
   "outputs": [
    {
     "data": {
      "text/plain": [
       "<matplotlib.axes._subplots.AxesSubplot at 0x7f20370fee10>"
      ]
     },
     "execution_count": 112,
     "metadata": {},
     "output_type": "execute_result"
    },
    {
     "data": {
      "image/png": "[encoded data removed]",
      "text/plain": [
       "<matplotlib.figure.Figure at 0x7f2037136350>"
      ]
     },
     "metadata": {},
     "output_type": "display_data"
    }
   ],
   "source": [
    "df.plot.scatter(x='x',y='y')"
   ]
  },
  {
   "cell_type": "markdown",
   "metadata": {},
   "source": [
    "**Problem 1.2 - Data Exploration**\n",
    "\n",
    "0 points possible (ungraded)\n",
    "\n",
    "Using the tapply command, determine which region of the US (West,\n",
    "North Central, South, or Northeast) has the highest average high school\n",
    "graduation rate of all the states in the region:"
   ]
  },
  {
   "cell_type": "code",
   "execution_count": 113,
   "metadata": {
    "collapsed": false
   },
   "outputs": [
    {
     "data": {
      "text/html": [
       "<div>\n",
       "<table border=\"1\" class=\"dataframe\">\n",
       "  <thead>\n",
       "    <tr style=\"text-align: right;\">\n",
       "      <th></th>\n",
       "      <th>HS_Grad</th>\n",
       "    </tr>\n",
       "    <tr>\n",
       "      <th>state_region</th>\n",
       "      <th></th>\n",
       "    </tr>\n",
       "  </thead>\n",
       "  <tbody>\n",
       "    <tr>\n",
       "      <th>North Central</th>\n",
       "      <td>54.516667</td>\n",
       "    </tr>\n",
       "    <tr>\n",
       "      <th>Northeast</th>\n",
       "      <td>53.966667</td>\n",
       "    </tr>\n",
       "    <tr>\n",
       "      <th>South</th>\n",
       "      <td>44.343750</td>\n",
       "    </tr>\n",
       "    <tr>\n",
       "      <th>West</th>\n",
       "      <td>62.000000</td>\n",
       "    </tr>\n",
       "  </tbody>\n",
       "</table>\n",
       "</div>"
      ],
      "text/plain": [
       "                 HS_Grad\n",
       "state_region            \n",
       "North Central  54.516667\n",
       "Northeast      53.966667\n",
       "South          44.343750\n",
       "West           62.000000"
      ]
     },
     "execution_count": 113,
     "metadata": {},
     "output_type": "execute_result"
    }
   ],
   "source": [
    "df.groupby('state_region')[['HS_Grad']].mean()"
   ]
  },
  {
   "cell_type": "markdown",
   "metadata": {},
   "source": [
    "**Problem 1.3 - Data Exploration**\n",
    "\n",
    "0 points possible (ungraded)\n",
    "\n",
    "Now, make a boxplot of the murder rate by region (for more information\n",
    "about creating boxplots in R, type ?boxplot in your console).\n",
    "Which region has the highest median murder rate?"
   ]
  },
  {
   "cell_type": "code",
   "execution_count": 114,
   "metadata": {
    "collapsed": false
   },
   "outputs": [
    {
     "data": {
      "text/plain": [
       "<matplotlib.axes._subplots.AxesSubplot at 0x7f2036cf12d0>"
      ]
     },
     "execution_count": 114,
     "metadata": {},
     "output_type": "execute_result"
    },
    {
     "data": {
      "image/png": "[encoded data removed]",
      "text/plain": [
       "<matplotlib.figure.Figure at 0x7f2036be1e50>"
      ]
     },
     "metadata": {},
     "output_type": "display_data"
    }
   ],
   "source": [
    "df.boxplot('Murder',by='state_region')"
   ]
  },
  {
   "cell_type": "markdown",
   "metadata": {},
   "source": [
    "**Problem 1.4 - Data Exploration**\n",
    "\n",
    "0 points possible (ungraded)\n",
    "\n",
    "You should see that there is an outlier in the Northeast region of the\n",
    "boxplot you just generated. Which state does this correspond to? (Hint:\n",
    "There are many ways to find the answer to this question, but one way is\n",
    "to use the subset command to only look at the Northeast data.)"
   ]
  },
  {
   "cell_type": "code",
   "execution_count": 115,
   "metadata": {
    "collapsed": false
   },
   "outputs": [
    {
     "data": {
      "text/plain": [
       "<matplotlib.axes._subplots.AxesSubplot at 0x7f2036ac5150>"
      ]
     },
     "execution_count": 115,
     "metadata": {},
     "output_type": "execute_result"
    },
    {
     "data": {
      "image/png": "[encoded data removed]",
      "text/plain": [
       "<matplotlib.figure.Figure at 0x7f2036be1310>"
      ]
     },
     "metadata": {},
     "output_type": "display_data"
    }
   ],
   "source": [
    "df[df['state_region']=='Northeast'].set_index('state_name')['Murder'].plot(kind='barh')"
   ]
  },
  {
   "cell_type": "code",
   "execution_count": 116,
   "metadata": {
    "collapsed": false
   },
   "outputs": [
    {
     "data": {
      "text/plain": [
       "Population                  18076\n",
       "Income                       4903\n",
       "Illiteracy                    1.4\n",
       "Life_Exp                    70.55\n",
       "Murder                       10.9\n",
       "HS_Grad                      52.7\n",
       "Frost                          82\n",
       "Area                        47831\n",
       "state_abb                      NY\n",
       "state_area                  49576\n",
       "x                        -75.1449\n",
       "y                         43.1361\n",
       "state_division    Middle Atlantic\n",
       "state_name               New York\n",
       "state_region            Northeast\n",
       "Name: 31, dtype: object"
      ]
     },
     "execution_count": 116,
     "metadata": {},
     "output_type": "execute_result"
    }
   ],
   "source": [
    "df.loc[df[df['state_region']=='Northeast']['Murder'].idxmax()]"
   ]
  },
  {
   "cell_type": "markdown",
   "metadata": {},
   "source": [
    "**Problem 2.1 - Predicting Life Expectancy - An Initial Model**\n",
    "\n",
    "0 points possible (ungraded)\n",
    "\n",
    "We would like to build a model to predict life expectancy by state using\n",
    "the state statistics we have in our dataset.\n",
    "Build the model with all potential variables included (Population,\n",
    "Income, Illiteracy, Murder, HS.Grad, Frost, and Area). Note that you\n",
    "should use the variable \"Area\" in your model, NOT the variable\n",
    "\"state.area\".\n",
    "What is the coefficient for \"Income\" in your linear regression model?"
   ]
  },
  {
   "cell_type": "code",
   "execution_count": 117,
   "metadata": {
    "collapsed": false
   },
   "outputs": [],
   "source": [
    "features = [u'Population', u'Income', u'Illiteracy',  u'Murder',\n",
    "       u'HS_Grad', u'Frost', u'Area', ]\n",
    "X = df[features].values\n",
    "y = df['Life_Exp'].values"
   ]
  },
  {
   "cell_type": "code",
   "execution_count": 118,
   "metadata": {
    "collapsed": false
   },
   "outputs": [
    {
     "data": {
      "text/html": [
       "<div>\n",
       "<table border=\"1\" class=\"dataframe\">\n",
       "  <thead>\n",
       "    <tr style=\"text-align: right;\">\n",
       "      <th></th>\n",
       "      <th>0</th>\n",
       "      <th>1</th>\n",
       "    </tr>\n",
       "  </thead>\n",
       "  <tbody>\n",
       "    <tr>\n",
       "      <th>0</th>\n",
       "      <td>Population</td>\n",
       "      <td>5.180036e-05</td>\n",
       "    </tr>\n",
       "    <tr>\n",
       "      <th>1</th>\n",
       "      <td>Income</td>\n",
       "      <td>-2.180424e-05</td>\n",
       "    </tr>\n",
       "    <tr>\n",
       "      <th>2</th>\n",
       "      <td>Illiteracy</td>\n",
       "      <td>3.382032e-02</td>\n",
       "    </tr>\n",
       "    <tr>\n",
       "      <th>3</th>\n",
       "      <td>Murder</td>\n",
       "      <td>-3.011232e-01</td>\n",
       "    </tr>\n",
       "    <tr>\n",
       "      <th>4</th>\n",
       "      <td>HS_Grad</td>\n",
       "      <td>4.892948e-02</td>\n",
       "    </tr>\n",
       "    <tr>\n",
       "      <th>5</th>\n",
       "      <td>Frost</td>\n",
       "      <td>-5.735001e-03</td>\n",
       "    </tr>\n",
       "    <tr>\n",
       "      <th>6</th>\n",
       "      <td>Area</td>\n",
       "      <td>-7.383166e-08</td>\n",
       "    </tr>\n",
       "  </tbody>\n",
       "</table>\n",
       "</div>"
      ],
      "text/plain": [
       "            0             1\n",
       "0  Population  5.180036e-05\n",
       "1      Income -2.180424e-05\n",
       "2  Illiteracy  3.382032e-02\n",
       "3      Murder -3.011232e-01\n",
       "4     HS_Grad  4.892948e-02\n",
       "5       Frost -5.735001e-03\n",
       "6        Area -7.383166e-08"
      ]
     },
     "execution_count": 118,
     "metadata": {},
     "output_type": "execute_result"
    }
   ],
   "source": [
    "clf = LinearRegression()\n",
    "clf.fit(X,y)\n",
    "clf.score(X,y)\n",
    "pd.DataFrame(zip(features, clf.coef_))\n"
   ]
  },
  {
   "cell_type": "markdown",
   "metadata": {},
   "source": [
    "**Problem 2.3 - Predicting Life Expectancy - An Initial Model**\n",
    "\n",
    "0 points possible (ungraded)\n",
    "\n",
    "Now plot a graph of life expectancy vs. income using the command:\n",
    "plot(statedata$Income, statedata$Life.Exp)\n",
    "Visually observe the plot. What appears to be the relationship?"
   ]
  },
  {
   "cell_type": "code",
   "execution_count": 119,
   "metadata": {
    "collapsed": false
   },
   "outputs": [
    {
     "data": {
      "text/plain": [
       "<matplotlib.axes._subplots.AxesSubplot at 0x7f2036a798d0>"
      ]
     },
     "execution_count": 119,
     "metadata": {},
     "output_type": "execute_result"
    },
    {
     "data": {
      "image/png": "[encoded data removed]",
      "text/plain": [
       "<matplotlib.figure.Figure at 0x7f20369a8990>"
      ]
     },
     "metadata": {},
     "output_type": "display_data"
    }
   ],
   "source": [
    "df.plot.scatter('Income','Life_Exp')"
   ]
  },
  {
   "cell_type": "markdown",
   "metadata": {},
   "source": [
    "**Problem 2.4 - Predicting Life Expectancy - An Initial Model**\n",
    "\n",
    "0 points possible (ungraded)\n",
    "The model we built does not display the relationship we saw from the\n",
    "plot of life expectancy vs. income. Which of the following explanations\n",
    "seems the most reasonable?\n",
    "\n",
    "\n",
    "--->Multicollinearity \n",
    "\n",
    "Explanation\n",
    "Although income is an insignificant variable in the model, this does not\n",
    "mean that there is no association between income and life expectancy.\n",
    "However, in the presence of all of the other variables, income does not\n",
    "add statistically significant explanatory power to"
   ]
  },
  {
   "cell_type": "markdown",
   "metadata": {},
   "source": [
    "**Problem 3.1 - Predicting Life Expectancy - Refining the Model**\n",
    "\n",
    "and Analyzing Predictions\n",
    "0 points possible (ungraded)\n",
    "Recall that we discussed the principle of simplicity: that is, a model with\n",
    "fewer variables is preferable to a model with many unnnecessary\n",
    "variables. Experiment with removing independent variables from the\n",
    "original model. Remember to use the significance of the coefficients to\n",
    "decide which variables to remove (remove the one with the largest \"p-\n",
    "value\" first, or the one with the \"t value\" closest to zero), and to remove\n",
    "them one at a time (this is called \"backwards variable selection\"). This is\n",
    "important due to multicollinearity issues - removing one insignificant\n",
    "variable may make another previously insignificant variable become\n",
    "significant.\n",
    "You should be able to find a good model with only 4 independent\n",
    "variables, instead of the original 7. Which variables does this model\n",
    "contain?"
   ]
  },
  {
   "cell_type": "code",
   "execution_count": 120,
   "metadata": {
    "collapsed": false
   },
   "outputs": [
    {
     "name": "stdout",
     "output_type": "stream",
     "text": [
      "[ 69.05  69.31  70.55  70.66  71.71  72.06  72.48  70.06  70.66  68.54\n",
      "  73.6   71.87  70.14  70.88  72.56  72.58  70.1   68.76  70.39  70.22\n",
      "  71.83  70.63  72.96  68.09  70.69  70.56  72.6   69.03  71.23  70.93\n",
      "  70.32  70.55  69.21  72.78  70.82  71.42  72.13  70.43  71.9   67.96\n",
      "  72.08  70.11  70.9   72.9   71.64  70.08  71.72  69.48  72.48  70.29]\n"
     ]
    }
   ],
   "source": [
    "print y"
   ]
  },
  {
   "cell_type": "code",
   "execution_count": 121,
   "metadata": {
    "collapsed": false
   },
   "outputs": [
    {
     "name": "stderr",
     "output_type": "stream",
     "text": [
      "/home/ramon/anaconda2/lib/python2.7/site-packages/ipykernel/__main__.py:12: SettingWithCopyWarning: \n",
      "A value is trying to be set on a copy of a slice from a DataFrame.\n",
      "Try using .loc[row_indexer,col_indexer] = value instead\n",
      "\n",
      "See the caveats in the documentation: http://pandas.pydata.org/pandas-docs/stable/indexing.html#indexing-view-versus-copy\n"
     ]
    }
   ],
   "source": [
    "#simple conversion of step method for R into Python\n",
    "# source http://stackoverflow.com/questions/22428625/does-statsmodels-or-another-python-package-offer-an-equivalent-to-rs-step-f\n",
    "\n",
    "import itertools\n",
    "import numpy as np\n",
    "import pandas as pd\n",
    "import statsmodels.api as sm\n",
    "AICs = {}\n",
    "for k in range(1,len(features)-2):\n",
    "    for variables in itertools.combinations(features, k):\n",
    "        predictors = df[list(variables)]\n",
    "        predictors['Intercept'] = 1\n",
    "        res = sm.OLS(df['Life_Exp'], predictors).fit()\n",
    "        AICs[variables] = 2*(k+1) - 2*res.llf\n",
    "feature_after_ACI = list(pd.Series(AICs).idxmin())"
   ]
  },
  {
   "cell_type": "code",
   "execution_count": 122,
   "metadata": {
    "collapsed": false
   },
   "outputs": [
    {
     "data": {
      "text/plain": [
       "[u'Population', u'Murder', u'HS_Grad', u'Frost']"
      ]
     },
     "execution_count": 122,
     "metadata": {},
     "output_type": "execute_result"
    }
   ],
   "source": [
    "feature_after_ACI"
   ]
  },
  {
   "cell_type": "code",
   "execution_count": 123,
   "metadata": {
    "collapsed": true
   },
   "outputs": [],
   "source": [
    "\n"
   ]
  },
  {
   "cell_type": "code",
   "execution_count": 124,
   "metadata": {
    "collapsed": false
   },
   "outputs": [
    {
     "data": {
      "text/html": [
       "<div>\n",
       "<table border=\"1\" class=\"dataframe\">\n",
       "  <thead>\n",
       "    <tr style=\"text-align: right;\">\n",
       "      <th></th>\n",
       "      <th>Population</th>\n",
       "      <th>Income</th>\n",
       "      <th>Illiteracy</th>\n",
       "      <th>Life_Exp</th>\n",
       "      <th>Murder</th>\n",
       "      <th>HS_Grad</th>\n",
       "      <th>Frost</th>\n",
       "      <th>Area</th>\n",
       "      <th>state_abb</th>\n",
       "      <th>state_area</th>\n",
       "      <th>x</th>\n",
       "      <th>y</th>\n",
       "      <th>state_division</th>\n",
       "      <th>state_name</th>\n",
       "      <th>state_region</th>\n",
       "    </tr>\n",
       "  </thead>\n",
       "  <tbody>\n",
       "    <tr>\n",
       "      <th>0</th>\n",
       "      <td>3615</td>\n",
       "      <td>3624</td>\n",
       "      <td>2.1</td>\n",
       "      <td>69.05</td>\n",
       "      <td>15.1</td>\n",
       "      <td>41.3</td>\n",
       "      <td>20</td>\n",
       "      <td>50708</td>\n",
       "      <td>AL</td>\n",
       "      <td>51609</td>\n",
       "      <td>-86.7509</td>\n",
       "      <td>32.5901</td>\n",
       "      <td>East South Central</td>\n",
       "      <td>Alabama</td>\n",
       "      <td>South</td>\n",
       "    </tr>\n",
       "    <tr>\n",
       "      <th>1</th>\n",
       "      <td>365</td>\n",
       "      <td>6315</td>\n",
       "      <td>1.5</td>\n",
       "      <td>69.31</td>\n",
       "      <td>11.3</td>\n",
       "      <td>66.7</td>\n",
       "      <td>152</td>\n",
       "      <td>566432</td>\n",
       "      <td>AK</td>\n",
       "      <td>589757</td>\n",
       "      <td>-127.2500</td>\n",
       "      <td>49.2500</td>\n",
       "      <td>Pacific</td>\n",
       "      <td>Alaska</td>\n",
       "      <td>West</td>\n",
       "    </tr>\n",
       "    <tr>\n",
       "      <th>2</th>\n",
       "      <td>2212</td>\n",
       "      <td>4530</td>\n",
       "      <td>1.8</td>\n",
       "      <td>70.55</td>\n",
       "      <td>7.8</td>\n",
       "      <td>58.1</td>\n",
       "      <td>15</td>\n",
       "      <td>113417</td>\n",
       "      <td>AZ</td>\n",
       "      <td>113909</td>\n",
       "      <td>-111.6250</td>\n",
       "      <td>34.2192</td>\n",
       "      <td>Mountain</td>\n",
       "      <td>Arizona</td>\n",
       "      <td>West</td>\n",
       "    </tr>\n",
       "    <tr>\n",
       "      <th>3</th>\n",
       "      <td>2110</td>\n",
       "      <td>3378</td>\n",
       "      <td>1.9</td>\n",
       "      <td>70.66</td>\n",
       "      <td>10.1</td>\n",
       "      <td>39.9</td>\n",
       "      <td>65</td>\n",
       "      <td>51945</td>\n",
       "      <td>AR</td>\n",
       "      <td>53104</td>\n",
       "      <td>-92.2992</td>\n",
       "      <td>34.7336</td>\n",
       "      <td>West South Central</td>\n",
       "      <td>Arkansas</td>\n",
       "      <td>South</td>\n",
       "    </tr>\n",
       "    <tr>\n",
       "      <th>4</th>\n",
       "      <td>21198</td>\n",
       "      <td>5114</td>\n",
       "      <td>1.1</td>\n",
       "      <td>71.71</td>\n",
       "      <td>10.3</td>\n",
       "      <td>62.6</td>\n",
       "      <td>20</td>\n",
       "      <td>156361</td>\n",
       "      <td>CA</td>\n",
       "      <td>158693</td>\n",
       "      <td>-119.7730</td>\n",
       "      <td>36.5341</td>\n",
       "      <td>Pacific</td>\n",
       "      <td>California</td>\n",
       "      <td>West</td>\n",
       "    </tr>\n",
       "  </tbody>\n",
       "</table>\n",
       "</div>"
      ],
      "text/plain": [
       "   Population  Income  Illiteracy  Life_Exp  Murder  HS_Grad  Frost    Area  \\\n",
       "0        3615    3624         2.1     69.05    15.1     41.3     20   50708   \n",
       "1         365    6315         1.5     69.31    11.3     66.7    152  566432   \n",
       "2        2212    4530         1.8     70.55     7.8     58.1     15  113417   \n",
       "3        2110    3378         1.9     70.66    10.1     39.9     65   51945   \n",
       "4       21198    5114         1.1     71.71    10.3     62.6     20  156361   \n",
       "\n",
       "  state_abb  state_area         x        y      state_division  state_name  \\\n",
       "0        AL       51609  -86.7509  32.5901  East South Central     Alabama   \n",
       "1        AK      589757 -127.2500  49.2500             Pacific      Alaska   \n",
       "2        AZ      113909 -111.6250  34.2192            Mountain     Arizona   \n",
       "3        AR       53104  -92.2992  34.7336  West South Central    Arkansas   \n",
       "4        CA      158693 -119.7730  36.5341             Pacific  California   \n",
       "\n",
       "  state_region  \n",
       "0        South  \n",
       "1         West  \n",
       "2         West  \n",
       "3        South  \n",
       "4         West  "
      ]
     },
     "execution_count": 124,
     "metadata": {},
     "output_type": "execute_result"
    }
   ],
   "source": [
    "df.head()"
   ]
  },
  {
   "cell_type": "code",
   "execution_count": 125,
   "metadata": {
    "collapsed": false
   },
   "outputs": [],
   "source": [
    "formula = 'Life_Exp ~ '+ '+'.join(features)"
   ]
  },
  {
   "cell_type": "code",
   "execution_count": 126,
   "metadata": {
    "collapsed": false
   },
   "outputs": [
    {
     "data": {
      "text/plain": [
       "u'Life_Exp ~ Population+Income+Illiteracy+Murder+HS_Grad+Frost+Area'"
      ]
     },
     "execution_count": 126,
     "metadata": {},
     "output_type": "execute_result"
    }
   ],
   "source": [
    "formula"
   ]
  },
  {
   "cell_type": "code",
   "execution_count": 133,
   "metadata": {
    "collapsed": false
   },
   "outputs": [
    {
     "data": {
      "text/html": [
       "<table class=\"simpletable\">\n",
       "<caption>OLS Regression Results</caption>\n",
       "<tr>\n",
       "  <th>Dep. Variable:</th>        <td>Life_Exp</td>     <th>  R-squared:         </th> <td>   0.736</td>\n",
       "</tr>\n",
       "<tr>\n",
       "  <th>Model:</th>                   <td>OLS</td>       <th>  Adj. R-squared:    </th> <td>   0.692</td>\n",
       "</tr>\n",
       "<tr>\n",
       "  <th>Method:</th>             <td>Least Squares</td>  <th>  F-statistic:       </th> <td>   16.74</td>\n",
       "</tr>\n",
       "<tr>\n",
       "  <th>Date:</th>             <td>Fri, 17 Feb 2017</td> <th>  Prob (F-statistic):</th> <td>2.53e-10</td>\n",
       "</tr>\n",
       "<tr>\n",
       "  <th>Time:</th>                 <td>15:11:31</td>     <th>  Log-Likelihood:    </th> <td> -51.855</td>\n",
       "</tr>\n",
       "<tr>\n",
       "  <th>No. Observations:</th>      <td>    50</td>      <th>  AIC:               </th> <td>   119.7</td>\n",
       "</tr>\n",
       "<tr>\n",
       "  <th>Df Residuals:</th>          <td>    42</td>      <th>  BIC:               </th> <td>   135.0</td>\n",
       "</tr>\n",
       "<tr>\n",
       "  <th>Df Model:</th>              <td>     7</td>      <th>                     </th>     <td> </td>   \n",
       "</tr>\n",
       "<tr>\n",
       "  <th>Covariance Type:</th>      <td>nonrobust</td>    <th>                     </th>     <td> </td>   \n",
       "</tr>\n",
       "</table>\n",
       "<table class=\"simpletable\">\n",
       "<tr>\n",
       "       <td></td>         <th>coef</th>     <th>std err</th>      <th>t</th>      <th>P>|t|</th> <th>[95.0% Conf. Int.]</th> \n",
       "</tr>\n",
       "<tr>\n",
       "  <th>Intercept</th>  <td>   70.9432</td> <td>    1.748</td> <td>   40.586</td> <td> 0.000</td> <td>   67.416    74.471</td>\n",
       "</tr>\n",
       "<tr>\n",
       "  <th>Population</th> <td>  5.18e-05</td> <td> 2.92e-05</td> <td>    1.775</td> <td> 0.083</td> <td> -7.1e-06     0.000</td>\n",
       "</tr>\n",
       "<tr>\n",
       "  <th>Income</th>     <td> -2.18e-05</td> <td>    0.000</td> <td>   -0.089</td> <td> 0.929</td> <td>   -0.001     0.000</td>\n",
       "</tr>\n",
       "<tr>\n",
       "  <th>Illiteracy</th> <td>    0.0338</td> <td>    0.366</td> <td>    0.092</td> <td> 0.927</td> <td>   -0.705     0.773</td>\n",
       "</tr>\n",
       "<tr>\n",
       "  <th>Murder</th>     <td>   -0.3011</td> <td>    0.047</td> <td>   -6.459</td> <td> 0.000</td> <td>   -0.395    -0.207</td>\n",
       "</tr>\n",
       "<tr>\n",
       "  <th>HS_Grad</th>    <td>    0.0489</td> <td>    0.023</td> <td>    2.098</td> <td> 0.042</td> <td>    0.002     0.096</td>\n",
       "</tr>\n",
       "<tr>\n",
       "  <th>Frost</th>      <td>   -0.0057</td> <td>    0.003</td> <td>   -1.825</td> <td> 0.075</td> <td>   -0.012     0.001</td>\n",
       "</tr>\n",
       "<tr>\n",
       "  <th>Area</th>       <td>-7.383e-08</td> <td> 1.67e-06</td> <td>   -0.044</td> <td> 0.965</td> <td>-3.44e-06  3.29e-06</td>\n",
       "</tr>\n",
       "</table>\n",
       "<table class=\"simpletable\">\n",
       "<tr>\n",
       "  <th>Omnibus:</th>       <td> 2.385</td> <th>  Durbin-Watson:     </th> <td>   1.929</td>\n",
       "</tr>\n",
       "<tr>\n",
       "  <th>Prob(Omnibus):</th> <td> 0.303</td> <th>  Jarque-Bera (JB):  </th> <td>   1.420</td>\n",
       "</tr>\n",
       "<tr>\n",
       "  <th>Skew:</th>          <td>-0.081</td> <th>  Prob(JB):          </th> <td>   0.492</td>\n",
       "</tr>\n",
       "<tr>\n",
       "  <th>Kurtosis:</th>      <td> 2.190</td> <th>  Cond. No.          </th> <td>1.85e+06</td>\n",
       "</tr>\n",
       "</table>"
      ],
      "text/plain": [
       "<class 'statsmodels.iolib.summary.Summary'>\n",
       "\"\"\"\n",
       "                            OLS Regression Results                            \n",
       "==============================================================================\n",
       "Dep. Variable:               Life_Exp   R-squared:                       0.736\n",
       "Model:                            OLS   Adj. R-squared:                  0.692\n",
       "Method:                 Least Squares   F-statistic:                     16.74\n",
       "Date:                Fri, 17 Feb 2017   Prob (F-statistic):           2.53e-10\n",
       "Time:                        15:11:31   Log-Likelihood:                -51.855\n",
       "No. Observations:                  50   AIC:                             119.7\n",
       "Df Residuals:                      42   BIC:                             135.0\n",
       "Df Model:                           7                                         \n",
       "Covariance Type:            nonrobust                                         \n",
       "==============================================================================\n",
       "                 coef    std err          t      P>|t|      [95.0% Conf. Int.]\n",
       "------------------------------------------------------------------------------\n",
       "Intercept     70.9432      1.748     40.586      0.000        67.416    74.471\n",
       "Population   5.18e-05   2.92e-05      1.775      0.083      -7.1e-06     0.000\n",
       "Income      -2.18e-05      0.000     -0.089      0.929        -0.001     0.000\n",
       "Illiteracy     0.0338      0.366      0.092      0.927        -0.705     0.773\n",
       "Murder        -0.3011      0.047     -6.459      0.000        -0.395    -0.207\n",
       "HS_Grad        0.0489      0.023      2.098      0.042         0.002     0.096\n",
       "Frost         -0.0057      0.003     -1.825      0.075        -0.012     0.001\n",
       "Area       -7.383e-08   1.67e-06     -0.044      0.965     -3.44e-06  3.29e-06\n",
       "==============================================================================\n",
       "Omnibus:                        2.385   Durbin-Watson:                   1.929\n",
       "Prob(Omnibus):                  0.303   Jarque-Bera (JB):                1.420\n",
       "Skew:                          -0.081   Prob(JB):                        0.492\n",
       "Kurtosis:                       2.190   Cond. No.                     1.85e+06\n",
       "==============================================================================\n",
       "\n",
       "Warnings:\n",
       "[1] Standard Errors assume that the covariance matrix of the errors is correctly specified.\n",
       "[2] The condition number is large, 1.85e+06. This might indicate that there are\n",
       "strong multicollinearity or other numerical problems.\n",
       "\"\"\""
      ]
     },
     "execution_count": 133,
     "metadata": {},
     "output_type": "execute_result"
    }
   ],
   "source": [
    "model = smf.ols(formula, data=df)\n",
    "results = model.fit()\n",
    "results.summary()"
   ]
  },
  {
   "cell_type": "code",
   "execution_count": 130,
   "metadata": {
    "collapsed": false
   },
   "outputs": [
    {
     "data": {
      "text/html": [
       "<div>\n",
       "<table border=\"1\" class=\"dataframe\">\n",
       "  <thead>\n",
       "    <tr style=\"text-align: right;\">\n",
       "      <th></th>\n",
       "      <th>p_value</th>\n",
       "    </tr>\n",
       "  </thead>\n",
       "  <tbody>\n",
       "    <tr>\n",
       "      <th>Area</th>\n",
       "      <td>9.649075e-01</td>\n",
       "    </tr>\n",
       "    <tr>\n",
       "      <th>Income</th>\n",
       "      <td>9.293422e-01</td>\n",
       "    </tr>\n",
       "    <tr>\n",
       "      <th>Illiteracy</th>\n",
       "      <td>9.268712e-01</td>\n",
       "    </tr>\n",
       "    <tr>\n",
       "      <th>Population</th>\n",
       "      <td>8.318351e-02</td>\n",
       "    </tr>\n",
       "    <tr>\n",
       "      <th>Frost</th>\n",
       "      <td>7.518682e-02</td>\n",
       "    </tr>\n",
       "    <tr>\n",
       "      <th>HS_Grad</th>\n",
       "      <td>4.197175e-02</td>\n",
       "    </tr>\n",
       "    <tr>\n",
       "      <th>Murder</th>\n",
       "      <td>8.679582e-08</td>\n",
       "    </tr>\n",
       "    <tr>\n",
       "      <th>Intercept</th>\n",
       "      <td>2.510609e-35</td>\n",
       "    </tr>\n",
       "  </tbody>\n",
       "</table>\n",
       "</div>"
      ],
      "text/plain": [
       "                 p_value\n",
       "Area        9.649075e-01\n",
       "Income      9.293422e-01\n",
       "Illiteracy  9.268712e-01\n",
       "Population  8.318351e-02\n",
       "Frost       7.518682e-02\n",
       "HS_Grad     4.197175e-02\n",
       "Murder      8.679582e-08\n",
       "Intercept   2.510609e-35"
      ]
     },
     "execution_count": 130,
     "metadata": {},
     "output_type": "execute_result"
    }
   ],
   "source": [
    "pd.DataFrame(results.pvalues.sort_values(ascending=False),columns=['p_value'])"
   ]
  },
  {
   "cell_type": "markdown",
   "metadata": {},
   "source": [
    "**Problem 3.2 - Predicting Life Expectancy - Refining the Model and Analyzing Predictions**\n",
    "\n",
    "0 points possible (ungraded)\n",
    "\n",
    "Removing insignificant variables changes the Multiple R-squared value of\n",
    "\n",
    "the model. By looking at the summary output for both the initial model\n",
    "(all independent variables) and the simplified model (only 4 independent\n",
    "variables) and using what you learned in class, which of the following\n",
    "correctly explains the change in the Multiple R-squared value?"
   ]
  },
  {
   "cell_type": "code",
   "execution_count": 135,
   "metadata": {
    "collapsed": false
   },
   "outputs": [
    {
     "name": "stdout",
     "output_type": "stream",
     "text": [
      "0.736156268909\n",
      "0.736032771957\n"
     ]
    }
   ],
   "source": [
    "clf.fit(df[features].values,y)\n",
    "print clf.score(df[features].values,y)\n",
    "clf.fit(df[feature_after_ACI].values,y)\n",
    "print clf.score(df[feature_after_ACI].values,y)"
   ]
  },
  {
   "cell_type": "markdown",
   "metadata": {},
   "source": [
    "**Problem 3.3 - Predicting Life Expectancy - Refining the Model and Analyzing Predictions**\n",
    "\n",
    "0 points possible (ungraded)\n",
    "\n",
    "Using the simplified 4 variable model that we created, we'll now take a\n",
    "look at how our predictions compare to the actual values.\n",
    "Take a look at the vector of predictions by using the predict function\n",
    "Which state do we predict to have the lowest life expectancy? (Hint: use\n",
    "the sort function)"
   ]
  },
  {
   "cell_type": "code",
   "execution_count": 136,
   "metadata": {
    "collapsed": true
   },
   "outputs": [],
   "source": [
    "predict = clf.predict(df[feature_after_ACI])"
   ]
  },
  {
   "cell_type": "code",
   "execution_count": 149,
   "metadata": {
    "collapsed": true
   },
   "outputs": [],
   "source": [
    "df['predict_1']=predict"
   ]
  },
  {
   "cell_type": "code",
   "execution_count": 150,
   "metadata": {
    "collapsed": false
   },
   "outputs": [
    {
     "data": {
      "text/html": [
       "<div>\n",
       "<table border=\"1\" class=\"dataframe\">\n",
       "  <thead>\n",
       "    <tr style=\"text-align: right;\">\n",
       "      <th></th>\n",
       "      <th>Population</th>\n",
       "      <th>Income</th>\n",
       "      <th>Illiteracy</th>\n",
       "      <th>Life_Exp</th>\n",
       "      <th>Murder</th>\n",
       "      <th>HS_Grad</th>\n",
       "      <th>Frost</th>\n",
       "      <th>Area</th>\n",
       "      <th>state_abb</th>\n",
       "      <th>state_area</th>\n",
       "      <th>x</th>\n",
       "      <th>y</th>\n",
       "      <th>state_division</th>\n",
       "      <th>state_name</th>\n",
       "      <th>state_region</th>\n",
       "      <th>predict_1</th>\n",
       "    </tr>\n",
       "  </thead>\n",
       "  <tbody>\n",
       "    <tr>\n",
       "      <th>9</th>\n",
       "      <td>4931</td>\n",
       "      <td>4091</td>\n",
       "      <td>2.0</td>\n",
       "      <td>68.54</td>\n",
       "      <td>13.9</td>\n",
       "      <td>40.6</td>\n",
       "      <td>60</td>\n",
       "      <td>58073</td>\n",
       "      <td>GA</td>\n",
       "      <td>58876</td>\n",
       "      <td>-83.3736</td>\n",
       "      <td>32.3329</td>\n",
       "      <td>South Atlantic</td>\n",
       "      <td>Georgia</td>\n",
       "      <td>South</td>\n",
       "      <td>68.636942</td>\n",
       "    </tr>\n",
       "  </tbody>\n",
       "</table>\n",
       "</div>"
      ],
      "text/plain": [
       "   Population  Income  Illiteracy  Life_Exp  Murder  HS_Grad  Frost   Area  \\\n",
       "9        4931    4091         2.0     68.54    13.9     40.6     60  58073   \n",
       "\n",
       "  state_abb  state_area        x        y  state_division state_name  \\\n",
       "9        GA       58876 -83.3736  32.3329  South Atlantic    Georgia   \n",
       "\n",
       "  state_region  predict_1  \n",
       "9        South  68.636942  "
      ]
     },
     "execution_count": 150,
     "metadata": {},
     "output_type": "execute_result"
    }
   ],
   "source": [
    "df[df.state_name=='Georgia']"
   ]
  },
  {
   "cell_type": "code",
   "execution_count": 151,
   "metadata": {
    "collapsed": false
   },
   "outputs": [
    {
     "data": {
      "text/plain": [
       "<matplotlib.axes._subplots.AxesSubplot at 0x7f203461c490>"
      ]
     },
     "execution_count": 151,
     "metadata": {},
     "output_type": "execute_result"
    },
    {
     "data": {
      "image/png": "[encoded data removed]",
      "text/plain": [
       "<matplotlib.figure.Figure at 0x7f20345a2310>"
      ]
     },
     "metadata": {},
     "output_type": "display_data"
    }
   ],
   "source": [
    "df[['predict_1','Life_Exp','state_name']].set_index('state_name').sort_values(by='predict_1').plot(kind='barh',figsize=(12,12))"
   ]
  },
  {
   "cell_type": "code",
   "execution_count": 166,
   "metadata": {
    "collapsed": false
   },
   "outputs": [
    {
     "data": {
      "text/plain": [
       "'Alabama'"
      ]
     },
     "execution_count": 166,
     "metadata": {},
     "output_type": "execute_result"
    }
   ],
   "source": [
    "df.iloc[df.predict_1.idxmin()].state_name"
   ]
  },
  {
   "cell_type": "code",
   "execution_count": 169,
   "metadata": {
    "collapsed": false
   },
   "outputs": [
    {
     "data": {
      "text/plain": [
       "'South Carolina'"
      ]
     },
     "execution_count": 169,
     "metadata": {},
     "output_type": "execute_result"
    }
   ],
   "source": [
    "df.iloc[df.Life_Exp.idxmin()].state_name"
   ]
  },
  {
   "cell_type": "markdown",
   "metadata": {},
   "source": [
    "**Problem 3.5 - Predicting Life Expectancy - Refining the Model**\n",
    "\n",
    "and Analyzing Predictions\n",
    "\n",
    "0 points possible (ungraded)\n",
    "Take a look at the vector of residuals (the difference between the\n",
    "predicted and actual values).\n",
    "For which state do we make the smallest absolute error?"
   ]
  },
  {
   "cell_type": "code",
   "execution_count": 176,
   "metadata": {
    "collapsed": false
   },
   "outputs": [],
   "source": [
    "df['residual']=np.abs(df.predict_1-df.Life_Exp)"
   ]
  },
  {
   "cell_type": "code",
   "execution_count": 177,
   "metadata": {
    "collapsed": false
   },
   "outputs": [
    {
     "data": {
      "text/plain": [
       "'Indiana'"
      ]
     },
     "execution_count": 177,
     "metadata": {},
     "output_type": "execute_result"
    }
   ],
   "source": [
    "df.iloc[df.residual.idxmin()].state_name"
   ]
  },
  {
   "cell_type": "code",
   "execution_count": 178,
   "metadata": {
    "collapsed": false
   },
   "outputs": [
    {
     "data": {
      "text/plain": [
       "'Hawaii'"
      ]
     },
     "execution_count": 178,
     "metadata": {},
     "output_type": "execute_result"
    }
   ],
   "source": [
    "df.iloc[df.residual.idxmax()].state_name"
   ]
  }
 ],
 "metadata": {
  "anaconda-cloud": {},
  "kernelspec": {
   "display_name": "Python [conda root]",
   "language": "python",
   "name": "conda-root-py"
  },
  "language_info": {
   "codemirror_mode": {
    "name": "ipython",
    "version": 2
   },
   "file_extension": ".py",
   "mimetype": "text/x-python",
   "name": "python",
   "nbconvert_exporter": "python",
   "pygments_lexer": "ipython2",
   "version": "2.7.12"
  }
 },
 "nbformat": 4,
 "nbformat_minor": 1
}
