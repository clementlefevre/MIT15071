{
 "cells": [
  {
   "cell_type": "code",
   "execution_count": 1,
   "metadata": {
    "collapsed": true
   },
   "outputs": [],
   "source": [
    "polling = read.csv('PollingData.csv')"
   ]
  },
  {
   "cell_type": "code",
   "execution_count": 2,
   "metadata": {
    "collapsed": false
   },
   "outputs": [
    {
     "name": "stdout",
     "output_type": "stream",
     "text": [
      "'data.frame':\t145 obs. of  7 variables:\n",
      " $ State     : Factor w/ 50 levels \"Alabama\",\"Alaska\",..: 1 1 2 2 3 3 3 4 4 4 ...\n",
      " $ Year      : int  2004 2008 2004 2008 2004 2008 2012 2004 2008 2012 ...\n",
      " $ Rasmussen : int  11 21 NA 16 5 5 8 7 10 NA ...\n",
      " $ SurveyUSA : int  18 25 NA NA 15 NA NA 5 NA NA ...\n",
      " $ DiffCount : int  5 5 1 6 8 9 4 8 5 2 ...\n",
      " $ PropR     : num  1 1 1 1 1 ...\n",
      " $ Republican: int  1 1 1 1 1 1 1 1 1 1 ...\n"
     ]
    }
   ],
   "source": [
    "str(polling)"
   ]
  },
  {
   "cell_type": "code",
   "execution_count": 3,
   "metadata": {
    "collapsed": false
   },
   "outputs": [
    {
     "data": {
      "text/plain": [
       "\n",
       "2004 2008 2012 \n",
       "  50   50   45 "
      ]
     },
     "metadata": {},
     "output_type": "display_data"
    }
   ],
   "source": [
    "table(polling$Year)"
   ]
  },
  {
   "cell_type": "code",
   "execution_count": 4,
   "metadata": {
    "collapsed": false
   },
   "outputs": [
    {
     "data": {
      "text/plain": [
       "         State          Year        Rasmussen          SurveyUSA       \n",
       " Arizona    :  3   Min.   :2004   Min.   :-41.0000   Min.   :-33.0000  \n",
       " Arkansas   :  3   1st Qu.:2004   1st Qu.: -8.0000   1st Qu.:-11.7500  \n",
       " California :  3   Median :2008   Median :  1.0000   Median : -2.0000  \n",
       " Colorado   :  3   Mean   :2008   Mean   :  0.0404   Mean   : -0.8243  \n",
       " Connecticut:  3   3rd Qu.:2012   3rd Qu.:  8.5000   3rd Qu.:  8.0000  \n",
       " Florida    :  3   Max.   :2012   Max.   : 39.0000   Max.   : 30.0000  \n",
       " (Other)    :127                  NA's   :46         NA's   :71        \n",
       "   DiffCount           PropR          Republican    \n",
       " Min.   :-19.000   Min.   :0.0000   Min.   :0.0000  \n",
       " 1st Qu.: -6.000   1st Qu.:0.0000   1st Qu.:0.0000  \n",
       " Median :  1.000   Median :0.6250   Median :1.0000  \n",
       " Mean   : -1.269   Mean   :0.5259   Mean   :0.5103  \n",
       " 3rd Qu.:  4.000   3rd Qu.:1.0000   3rd Qu.:1.0000  \n",
       " Max.   : 11.000   Max.   :1.0000   Max.   :1.0000  \n",
       "                                                    "
      ]
     },
     "metadata": {},
     "output_type": "display_data"
    }
   ],
   "source": [
    "summary(polling)"
   ]
  },
  {
   "cell_type": "code",
   "execution_count": 5,
   "metadata": {
    "collapsed": true
   },
   "outputs": [],
   "source": [
    "library('mice')"
   ]
  },
  {
   "cell_type": "code",
   "execution_count": 6,
   "metadata": {
    "collapsed": false
   },
   "outputs": [],
   "source": [
    "simple = polling[c('Rasmussen','SurveyUSA','DiffCount','PropR')]"
   ]
  },
  {
   "cell_type": "code",
   "execution_count": 7,
   "metadata": {
    "collapsed": false
   },
   "outputs": [
    {
     "data": {
      "text/plain": [
       "   Rasmussen          SurveyUSA          DiffCount           PropR       \n",
       " Min.   :-41.0000   Min.   :-33.0000   Min.   :-19.000   Min.   :0.0000  \n",
       " 1st Qu.: -8.0000   1st Qu.:-11.7500   1st Qu.: -6.000   1st Qu.:0.0000  \n",
       " Median :  1.0000   Median : -2.0000   Median :  1.000   Median :0.6250  \n",
       " Mean   :  0.0404   Mean   : -0.8243   Mean   : -1.269   Mean   :0.5259  \n",
       " 3rd Qu.:  8.5000   3rd Qu.:  8.0000   3rd Qu.:  4.000   3rd Qu.:1.0000  \n",
       " Max.   : 39.0000   Max.   : 30.0000   Max.   : 11.000   Max.   :1.0000  \n",
       " NA's   :46         NA's   :71                                           "
      ]
     },
     "metadata": {},
     "output_type": "display_data"
    }
   ],
   "source": [
    "summary(simple)"
   ]
  },
  {
   "cell_type": "code",
   "execution_count": 8,
   "metadata": {
    "collapsed": true
   },
   "outputs": [],
   "source": [
    "set.seed(144)"
   ]
  },
  {
   "cell_type": "code",
   "execution_count": 9,
   "metadata": {
    "collapsed": false
   },
   "outputs": [
    {
     "name": "stdout",
     "output_type": "stream",
     "text": [
      "\n",
      " iter imp variable\n",
      "  1   1  Rasmussen  SurveyUSA\n",
      "  1   2  Rasmussen  SurveyUSA\n",
      "  1   3  Rasmussen  SurveyUSA\n",
      "  1   4  Rasmussen  SurveyUSA\n",
      "  1   5  Rasmussen  SurveyUSA\n",
      "  2   1  Rasmussen  SurveyUSA\n",
      "  2   2  Rasmussen  SurveyUSA\n",
      "  2   3  Rasmussen  SurveyUSA\n",
      "  2   4  Rasmussen  SurveyUSA\n",
      "  2   5  Rasmussen  SurveyUSA\n",
      "  3   1  Rasmussen  SurveyUSA\n",
      "  3   2  Rasmussen  SurveyUSA\n",
      "  3   3  Rasmussen  SurveyUSA\n",
      "  3   4  Rasmussen  SurveyUSA\n",
      "  3   5  Rasmussen  SurveyUSA\n",
      "  4   1  Rasmussen  SurveyUSA\n",
      "  4   2  Rasmussen  SurveyUSA\n",
      "  4   3  Rasmussen  SurveyUSA\n",
      "  4   4  Rasmussen  SurveyUSA\n",
      "  4   5  Rasmussen  SurveyUSA\n",
      "  5   1  Rasmussen  SurveyUSA\n",
      "  5   2  Rasmussen  SurveyUSA\n",
      "  5   3  Rasmussen  SurveyUSA\n",
      "  5   4  Rasmussen  SurveyUSA\n",
      "  5   5  Rasmussen  SurveyUSA\n"
     ]
    }
   ],
   "source": [
    "imputed = complete(mice(simple))"
   ]
  },
  {
   "cell_type": "code",
   "execution_count": 10,
   "metadata": {
    "collapsed": false
   },
   "outputs": [
    {
     "data": {
      "text/plain": [
       "   Rasmussen         SurveyUSA         DiffCount           PropR       \n",
       " Min.   :-41.000   Min.   :-33.000   Min.   :-19.000   Min.   :0.0000  \n",
       " 1st Qu.: -8.000   1st Qu.:-11.000   1st Qu.: -6.000   1st Qu.:0.0000  \n",
       " Median :  3.000   Median :  1.000   Median :  1.000   Median :0.6250  \n",
       " Mean   :  2.062   Mean   :  1.138   Mean   : -1.269   Mean   :0.5259  \n",
       " 3rd Qu.: 12.000   3rd Qu.: 16.000   3rd Qu.:  4.000   3rd Qu.:1.0000  \n",
       " Max.   : 39.000   Max.   : 30.000   Max.   : 11.000   Max.   :1.0000  "
      ]
     },
     "metadata": {},
     "output_type": "display_data"
    }
   ],
   "source": [
    "summary(imputed)"
   ]
  },
  {
   "cell_type": "code",
   "execution_count": 11,
   "metadata": {
    "collapsed": true
   },
   "outputs": [],
   "source": [
    "polling$Rasmussen=imputed$Rasmussen\n",
    "polling$SurveyUSA=imputed$SurveyUSA"
   ]
  },
  {
   "cell_type": "code",
   "execution_count": 14,
   "metadata": {
    "collapsed": false
   },
   "outputs": [],
   "source": [
    "Train = subset(polling, Year==2008 | Year==2004)\n",
    "Test = subset(polling, Year==2013)"
   ]
  },
  {
   "cell_type": "code",
   "execution_count": 25,
   "metadata": {
    "collapsed": false
   },
   "outputs": [
    {
     "data": {
      "text/plain": [
       "\n",
       " 0  1 \n",
       "47 53 "
      ]
     },
     "metadata": {},
     "output_type": "display_data"
    }
   ],
   "source": [
    "table(Train$Republican)"
   ]
  },
  {
   "cell_type": "code",
   "execution_count": 28,
   "metadata": {
    "collapsed": false
   },
   "outputs": [],
   "source": [
    "coli <-colnames(Train)"
   ]
  },
  {
   "cell_type": "code",
   "execution_count": 39,
   "metadata": {
    "collapsed": false
   },
   "outputs": [],
   "source": [
    "?glm"
   ]
  },
  {
   "cell_type": "code",
   "execution_count": 60,
   "metadata": {
    "collapsed": false
   },
   "outputs": [
    {
     "data": {
      "text/html": [
       "<table>\n",
       "<thead><tr><th></th><th scope=col>Republican</th><th scope=col>Rasmussen</th><th scope=col>SurveyUSA</th><th scope=col>PropR</th><th scope=col>DiffCount</th></tr></thead>\n",
       "<tbody>\n",
       "\t<tr><th scope=row>Republican</th><td>1.0000000</td><td>0.7965625</td><td>0.8199068</td><td>0.9484204</td><td>0.8092777</td></tr>\n",
       "\t<tr><th scope=row>Rasmussen</th><td>0.7965625</td><td>1.0000000</td><td>0.8991487</td><td>0.8399944</td><td>0.5094553</td></tr>\n",
       "\t<tr><th scope=row>SurveyUSA</th><td>0.8199068</td><td>0.8991487</td><td>1.0000000</td><td>0.8793327</td><td>0.5619011</td></tr>\n",
       "\t<tr><th scope=row>PropR</th><td>0.9484204</td><td>0.8399944</td><td>0.8793327</td><td>1.0000000</td><td>0.8273785</td></tr>\n",
       "\t<tr><th scope=row>DiffCount</th><td>0.8092777</td><td>0.5094553</td><td>0.5619011</td><td>0.8273785</td><td>1.0000000</td></tr>\n",
       "</tbody>\n",
       "</table>\n"
      ],
      "text/latex": [
       "\\begin{tabular}{r|lllll}\n",
       "  & Republican & Rasmussen & SurveyUSA & PropR & DiffCount\\\\\n",
       "\\hline\n",
       "\tRepublican & 1.0000000 & 0.7965625 & 0.8199068 & 0.9484204 & 0.8092777\\\\\n",
       "\tRasmussen & 0.7965625 & 1.0000000 & 0.8991487 & 0.8399944 & 0.5094553\\\\\n",
       "\tSurveyUSA & 0.8199068 & 0.8991487 & 1.0000000 & 0.8793327 & 0.5619011\\\\\n",
       "\tPropR & 0.9484204 & 0.8399944 & 0.8793327 & 1.0000000 & 0.8273785\\\\\n",
       "\tDiffCount & 0.8092777 & 0.5094553 & 0.5619011 & 0.8273785 & 1.0000000\\\\\n",
       "\\end{tabular}\n"
      ],
      "text/markdown": [
       "\n",
       "| <!--/--> | Republican | Rasmussen | SurveyUSA | PropR | DiffCount | \n",
       "|---|---|---|---|---|\n",
       "| Republican | 1.0000000 | 0.7965625 | 0.8199068 | 0.9484204 | 0.8092777 | \n",
       "| Rasmussen | 0.7965625 | 1.0000000 | 0.8991487 | 0.8399944 | 0.5094553 | \n",
       "| SurveyUSA | 0.8199068 | 0.8991487 | 1.0000000 | 0.8793327 | 0.5619011 | \n",
       "| PropR | 0.9484204 | 0.8399944 | 0.8793327 | 1.0000000 | 0.8273785 | \n",
       "| DiffCount | 0.8092777 | 0.5094553 | 0.5619011 | 0.8273785 | 1.0000000 | \n",
       "\n",
       "\n"
      ],
      "text/plain": [
       "           Republican Rasmussen SurveyUSA PropR     DiffCount\n",
       "Republican 1.0000000  0.7965625 0.8199068 0.9484204 0.8092777\n",
       "Rasmussen  0.7965625  1.0000000 0.8991487 0.8399944 0.5094553\n",
       "SurveyUSA  0.8199068  0.8991487 1.0000000 0.8793327 0.5619011\n",
       "PropR      0.9484204  0.8399944 0.8793327 1.0000000 0.8273785\n",
       "DiffCount  0.8092777  0.5094553 0.5619011 0.8273785 1.0000000"
      ]
     },
     "metadata": {},
     "output_type": "display_data"
    }
   ],
   "source": [
    "cor(Train[c('Republican', 'Rasmussen','SurveyUSA','PropR','DiffCount')])\n"
   ]
  },
  {
   "cell_type": "code",
   "execution_count": 40,
   "metadata": {
    "collapsed": false
   },
   "outputs": [
    {
     "data": {
      "text/plain": [
       "\n",
       "Call:\n",
       "glm(formula = Republican ~ Rasmussen + SurveyUSA + DiffCount + \n",
       "    PropR, family = \"binomial\", data = Train)\n",
       "\n",
       "Deviance Residuals: \n",
       "     Min        1Q    Median        3Q       Max  \n",
       "-1.68939  -0.00099   0.00034   0.06509   1.50590  \n",
       "\n",
       "Coefficients:\n",
       "            Estimate Std. Error z value Pr(>|z|)\n",
       "(Intercept)  -2.3987     6.7779  -0.354    0.723\n",
       "Rasmussen     0.6432     0.5047   1.274    0.202\n",
       "SurveyUSA    -0.1522     0.3289  -0.463    0.644\n",
       "DiffCount     0.8695     0.8796   0.989    0.323\n",
       "PropR        -0.2487    12.5458  -0.020    0.984\n",
       "\n",
       "(Dispersion parameter for binomial family taken to be 1)\n",
       "\n",
       "    Null deviance: 138.269  on 99  degrees of freedom\n",
       "Residual deviance:  10.103  on 95  degrees of freedom\n",
       "AIC: 20.103\n",
       "\n",
       "Number of Fisher Scoring iterations: 10\n"
      ]
     },
     "metadata": {},
     "output_type": "display_data"
    }
   ],
   "source": [
    "summary(glm(formula = Republican ~ Rasmussen + SurveyUSA +DiffCount +PropR,data = Train,family = \"binomial\"))\n"
   ]
  }
 ],
 "metadata": {
  "anaconda-cloud": {},
  "kernelspec": {
   "display_name": "R",
   "language": "R",
   "name": "ir"
  },
  "language_info": {
   "codemirror_mode": "r",
   "file_extension": ".r",
   "mimetype": "text/x-r-source",
   "name": "R",
   "pygments_lexer": "r",
   "version": "3.3.2"
  }
 },
 "nbformat": 4,
 "nbformat_minor": 1
}
