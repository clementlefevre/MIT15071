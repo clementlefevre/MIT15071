{
 "cells": [
  {
   "cell_type": "code",
   "execution_count": 1,
   "metadata": {
    "collapsed": true
   },
   "outputs": [],
   "source": [
    "df = read.csv('mvtWeek1.csv')"
   ]
  },
  {
   "cell_type": "code",
   "execution_count": 2,
   "metadata": {
    "collapsed": false
   },
   "outputs": [
    {
     "data": {
      "text/html": [
       "<table>\n",
       "<thead><tr><th scope=col>ID</th><th scope=col>Date</th><th scope=col>LocationDescription</th><th scope=col>Arrest</th><th scope=col>Domestic</th><th scope=col>Beat</th><th scope=col>District</th><th scope=col>CommunityArea</th><th scope=col>Year</th><th scope=col>Latitude</th><th scope=col>Longitude</th></tr></thead>\n",
       "<tbody>\n",
       "\t<tr><td>8951354                      </td><td>12/31/12 23:15               </td><td>STREET                       </td><td>FALSE                        </td><td>FALSE                        </td><td> 623                         </td><td> 6                           </td><td>69                           </td><td>2012                         </td><td>41.75628                     </td><td>-87.62164                    </td></tr>\n",
       "\t<tr><td>8951141                      </td><td>12/31/12 22:00               </td><td>STREET                       </td><td>FALSE                        </td><td>FALSE                        </td><td>1213                         </td><td>12                           </td><td>24                           </td><td>2012                         </td><td>41.89879                     </td><td>-87.66130                    </td></tr>\n",
       "\t<tr><td>8952745                      </td><td>12/31/12 22:00               </td><td>RESIDENTIAL YARD (FRONT/BACK)</td><td>FALSE                        </td><td>FALSE                        </td><td>1622                         </td><td>16                           </td><td>11                           </td><td>2012                         </td><td>41.96919                     </td><td>-87.76767                    </td></tr>\n",
       "\t<tr><td>8952223                      </td><td>12/31/12 22:00               </td><td>STREET                       </td><td>FALSE                        </td><td>FALSE                        </td><td> 724                         </td><td> 7                           </td><td>67                           </td><td>2012                         </td><td>41.76933                     </td><td>-87.65773                    </td></tr>\n",
       "\t<tr><td>8951608                      </td><td>12/31/12 21:30               </td><td>STREET                       </td><td>FALSE                        </td><td>FALSE                        </td><td> 211                         </td><td> 2                           </td><td>35                           </td><td>2012                         </td><td>41.83757                     </td><td>-87.62176                    </td></tr>\n",
       "\t<tr><td>8950793                      </td><td>12/31/12 20:30               </td><td>STREET                       </td><td> TRUE                        </td><td>FALSE                        </td><td>2521                         </td><td>25                           </td><td>19                           </td><td>2012                         </td><td>41.92856                     </td><td>-87.75400                    </td></tr>\n",
       "</tbody>\n",
       "</table>\n"
      ],
      "text/latex": [
       "\\begin{tabular}{r|lllllllllll}\n",
       " ID & Date & LocationDescription & Arrest & Domestic & Beat & District & CommunityArea & Year & Latitude & Longitude\\\\\n",
       "\\hline\n",
       "\t 8951354                       & 12/31/12 23:15                & STREET                        & FALSE                         & FALSE                         &  623                          &  6                            & 69                            & 2012                          & 41.75628                      & -87.62164                    \\\\\n",
       "\t 8951141                       & 12/31/12 22:00                & STREET                        & FALSE                         & FALSE                         & 1213                          & 12                            & 24                            & 2012                          & 41.89879                      & -87.66130                    \\\\\n",
       "\t 8952745                       & 12/31/12 22:00                & RESIDENTIAL YARD (FRONT/BACK) & FALSE                         & FALSE                         & 1622                          & 16                            & 11                            & 2012                          & 41.96919                      & -87.76767                    \\\\\n",
       "\t 8952223                       & 12/31/12 22:00                & STREET                        & FALSE                         & FALSE                         &  724                          &  7                            & 67                            & 2012                          & 41.76933                      & -87.65773                    \\\\\n",
       "\t 8951608                       & 12/31/12 21:30                & STREET                        & FALSE                         & FALSE                         &  211                          &  2                            & 35                            & 2012                          & 41.83757                      & -87.62176                    \\\\\n",
       "\t 8950793                       & 12/31/12 20:30                & STREET                        &  TRUE                         & FALSE                         & 2521                          & 25                            & 19                            & 2012                          & 41.92856                      & -87.75400                    \\\\\n",
       "\\end{tabular}\n"
      ],
      "text/markdown": [
       "\n",
       "ID | Date | LocationDescription | Arrest | Domestic | Beat | District | CommunityArea | Year | Latitude | Longitude | \n",
       "|---|---|---|---|---|---|\n",
       "| 8951354                       | 12/31/12 23:15                | STREET                        | FALSE                         | FALSE                         |  623                          |  6                            | 69                            | 2012                          | 41.75628                      | -87.62164                     | \n",
       "| 8951141                       | 12/31/12 22:00                | STREET                        | FALSE                         | FALSE                         | 1213                          | 12                            | 24                            | 2012                          | 41.89879                      | -87.66130                     | \n",
       "| 8952745                       | 12/31/12 22:00                | RESIDENTIAL YARD (FRONT/BACK) | FALSE                         | FALSE                         | 1622                          | 16                            | 11                            | 2012                          | 41.96919                      | -87.76767                     | \n",
       "| 8952223                       | 12/31/12 22:00                | STREET                        | FALSE                         | FALSE                         |  724                          |  7                            | 67                            | 2012                          | 41.76933                      | -87.65773                     | \n",
       "| 8951608                       | 12/31/12 21:30                | STREET                        | FALSE                         | FALSE                         |  211                          |  2                            | 35                            | 2012                          | 41.83757                      | -87.62176                     | \n",
       "| 8950793                       | 12/31/12 20:30                | STREET                        |  TRUE                         | FALSE                         | 2521                          | 25                            | 19                            | 2012                          | 41.92856                      | -87.75400                     | \n",
       "\n",
       "\n"
      ],
      "text/plain": [
       "  ID      Date           LocationDescription           Arrest Domestic Beat\n",
       "1 8951354 12/31/12 23:15 STREET                        FALSE  FALSE     623\n",
       "2 8951141 12/31/12 22:00 STREET                        FALSE  FALSE    1213\n",
       "3 8952745 12/31/12 22:00 RESIDENTIAL YARD (FRONT/BACK) FALSE  FALSE    1622\n",
       "4 8952223 12/31/12 22:00 STREET                        FALSE  FALSE     724\n",
       "5 8951608 12/31/12 21:30 STREET                        FALSE  FALSE     211\n",
       "6 8950793 12/31/12 20:30 STREET                         TRUE  FALSE    2521\n",
       "  District CommunityArea Year Latitude Longitude\n",
       "1  6       69            2012 41.75628 -87.62164\n",
       "2 12       24            2012 41.89879 -87.66130\n",
       "3 16       11            2012 41.96919 -87.76767\n",
       "4  7       67            2012 41.76933 -87.65773\n",
       "5  2       35            2012 41.83757 -87.62176\n",
       "6 25       19            2012 41.92856 -87.75400"
      ]
     },
     "metadata": {},
     "output_type": "display_data"
    }
   ],
   "source": [
    "head(df)"
   ]
  },
  {
   "cell_type": "code",
   "execution_count": 3,
   "metadata": {
    "collapsed": true
   },
   "outputs": [],
   "source": [
    "df$Date = as.Date(strptime(df$Date, \"%m/%d/%y %H:%M\"))"
   ]
  },
  {
   "cell_type": "code",
   "execution_count": 4,
   "metadata": {
    "collapsed": false
   },
   "outputs": [],
   "source": [
    "df$Month = months(df$Date)\n",
    "df$WeekDays = weekdays(df$Date)"
   ]
  },
  {
   "cell_type": "code",
   "execution_count": 5,
   "metadata": {
    "collapsed": false
   },
   "outputs": [
    {
     "data": {
      "text/html": [
       "<table>\n",
       "<thead><tr><th scope=col>ID</th><th scope=col>Date</th><th scope=col>LocationDescription</th><th scope=col>Arrest</th><th scope=col>Domestic</th><th scope=col>Beat</th><th scope=col>District</th><th scope=col>CommunityArea</th><th scope=col>Year</th><th scope=col>Latitude</th><th scope=col>Longitude</th><th scope=col>Month</th><th scope=col>WeekDays</th></tr></thead>\n",
       "<tbody>\n",
       "\t<tr><td>8951354                      </td><td>2012-12-31                   </td><td>STREET                       </td><td>FALSE                        </td><td>FALSE                        </td><td> 623                         </td><td> 6                           </td><td>69                           </td><td>2012                         </td><td>41.75628                     </td><td>-87.62164                    </td><td>Dezember                     </td><td>Montag                       </td></tr>\n",
       "\t<tr><td>8951141                      </td><td>2012-12-31                   </td><td>STREET                       </td><td>FALSE                        </td><td>FALSE                        </td><td>1213                         </td><td>12                           </td><td>24                           </td><td>2012                         </td><td>41.89879                     </td><td>-87.66130                    </td><td>Dezember                     </td><td>Montag                       </td></tr>\n",
       "\t<tr><td>8952745                      </td><td>2012-12-31                   </td><td>RESIDENTIAL YARD (FRONT/BACK)</td><td>FALSE                        </td><td>FALSE                        </td><td>1622                         </td><td>16                           </td><td>11                           </td><td>2012                         </td><td>41.96919                     </td><td>-87.76767                    </td><td>Dezember                     </td><td>Montag                       </td></tr>\n",
       "\t<tr><td>8952223                      </td><td>2012-12-31                   </td><td>STREET                       </td><td>FALSE                        </td><td>FALSE                        </td><td> 724                         </td><td> 7                           </td><td>67                           </td><td>2012                         </td><td>41.76933                     </td><td>-87.65773                    </td><td>Dezember                     </td><td>Montag                       </td></tr>\n",
       "\t<tr><td>8951608                      </td><td>2012-12-31                   </td><td>STREET                       </td><td>FALSE                        </td><td>FALSE                        </td><td> 211                         </td><td> 2                           </td><td>35                           </td><td>2012                         </td><td>41.83757                     </td><td>-87.62176                    </td><td>Dezember                     </td><td>Montag                       </td></tr>\n",
       "\t<tr><td>8950793                      </td><td>2012-12-31                   </td><td>STREET                       </td><td> TRUE                        </td><td>FALSE                        </td><td>2521                         </td><td>25                           </td><td>19                           </td><td>2012                         </td><td>41.92856                     </td><td>-87.75400                    </td><td>Dezember                     </td><td>Montag                       </td></tr>\n",
       "</tbody>\n",
       "</table>\n"
      ],
      "text/latex": [
       "\\begin{tabular}{r|lllllllllllll}\n",
       " ID & Date & LocationDescription & Arrest & Domestic & Beat & District & CommunityArea & Year & Latitude & Longitude & Month & WeekDays\\\\\n",
       "\\hline\n",
       "\t 8951354                       & 2012-12-31                    & STREET                        & FALSE                         & FALSE                         &  623                          &  6                            & 69                            & 2012                          & 41.75628                      & -87.62164                     & Dezember                      & Montag                       \\\\\n",
       "\t 8951141                       & 2012-12-31                    & STREET                        & FALSE                         & FALSE                         & 1213                          & 12                            & 24                            & 2012                          & 41.89879                      & -87.66130                     & Dezember                      & Montag                       \\\\\n",
       "\t 8952745                       & 2012-12-31                    & RESIDENTIAL YARD (FRONT/BACK) & FALSE                         & FALSE                         & 1622                          & 16                            & 11                            & 2012                          & 41.96919                      & -87.76767                     & Dezember                      & Montag                       \\\\\n",
       "\t 8952223                       & 2012-12-31                    & STREET                        & FALSE                         & FALSE                         &  724                          &  7                            & 67                            & 2012                          & 41.76933                      & -87.65773                     & Dezember                      & Montag                       \\\\\n",
       "\t 8951608                       & 2012-12-31                    & STREET                        & FALSE                         & FALSE                         &  211                          &  2                            & 35                            & 2012                          & 41.83757                      & -87.62176                     & Dezember                      & Montag                       \\\\\n",
       "\t 8950793                       & 2012-12-31                    & STREET                        &  TRUE                         & FALSE                         & 2521                          & 25                            & 19                            & 2012                          & 41.92856                      & -87.75400                     & Dezember                      & Montag                       \\\\\n",
       "\\end{tabular}\n"
      ],
      "text/markdown": [
       "\n",
       "ID | Date | LocationDescription | Arrest | Domestic | Beat | District | CommunityArea | Year | Latitude | Longitude | Month | WeekDays | \n",
       "|---|---|---|---|---|---|\n",
       "| 8951354                       | 2012-12-31                    | STREET                        | FALSE                         | FALSE                         |  623                          |  6                            | 69                            | 2012                          | 41.75628                      | -87.62164                     | Dezember                      | Montag                        | \n",
       "| 8951141                       | 2012-12-31                    | STREET                        | FALSE                         | FALSE                         | 1213                          | 12                            | 24                            | 2012                          | 41.89879                      | -87.66130                     | Dezember                      | Montag                        | \n",
       "| 8952745                       | 2012-12-31                    | RESIDENTIAL YARD (FRONT/BACK) | FALSE                         | FALSE                         | 1622                          | 16                            | 11                            | 2012                          | 41.96919                      | -87.76767                     | Dezember                      | Montag                        | \n",
       "| 8952223                       | 2012-12-31                    | STREET                        | FALSE                         | FALSE                         |  724                          |  7                            | 67                            | 2012                          | 41.76933                      | -87.65773                     | Dezember                      | Montag                        | \n",
       "| 8951608                       | 2012-12-31                    | STREET                        | FALSE                         | FALSE                         |  211                          |  2                            | 35                            | 2012                          | 41.83757                      | -87.62176                     | Dezember                      | Montag                        | \n",
       "| 8950793                       | 2012-12-31                    | STREET                        |  TRUE                         | FALSE                         | 2521                          | 25                            | 19                            | 2012                          | 41.92856                      | -87.75400                     | Dezember                      | Montag                        | \n",
       "\n",
       "\n"
      ],
      "text/plain": [
       "  ID      Date       LocationDescription           Arrest Domestic Beat\n",
       "1 8951354 2012-12-31 STREET                        FALSE  FALSE     623\n",
       "2 8951141 2012-12-31 STREET                        FALSE  FALSE    1213\n",
       "3 8952745 2012-12-31 RESIDENTIAL YARD (FRONT/BACK) FALSE  FALSE    1622\n",
       "4 8952223 2012-12-31 STREET                        FALSE  FALSE     724\n",
       "5 8951608 2012-12-31 STREET                        FALSE  FALSE     211\n",
       "6 8950793 2012-12-31 STREET                         TRUE  FALSE    2521\n",
       "  District CommunityArea Year Latitude Longitude Month    WeekDays\n",
       "1  6       69            2012 41.75628 -87.62164 Dezember Montag  \n",
       "2 12       24            2012 41.89879 -87.66130 Dezember Montag  \n",
       "3 16       11            2012 41.96919 -87.76767 Dezember Montag  \n",
       "4  7       67            2012 41.76933 -87.65773 Dezember Montag  \n",
       "5  2       35            2012 41.83757 -87.62176 Dezember Montag  \n",
       "6 25       19            2012 41.92856 -87.75400 Dezember Montag  "
      ]
     },
     "metadata": {},
     "output_type": "display_data"
    }
   ],
   "source": [
    "head(df)"
   ]
  },
  {
   "cell_type": "code",
   "execution_count": 17,
   "metadata": {
    "collapsed": false
   },
   "outputs": [
    {
     "data": {
      "text/html": [
       "13"
      ],
      "text/latex": [
       "13"
      ],
      "text/markdown": [
       "13"
      ],
      "text/plain": [
       "[1] 13"
      ]
     },
     "metadata": {},
     "output_type": "display_data"
    },
    {
     "data": {
      "text/html": [
       "191641"
      ],
      "text/latex": [
       "191641"
      ],
      "text/markdown": [
       "191641"
      ],
      "text/plain": [
       "[1] 191641"
      ]
     },
     "metadata": {},
     "output_type": "display_data"
    },
    {
     "data": {
      "text/html": [
       "9181151"
      ],
      "text/latex": [
       "9181151"
      ],
      "text/markdown": [
       "9181151"
      ],
      "text/plain": [
       "[1] 9181151"
      ]
     },
     "metadata": {},
     "output_type": "display_data"
    },
    {
     "data": {
      "text/html": [
       "111"
      ],
      "text/latex": [
       "111"
      ],
      "text/markdown": [
       "111"
      ],
      "text/plain": [
       "[1] 111"
      ]
     },
     "metadata": {},
     "output_type": "display_data"
    }
   ],
   "source": [
    "ncol(df)\n",
    "nrow(df)\n",
    "max(df$ID)\n",
    "min(df$Beat)"
   ]
  },
  {
   "cell_type": "markdown",
   "metadata": {},
   "source": [
    "# How many observations have a LocationDescription value of ALLEY?"
   ]
  },
  {
   "cell_type": "code",
   "execution_count": 20,
   "metadata": {
    "collapsed": false
   },
   "outputs": [
    {
     "data": {
      "text/html": [
       "<table>\n",
       "<thead><tr><th scope=col>Var1</th><th scope=col>Freq</th></tr></thead>\n",
       "<tbody>\n",
       "\t<tr><td>FALSE </td><td>189333</td></tr>\n",
       "\t<tr><td>TRUE  </td><td>  2308</td></tr>\n",
       "</tbody>\n",
       "</table>\n"
      ],
      "text/latex": [
       "\\begin{tabular}{r|ll}\n",
       " Var1 & Freq\\\\\n",
       "\\hline\n",
       "\t FALSE  & 189333\\\\\n",
       "\t TRUE   &   2308\\\\\n",
       "\\end{tabular}\n"
      ],
      "text/markdown": [
       "\n",
       "Var1 | Freq | \n",
       "|---|---|\n",
       "| FALSE  | 189333 | \n",
       "| TRUE   |   2308 | \n",
       "\n",
       "\n"
      ],
      "text/plain": [
       "  Var1  Freq  \n",
       "1 FALSE 189333\n",
       "2 TRUE    2308"
      ]
     },
     "metadata": {},
     "output_type": "display_data"
    }
   ],
   "source": [
    "data.frame(table(df$LocationDescription=='ALLEY'))"
   ]
  },
  {
   "cell_type": "code",
   "execution_count": 23,
   "metadata": {
    "collapsed": false
   },
   "outputs": [
    {
     "data": {
      "text/plain": [
       "   Mode   FALSE    TRUE    NA's \n",
       "logical  189333    2308       0 "
      ]
     },
     "metadata": {},
     "output_type": "display_data"
    }
   ],
   "source": [
    "summary(df$LocationDescription=='ALLEY')"
   ]
  },
  {
   "cell_type": "code",
   "execution_count": 82,
   "metadata": {
    "collapsed": false
   },
   "outputs": [
    {
     "data": {
      "text/html": [
       "'Oktober'"
      ],
      "text/latex": [
       "'Oktober'"
      ],
      "text/markdown": [
       "'Oktober'"
      ],
      "text/plain": [
       "[1] \"Oktober\""
      ]
     },
     "metadata": {},
     "output_type": "display_data"
    }
   ],
   "source": [
    "groupy_month <-aggregate(df, by=list(df$Month), FUN = length)\n",
    "groupy_month[which.max(groupy_month$Month),1]"
   ]
  },
  {
   "cell_type": "code",
   "execution_count": 8,
   "metadata": {
    "collapsed": false
   },
   "outputs": [
    {
     "data": {
      "text/html": [
       "<table>\n",
       "<thead><tr><th scope=col>Var1</th><th scope=col>Freq</th></tr></thead>\n",
       "<tbody>\n",
       "\t<tr><td>ABANDONED BUILDING                             </td><td>  4                                            </td></tr>\n",
       "\t<tr><td>AIRPORT/AIRCRAFT                               </td><td>363                                            </td></tr>\n",
       "\t<tr><td>AIRPORT BUILDING NON-TERMINAL - NON-SECURE AREA</td><td>  4                                            </td></tr>\n",
       "\t<tr><td>AIRPORT BUILDING NON-TERMINAL - SECURE AREA    </td><td>  1                                            </td></tr>\n",
       "\t<tr><td>AIRPORT EXTERIOR - NON-SECURE AREA             </td><td> 24                                            </td></tr>\n",
       "\t<tr><td>AIRPORT EXTERIOR - SECURE AREA                 </td><td>  1                                            </td></tr>\n",
       "</tbody>\n",
       "</table>\n"
      ],
      "text/latex": [
       "\\begin{tabular}{r|ll}\n",
       " Var1 & Freq\\\\\n",
       "\\hline\n",
       "\t ABANDONED BUILDING                              &   4                                            \\\\\n",
       "\t AIRPORT/AIRCRAFT                                & 363                                            \\\\\n",
       "\t AIRPORT BUILDING NON-TERMINAL - NON-SECURE AREA &   4                                            \\\\\n",
       "\t AIRPORT BUILDING NON-TERMINAL - SECURE AREA     &   1                                            \\\\\n",
       "\t AIRPORT EXTERIOR - NON-SECURE AREA              &  24                                            \\\\\n",
       "\t AIRPORT EXTERIOR - SECURE AREA                  &   1                                            \\\\\n",
       "\\end{tabular}\n"
      ],
      "text/markdown": [
       "\n",
       "Var1 | Freq | \n",
       "|---|---|---|---|---|---|\n",
       "| ABANDONED BUILDING                              |   4                                             | \n",
       "| AIRPORT/AIRCRAFT                                | 363                                             | \n",
       "| AIRPORT BUILDING NON-TERMINAL - NON-SECURE AREA |   4                                             | \n",
       "| AIRPORT BUILDING NON-TERMINAL - SECURE AREA     |   1                                             | \n",
       "| AIRPORT EXTERIOR - NON-SECURE AREA              |  24                                             | \n",
       "| AIRPORT EXTERIOR - SECURE AREA                  |   1                                             | \n",
       "\n",
       "\n"
      ],
      "text/plain": [
       "  Var1                                            Freq\n",
       "1 ABANDONED BUILDING                                4 \n",
       "2 AIRPORT/AIRCRAFT                                363 \n",
       "3 AIRPORT BUILDING NON-TERMINAL - NON-SECURE AREA   4 \n",
       "4 AIRPORT BUILDING NON-TERMINAL - SECURE AREA       1 \n",
       "5 AIRPORT EXTERIOR - NON-SECURE AREA               24 \n",
       "6 AIRPORT EXTERIOR - SECURE AREA                    1 "
      ]
     },
     "metadata": {},
     "output_type": "display_data"
    }
   ],
   "source": [
    "descriptions <-(data.frame(table(df$LocationDescription)))\n",
    "head(descriptions)"
   ]
  },
  {
   "cell_type": "code",
   "execution_count": 9,
   "metadata": {
    "collapsed": false
   },
   "outputs": [
    {
     "data": {
      "text/html": [
       "<table>\n",
       "<thead><tr><th></th><th scope=col>Var1</th><th scope=col>Freq</th></tr></thead>\n",
       "<tbody>\n",
       "\t<tr><th scope=row>72</th><td>STREET</td><td>156564</td></tr>\n",
       "</tbody>\n",
       "</table>\n"
      ],
      "text/latex": [
       "\\begin{tabular}{r|ll}\n",
       "  & Var1 & Freq\\\\\n",
       "\\hline\n",
       "\t72 & STREET & 156564\\\\\n",
       "\\end{tabular}\n"
      ],
      "text/markdown": [
       "\n",
       "| <!--/--> | Var1 | Freq | \n",
       "|---|\n",
       "| 72 | STREET | 156564 | \n",
       "\n",
       "\n"
      ],
      "text/plain": [
       "   Var1   Freq  \n",
       "72 STREET 156564"
      ]
     },
     "metadata": {},
     "output_type": "display_data"
    }
   ],
   "source": [
    "descriptions[which.max(descriptions$Freq),]"
   ]
  },
  {
   "cell_type": "code",
   "execution_count": 10,
   "metadata": {
    "collapsed": false
   },
   "outputs": [
    {
     "data": {
      "text/html": [
       "<time datetime=\"2006-05-21\">2006-05-21</time>"
      ],
      "text/latex": [
       "2006-05-21"
      ],
      "text/markdown": [
       "2006-05-21"
      ],
      "text/plain": [
       "[1] \"2006-05-21\""
      ]
     },
     "metadata": {},
     "output_type": "display_data"
    }
   ],
   "source": [
    "median(df$Date)"
   ]
  },
  {
   "cell_type": "code",
   "execution_count": 11,
   "metadata": {
    "collapsed": false
   },
   "outputs": [
    {
     "data": {
      "text/html": [
       "<table>\n",
       "<thead><tr><th></th><th scope=col>ID</th><th scope=col>Date</th><th scope=col>LocationDescription</th><th scope=col>Arrest</th><th scope=col>Domestic</th><th scope=col>Beat</th><th scope=col>District</th><th scope=col>CommunityArea</th><th scope=col>Year</th><th scope=col>Latitude</th><th scope=col>Longitude</th><th scope=col>Month</th><th scope=col>WeekDays</th></tr></thead>\n",
       "<tbody>\n",
       "\t<tr><th scope=row>22</th><td>8950318               </td><td>2012-12-31            </td><td>VEHICLE NON-COMMERCIAL</td><td>FALSE                 </td><td>FALSE                 </td><td>1923                  </td><td>19                    </td><td> 6                    </td><td>2012                  </td><td>41.94974              </td><td>-87.65426             </td><td>Dezember              </td><td>Montag                </td></tr>\n",
       "\t<tr><th scope=row>69</th><td>8950022               </td><td>2012-12-30            </td><td>VEHICLE NON-COMMERCIAL</td><td>FALSE                 </td><td>FALSE                 </td><td>1511                  </td><td>15                    </td><td>25                    </td><td>2012                  </td><td>41.89406              </td><td>-87.77026             </td><td>Dezember              </td><td>Sonntag               </td></tr>\n",
       "\t<tr><th scope=row>78</th><td>8949135               </td><td>2012-12-30            </td><td>VEHICLE NON-COMMERCIAL</td><td>FALSE                 </td><td>FALSE                 </td><td> 532                  </td><td> 5                    </td><td>53                    </td><td>2012                  </td><td>41.66885              </td><td>-87.61752             </td><td>Dezember              </td><td>Sonntag               </td></tr>\n",
       "\t<tr><th scope=row>85</th><td>8949144               </td><td>2012-12-30            </td><td>VEHICLE NON-COMMERCIAL</td><td>FALSE                 </td><td>FALSE                 </td><td>2533                  </td><td>25                    </td><td>25                    </td><td>2012                  </td><td>41.90424              </td><td>-87.74986             </td><td>Dezember              </td><td>Sonntag               </td></tr>\n",
       "\t<tr><th scope=row>111</th><td>8948432               </td><td>2012-12-29            </td><td>VEHICLE NON-COMMERCIAL</td><td>FALSE                 </td><td>FALSE                 </td><td> 923                  </td><td> 9                    </td><td>63                    </td><td>2012                  </td><td>41.80008              </td><td>-87.69505             </td><td>Dezember              </td><td>Samstag               </td></tr>\n",
       "\t<tr><th scope=row>125</th><td>8948191               </td><td>2012-12-29            </td><td>VEHICLE NON-COMMERCIAL</td><td>FALSE                 </td><td>FALSE                 </td><td>2223                  </td><td>22                    </td><td>73                    </td><td>2012                  </td><td>41.72647              </td><td>-87.64199             </td><td>Dezember              </td><td>Samstag               </td></tr>\n",
       "</tbody>\n",
       "</table>\n"
      ],
      "text/latex": [
       "\\begin{tabular}{r|lllllllllllll}\n",
       "  & ID & Date & LocationDescription & Arrest & Domestic & Beat & District & CommunityArea & Year & Latitude & Longitude & Month & WeekDays\\\\\n",
       "\\hline\n",
       "\t22 & 8950318                & 2012-12-31             & VEHICLE NON-COMMERCIAL & FALSE                  & FALSE                  & 1923                   & 19                     &  6                     & 2012                   & 41.94974               & -87.65426              & Dezember               & Montag                \\\\\n",
       "\t69 & 8950022                & 2012-12-30             & VEHICLE NON-COMMERCIAL & FALSE                  & FALSE                  & 1511                   & 15                     & 25                     & 2012                   & 41.89406               & -87.77026              & Dezember               & Sonntag               \\\\\n",
       "\t78 & 8949135                & 2012-12-30             & VEHICLE NON-COMMERCIAL & FALSE                  & FALSE                  &  532                   &  5                     & 53                     & 2012                   & 41.66885               & -87.61752              & Dezember               & Sonntag               \\\\\n",
       "\t85 & 8949144                & 2012-12-30             & VEHICLE NON-COMMERCIAL & FALSE                  & FALSE                  & 2533                   & 25                     & 25                     & 2012                   & 41.90424               & -87.74986              & Dezember               & Sonntag               \\\\\n",
       "\t111 & 8948432                & 2012-12-29             & VEHICLE NON-COMMERCIAL & FALSE                  & FALSE                  &  923                   &  9                     & 63                     & 2012                   & 41.80008               & -87.69505              & Dezember               & Samstag               \\\\\n",
       "\t125 & 8948191                & 2012-12-29             & VEHICLE NON-COMMERCIAL & FALSE                  & FALSE                  & 2223                   & 22                     & 73                     & 2012                   & 41.72647               & -87.64199              & Dezember               & Samstag               \\\\\n",
       "\\end{tabular}\n"
      ],
      "text/markdown": [
       "\n",
       "| <!--/--> | ID | Date | LocationDescription | Arrest | Domestic | Beat | District | CommunityArea | Year | Latitude | Longitude | Month | WeekDays | \n",
       "|---|---|---|---|---|---|\n",
       "| 22 | 8950318                | 2012-12-31             | VEHICLE NON-COMMERCIAL | FALSE                  | FALSE                  | 1923                   | 19                     |  6                     | 2012                   | 41.94974               | -87.65426              | Dezember               | Montag                 | \n",
       "| 69 | 8950022                | 2012-12-30             | VEHICLE NON-COMMERCIAL | FALSE                  | FALSE                  | 1511                   | 15                     | 25                     | 2012                   | 41.89406               | -87.77026              | Dezember               | Sonntag                | \n",
       "| 78 | 8949135                | 2012-12-30             | VEHICLE NON-COMMERCIAL | FALSE                  | FALSE                  |  532                   |  5                     | 53                     | 2012                   | 41.66885               | -87.61752              | Dezember               | Sonntag                | \n",
       "| 85 | 8949144                | 2012-12-30             | VEHICLE NON-COMMERCIAL | FALSE                  | FALSE                  | 2533                   | 25                     | 25                     | 2012                   | 41.90424               | -87.74986              | Dezember               | Sonntag                | \n",
       "| 111 | 8948432                | 2012-12-29             | VEHICLE NON-COMMERCIAL | FALSE                  | FALSE                  |  923                   |  9                     | 63                     | 2012                   | 41.80008               | -87.69505              | Dezember               | Samstag                | \n",
       "| 125 | 8948191                | 2012-12-29             | VEHICLE NON-COMMERCIAL | FALSE                  | FALSE                  | 2223                   | 22                     | 73                     | 2012                   | 41.72647               | -87.64199              | Dezember               | Samstag                | \n",
       "\n",
       "\n"
      ],
      "text/plain": [
       "    ID      Date       LocationDescription    Arrest Domestic Beat District\n",
       "22  8950318 2012-12-31 VEHICLE NON-COMMERCIAL FALSE  FALSE    1923 19      \n",
       "69  8950022 2012-12-30 VEHICLE NON-COMMERCIAL FALSE  FALSE    1511 15      \n",
       "78  8949135 2012-12-30 VEHICLE NON-COMMERCIAL FALSE  FALSE     532  5      \n",
       "85  8949144 2012-12-30 VEHICLE NON-COMMERCIAL FALSE  FALSE    2533 25      \n",
       "111 8948432 2012-12-29 VEHICLE NON-COMMERCIAL FALSE  FALSE     923  9      \n",
       "125 8948191 2012-12-29 VEHICLE NON-COMMERCIAL FALSE  FALSE    2223 22      \n",
       "    CommunityArea Year Latitude Longitude Month    WeekDays\n",
       "22   6            2012 41.94974 -87.65426 Dezember Montag  \n",
       "69  25            2012 41.89406 -87.77026 Dezember Sonntag \n",
       "78  53            2012 41.66885 -87.61752 Dezember Sonntag \n",
       "85  25            2012 41.90424 -87.74986 Dezember Sonntag \n",
       "111 63            2012 41.80008 -87.69505 Dezember Samstag \n",
       "125 73            2012 41.72647 -87.64199 Dezember Samstag "
      ]
     },
     "metadata": {},
     "output_type": "display_data"
    }
   ],
   "source": [
    "vehicles = df[grep('VEHICLE',df$LocationDescription),]\n",
    "head(vehicles)"
   ]
  },
  {
   "cell_type": "code",
   "execution_count": 12,
   "metadata": {
    "collapsed": false
   },
   "outputs": [
    {
     "data": {
      "text/html": [
       "'data.frame'"
      ],
      "text/latex": [
       "'data.frame'"
      ],
      "text/markdown": [
       "'data.frame'"
      ],
      "text/plain": [
       "[1] \"data.frame\""
      ]
     },
     "metadata": {},
     "output_type": "display_data"
    }
   ],
   "source": [
    "class(vehicles)"
   ]
  },
  {
   "cell_type": "code",
   "execution_count": 54,
   "metadata": {
    "collapsed": false
   },
   "outputs": [
    {
     "data": {
      "text/html": [
       "<table>\n",
       "<thead><tr><th></th><th scope=col>Group.1</th><th scope=col>ID</th><th scope=col>Date</th><th scope=col>LocationDescription</th><th scope=col>Arrest</th><th scope=col>Domestic</th><th scope=col>Beat</th><th scope=col>District</th><th scope=col>CommunityArea</th><th scope=col>Year</th><th scope=col>Latitude</th><th scope=col>Longitude</th><th scope=col>Month</th><th scope=col>WeekDays</th></tr></thead>\n",
       "<tbody>\n",
       "\t<tr><th scope=row>11</th><td>Oktober</td><td>17086  </td><td>17086  </td><td>17086  </td><td>17086  </td><td>17086  </td><td>17086  </td><td>17086  </td><td>17086  </td><td>17086  </td><td>17086  </td><td>17086  </td><td>17086  </td><td>17086  </td></tr>\n",
       "</tbody>\n",
       "</table>\n"
      ],
      "text/latex": [
       "\\begin{tabular}{r|llllllllllllll}\n",
       "  & Group.1 & ID & Date & LocationDescription & Arrest & Domestic & Beat & District & CommunityArea & Year & Latitude & Longitude & Month & WeekDays\\\\\n",
       "\\hline\n",
       "\t11 & Oktober & 17086   & 17086   & 17086   & 17086   & 17086   & 17086   & 17086   & 17086   & 17086   & 17086   & 17086   & 17086   & 17086  \\\\\n",
       "\\end{tabular}\n"
      ],
      "text/markdown": [
       "\n",
       "| <!--/--> | Group.1 | ID | Date | LocationDescription | Arrest | Domestic | Beat | District | CommunityArea | Year | Latitude | Longitude | Month | WeekDays | \n",
       "|---|\n",
       "| 11 | Oktober | 17086   | 17086   | 17086   | 17086   | 17086   | 17086   | 17086   | 17086   | 17086   | 17086   | 17086   | 17086   | 17086   | \n",
       "\n",
       "\n"
      ],
      "text/plain": [
       "   Group.1 ID    Date  LocationDescription Arrest Domestic Beat  District\n",
       "11 Oktober 17086 17086 17086               17086  17086    17086 17086   \n",
       "   CommunityArea Year  Latitude Longitude Month WeekDays\n",
       "11 17086         17086 17086    17086     17086 17086   "
      ]
     },
     "metadata": {},
     "output_type": "display_data"
    }
   ],
   "source": [
    "vehicles_agg <-aggregate(df, by = list(df$Month), FUN = length)\n",
    "vehicles_agg[order(-vehicles_agg$Year),][1,]"
   ]
  },
  {
   "cell_type": "code",
   "execution_count": 14,
   "metadata": {
    "collapsed": false
   },
   "outputs": [],
   "source": [
    "df_ARREST_TRUE = df[df$Arrest=='TRUE',]"
   ]
  },
  {
   "cell_type": "code",
   "execution_count": 15,
   "metadata": {
    "collapsed": false
   },
   "outputs": [
    {
     "data": {
      "text/html": [
       "<table>\n",
       "<thead><tr><th></th><th scope=col>Group.1</th><th scope=col>ID</th><th scope=col>Date</th><th scope=col>LocationDescription</th><th scope=col>Arrest</th><th scope=col>Domestic</th><th scope=col>Beat</th><th scope=col>District</th><th scope=col>CommunityArea</th><th scope=col>Year</th><th scope=col>Latitude</th><th scope=col>Longitude</th><th scope=col>Month</th><th scope=col>WeekDays</th></tr></thead>\n",
       "<tbody>\n",
       "\t<tr><th scope=row>5</th><td>Januar   </td><td>1435     </td><td>1435     </td><td>1435     </td><td>1435     </td><td>1435     </td><td>1435     </td><td>1435     </td><td>1435     </td><td>1435     </td><td>1435     </td><td>1435     </td><td>1435     </td><td>1435     </td></tr>\n",
       "\t<tr><th scope=row>3</th><td>Dezember </td><td>1397     </td><td>1397     </td><td>1397     </td><td>1397     </td><td>1397     </td><td>1397     </td><td>1397     </td><td>1397     </td><td>1397     </td><td>1397     </td><td>1397     </td><td>1397     </td><td>1397     </td></tr>\n",
       "\t<tr><th scope=row>11</th><td>Oktober  </td><td>1342     </td><td>1342     </td><td>1342     </td><td>1342     </td><td>1342     </td><td>1342     </td><td>1342     </td><td>1342     </td><td>1342     </td><td>1342     </td><td>1342     </td><td>1342     </td><td>1342     </td></tr>\n",
       "\t<tr><th scope=row>2</th><td>August   </td><td>1329     </td><td>1329     </td><td>1329     </td><td>1329     </td><td>1329     </td><td>1329     </td><td>1329     </td><td>1329     </td><td>1329     </td><td>1329     </td><td>1329     </td><td>1329     </td><td>1329     </td></tr>\n",
       "\t<tr><th scope=row>6</th><td>Juli     </td><td>1324     </td><td>1324     </td><td>1324     </td><td>1324     </td><td>1324     </td><td>1324     </td><td>1324     </td><td>1324     </td><td>1324     </td><td>1324     </td><td>1324     </td><td>1324     </td><td>1324     </td></tr>\n",
       "\t<tr><th scope=row>9</th><td>März     </td><td>1298     </td><td>1298     </td><td>1298     </td><td>1298     </td><td>1298     </td><td>1298     </td><td>1298     </td><td>1298     </td><td>1298     </td><td>1298     </td><td>1298     </td><td>1298     </td><td>1298     </td></tr>\n",
       "\t<tr><th scope=row>10</th><td>November </td><td>1256     </td><td>1256     </td><td>1256     </td><td>1256     </td><td>1256     </td><td>1256     </td><td>1256     </td><td>1256     </td><td>1256     </td><td>1256     </td><td>1256     </td><td>1256     </td><td>1256     </td></tr>\n",
       "\t<tr><th scope=row>1</th><td>April    </td><td>1252     </td><td>1252     </td><td>1252     </td><td>1252     </td><td>1252     </td><td>1252     </td><td>1252     </td><td>1252     </td><td>1252     </td><td>1252     </td><td>1252     </td><td>1252     </td><td>1252     </td></tr>\n",
       "\t<tr><th scope=row>12</th><td>September</td><td>1248     </td><td>1248     </td><td>1248     </td><td>1248     </td><td>1248     </td><td>1248     </td><td>1248     </td><td>1248     </td><td>1248     </td><td>1248     </td><td>1248     </td><td>1248     </td><td>1248     </td></tr>\n",
       "\t<tr><th scope=row>4</th><td>Februar  </td><td>1238     </td><td>1238     </td><td>1238     </td><td>1238     </td><td>1238     </td><td>1238     </td><td>1238     </td><td>1238     </td><td>1238     </td><td>1238     </td><td>1238     </td><td>1238     </td><td>1238     </td></tr>\n",
       "\t<tr><th scope=row>7</th><td>Juni     </td><td>1230     </td><td>1230     </td><td>1230     </td><td>1230     </td><td>1230     </td><td>1230     </td><td>1230     </td><td>1230     </td><td>1230     </td><td>1230     </td><td>1230     </td><td>1230     </td><td>1230     </td></tr>\n",
       "\t<tr><th scope=row>8</th><td>Mai      </td><td>1187     </td><td>1187     </td><td>1187     </td><td>1187     </td><td>1187     </td><td>1187     </td><td>1187     </td><td>1187     </td><td>1187     </td><td>1187     </td><td>1187     </td><td>1187     </td><td>1187     </td></tr>\n",
       "</tbody>\n",
       "</table>\n"
      ],
      "text/latex": [
       "\\begin{tabular}{r|llllllllllllll}\n",
       "  & Group.1 & ID & Date & LocationDescription & Arrest & Domestic & Beat & District & CommunityArea & Year & Latitude & Longitude & Month & WeekDays\\\\\n",
       "\\hline\n",
       "\t5 & Januar    & 1435      & 1435      & 1435      & 1435      & 1435      & 1435      & 1435      & 1435      & 1435      & 1435      & 1435      & 1435      & 1435     \\\\\n",
       "\t3 & Dezember  & 1397      & 1397      & 1397      & 1397      & 1397      & 1397      & 1397      & 1397      & 1397      & 1397      & 1397      & 1397      & 1397     \\\\\n",
       "\t11 & Oktober   & 1342      & 1342      & 1342      & 1342      & 1342      & 1342      & 1342      & 1342      & 1342      & 1342      & 1342      & 1342      & 1342     \\\\\n",
       "\t2 & August    & 1329      & 1329      & 1329      & 1329      & 1329      & 1329      & 1329      & 1329      & 1329      & 1329      & 1329      & 1329      & 1329     \\\\\n",
       "\t6 & Juli      & 1324      & 1324      & 1324      & 1324      & 1324      & 1324      & 1324      & 1324      & 1324      & 1324      & 1324      & 1324      & 1324     \\\\\n",
       "\t9 & März      & 1298      & 1298      & 1298      & 1298      & 1298      & 1298      & 1298      & 1298      & 1298      & 1298      & 1298      & 1298      & 1298     \\\\\n",
       "\t10 & November  & 1256      & 1256      & 1256      & 1256      & 1256      & 1256      & 1256      & 1256      & 1256      & 1256      & 1256      & 1256      & 1256     \\\\\n",
       "\t1 & April     & 1252      & 1252      & 1252      & 1252      & 1252      & 1252      & 1252      & 1252      & 1252      & 1252      & 1252      & 1252      & 1252     \\\\\n",
       "\t12 & September & 1248      & 1248      & 1248      & 1248      & 1248      & 1248      & 1248      & 1248      & 1248      & 1248      & 1248      & 1248      & 1248     \\\\\n",
       "\t4 & Februar   & 1238      & 1238      & 1238      & 1238      & 1238      & 1238      & 1238      & 1238      & 1238      & 1238      & 1238      & 1238      & 1238     \\\\\n",
       "\t7 & Juni      & 1230      & 1230      & 1230      & 1230      & 1230      & 1230      & 1230      & 1230      & 1230      & 1230      & 1230      & 1230      & 1230     \\\\\n",
       "\t8 & Mai       & 1187      & 1187      & 1187      & 1187      & 1187      & 1187      & 1187      & 1187      & 1187      & 1187      & 1187      & 1187      & 1187     \\\\\n",
       "\\end{tabular}\n"
      ],
      "text/markdown": [
       "\n",
       "| <!--/--> | Group.1 | ID | Date | LocationDescription | Arrest | Domestic | Beat | District | CommunityArea | Year | Latitude | Longitude | Month | WeekDays | \n",
       "|---|---|---|---|---|---|---|---|---|---|---|---|\n",
       "| 5 | Januar    | 1435      | 1435      | 1435      | 1435      | 1435      | 1435      | 1435      | 1435      | 1435      | 1435      | 1435      | 1435      | 1435      | \n",
       "| 3 | Dezember  | 1397      | 1397      | 1397      | 1397      | 1397      | 1397      | 1397      | 1397      | 1397      | 1397      | 1397      | 1397      | 1397      | \n",
       "| 11 | Oktober   | 1342      | 1342      | 1342      | 1342      | 1342      | 1342      | 1342      | 1342      | 1342      | 1342      | 1342      | 1342      | 1342      | \n",
       "| 2 | August    | 1329      | 1329      | 1329      | 1329      | 1329      | 1329      | 1329      | 1329      | 1329      | 1329      | 1329      | 1329      | 1329      | \n",
       "| 6 | Juli      | 1324      | 1324      | 1324      | 1324      | 1324      | 1324      | 1324      | 1324      | 1324      | 1324      | 1324      | 1324      | 1324      | \n",
       "| 9 | März      | 1298      | 1298      | 1298      | 1298      | 1298      | 1298      | 1298      | 1298      | 1298      | 1298      | 1298      | 1298      | 1298      | \n",
       "| 10 | November  | 1256      | 1256      | 1256      | 1256      | 1256      | 1256      | 1256      | 1256      | 1256      | 1256      | 1256      | 1256      | 1256      | \n",
       "| 1 | April     | 1252      | 1252      | 1252      | 1252      | 1252      | 1252      | 1252      | 1252      | 1252      | 1252      | 1252      | 1252      | 1252      | \n",
       "| 12 | September | 1248      | 1248      | 1248      | 1248      | 1248      | 1248      | 1248      | 1248      | 1248      | 1248      | 1248      | 1248      | 1248      | \n",
       "| 4 | Februar   | 1238      | 1238      | 1238      | 1238      | 1238      | 1238      | 1238      | 1238      | 1238      | 1238      | 1238      | 1238      | 1238      | \n",
       "| 7 | Juni      | 1230      | 1230      | 1230      | 1230      | 1230      | 1230      | 1230      | 1230      | 1230      | 1230      | 1230      | 1230      | 1230      | \n",
       "| 8 | Mai       | 1187      | 1187      | 1187      | 1187      | 1187      | 1187      | 1187      | 1187      | 1187      | 1187      | 1187      | 1187      | 1187      | \n",
       "\n",
       "\n"
      ],
      "text/plain": [
       "   Group.1   ID   Date LocationDescription Arrest Domestic Beat District\n",
       "5  Januar    1435 1435 1435                1435   1435     1435 1435    \n",
       "3  Dezember  1397 1397 1397                1397   1397     1397 1397    \n",
       "11 Oktober   1342 1342 1342                1342   1342     1342 1342    \n",
       "2  August    1329 1329 1329                1329   1329     1329 1329    \n",
       "6  Juli      1324 1324 1324                1324   1324     1324 1324    \n",
       "9  März      1298 1298 1298                1298   1298     1298 1298    \n",
       "10 November  1256 1256 1256                1256   1256     1256 1256    \n",
       "1  April     1252 1252 1252                1252   1252     1252 1252    \n",
       "12 September 1248 1248 1248                1248   1248     1248 1248    \n",
       "4  Februar   1238 1238 1238                1238   1238     1238 1238    \n",
       "7  Juni      1230 1230 1230                1230   1230     1230 1230    \n",
       "8  Mai       1187 1187 1187                1187   1187     1187 1187    \n",
       "   CommunityArea Year Latitude Longitude Month WeekDays\n",
       "5  1435          1435 1435     1435      1435  1435    \n",
       "3  1397          1397 1397     1397      1397  1397    \n",
       "11 1342          1342 1342     1342      1342  1342    \n",
       "2  1329          1329 1329     1329      1329  1329    \n",
       "6  1324          1324 1324     1324      1324  1324    \n",
       "9  1298          1298 1298     1298      1298  1298    \n",
       "10 1256          1256 1256     1256      1256  1256    \n",
       "1  1252          1252 1252     1252      1252  1252    \n",
       "12 1248          1248 1248     1248      1248  1248    \n",
       "4  1238          1238 1238     1238      1238  1238    \n",
       "7  1230          1230 1230     1230      1230  1230    \n",
       "8  1187          1187 1187     1187      1187  1187    "
      ]
     },
     "metadata": {},
     "output_type": "display_data"
    }
   ],
   "source": [
    "df_agg_arrested <-aggregate(df_ARREST_TRUE,by=list(df_ARREST_TRUE$Month), FUN = length)\n",
    "df_agg_arrested[order(-df_agg_arrested$Year),]"
   ]
  },
  {
   "cell_type": "code",
   "execution_count": null,
   "metadata": {
    "collapsed": true
   },
   "outputs": [],
   "source": []
  },
  {
   "cell_type": "code",
   "execution_count": null,
   "metadata": {
    "collapsed": true
   },
   "outputs": [],
   "source": []
  },
  {
   "cell_type": "code",
   "execution_count": 16,
   "metadata": {
    "collapsed": false
   },
   "outputs": [
    {
     "data": {
      "text/plain": [
       "\n",
       "    April    August  Dezember   Februar    Januar      Juli      Juni       Mai \n",
       "    15280     16572     16426     13511     16047     16801     16002     16035 \n",
       "     März  November   Oktober September \n",
       "    15758     16063     17086     16060 "
      ]
     },
     "metadata": {},
     "output_type": "display_data"
    }
   ],
   "source": [
    "table(df$Month)"
   ]
  }
 ],
 "metadata": {
  "anaconda-cloud": {},
  "kernelspec": {
   "display_name": "R",
   "language": "R",
   "name": "ir"
  },
  "language_info": {
   "codemirror_mode": "r",
   "file_extension": ".r",
   "mimetype": "text/x-r-source",
   "name": "R",
   "pygments_lexer": "r",
   "version": "3.3.2"
  }
 },
 "nbformat": 4,
 "nbformat_minor": 1
}
