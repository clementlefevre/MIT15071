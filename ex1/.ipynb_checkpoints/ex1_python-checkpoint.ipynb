{
 "cells": [
  {
   "cell_type": "code",
   "execution_count": 45,
   "metadata": {
    "collapsed": true
   },
   "outputs": [],
   "source": [
    "%matplotlib inline\n",
    "import numpy as np\n",
    "import pandas as pd\n",
    "import seaborn as sns"
   ]
  },
  {
   "cell_type": "code",
   "execution_count": 46,
   "metadata": {
    "collapsed": false
   },
   "outputs": [
    {
     "name": "stdout",
     "output_type": "stream",
     "text": [
      "<class 'pandas.core.frame.DataFrame'>\n",
      "RangeIndex: 191641 entries, 0 to 191640\n",
      "Data columns (total 11 columns):\n",
      "ID                     191641 non-null int64\n",
      "Date                   191641 non-null object\n",
      "LocationDescription    191641 non-null object\n",
      "Arrest                 191641 non-null bool\n",
      "Domestic               191641 non-null bool\n",
      "Beat                   191641 non-null int64\n",
      "District               148589 non-null object\n",
      "CommunityArea          167038 non-null object\n",
      "Year                   191641 non-null int64\n",
      "Latitude               189365 non-null float64\n",
      "Longitude              189365 non-null float64\n",
      "dtypes: bool(2), float64(2), int64(3), object(4)\n",
      "memory usage: 13.5+ MB\n"
     ]
    }
   ],
   "source": [
    "df = pd.read_csv('mvtWeek1.csv')\n",
    "df.info()"
   ]
  },
  {
   "cell_type": "code",
   "execution_count": 51,
   "metadata": {
    "collapsed": false
   },
   "outputs": [],
   "source": [
    "df.Date = pd.to_datetime(df.Date)"
   ]
  },
  {
   "cell_type": "code",
   "execution_count": 4,
   "metadata": {
    "collapsed": false
   },
   "outputs": [
    {
     "name": "stdout",
     "output_type": "stream",
     "text": [
      "<class 'pandas.core.frame.DataFrame'>\n",
      "RangeIndex: 191641 entries, 0 to 191640\n",
      "Data columns (total 11 columns):\n",
      "ID                     191641 non-null int64\n",
      "Date                   191641 non-null datetime64[ns]\n",
      "LocationDescription    191641 non-null object\n",
      "Arrest                 191641 non-null bool\n",
      "Domestic               191641 non-null bool\n",
      "Beat                   191641 non-null int64\n",
      "District               148589 non-null object\n",
      "CommunityArea          167038 non-null object\n",
      "Year                   191641 non-null int64\n",
      "Latitude               189365 non-null float64\n",
      "Longitude              189365 non-null float64\n",
      "dtypes: bool(2), datetime64[ns](1), float64(2), int64(3), object(3)\n",
      "memory usage: 13.5+ MB\n"
     ]
    }
   ],
   "source": [
    "df.info()"
   ]
  },
  {
   "cell_type": "code",
   "execution_count": 5,
   "metadata": {
    "collapsed": false
   },
   "outputs": [
    {
     "data": {
      "text/html": [
       "<div>\n",
       "<table border=\"1\" class=\"dataframe\">\n",
       "  <thead>\n",
       "    <tr style=\"text-align: right;\">\n",
       "      <th></th>\n",
       "      <th>ID</th>\n",
       "      <th>Date</th>\n",
       "      <th>LocationDescription</th>\n",
       "      <th>Arrest</th>\n",
       "      <th>Domestic</th>\n",
       "      <th>Beat</th>\n",
       "      <th>District</th>\n",
       "      <th>CommunityArea</th>\n",
       "      <th>Year</th>\n",
       "      <th>Latitude</th>\n",
       "      <th>Longitude</th>\n",
       "    </tr>\n",
       "  </thead>\n",
       "  <tbody>\n",
       "    <tr>\n",
       "      <th>191636</th>\n",
       "      <td>1310068</td>\n",
       "      <td>2001-01-01 00:05:00</td>\n",
       "      <td>STREET</td>\n",
       "      <td>False</td>\n",
       "      <td>False</td>\n",
       "      <td>1123</td>\n",
       "      <td>NaN</td>\n",
       "      <td>NaN</td>\n",
       "      <td>2001</td>\n",
       "      <td>41.887566</td>\n",
       "      <td>-87.711323</td>\n",
       "    </tr>\n",
       "    <tr>\n",
       "      <th>191637</th>\n",
       "      <td>1313404</td>\n",
       "      <td>2001-01-01 00:01:00</td>\n",
       "      <td>STREET</td>\n",
       "      <td>False</td>\n",
       "      <td>False</td>\n",
       "      <td>2023</td>\n",
       "      <td>NaN</td>\n",
       "      <td>NaN</td>\n",
       "      <td>2001</td>\n",
       "      <td>41.981924</td>\n",
       "      <td>-87.658878</td>\n",
       "    </tr>\n",
       "    <tr>\n",
       "      <th>191638</th>\n",
       "      <td>1313442</td>\n",
       "      <td>2001-01-01 00:01:00</td>\n",
       "      <td>STREET</td>\n",
       "      <td>False</td>\n",
       "      <td>False</td>\n",
       "      <td>911</td>\n",
       "      <td>NaN</td>\n",
       "      <td>NaN</td>\n",
       "      <td>2001</td>\n",
       "      <td>41.799024</td>\n",
       "      <td>-87.696538</td>\n",
       "    </tr>\n",
       "    <tr>\n",
       "      <th>191639</th>\n",
       "      <td>1563324</td>\n",
       "      <td>2001-01-01 00:01:00</td>\n",
       "      <td>STREET</td>\n",
       "      <td>False</td>\n",
       "      <td>False</td>\n",
       "      <td>1712</td>\n",
       "      <td>NaN</td>\n",
       "      <td>NaN</td>\n",
       "      <td>2001</td>\n",
       "      <td>41.971437</td>\n",
       "      <td>-87.727056</td>\n",
       "    </tr>\n",
       "    <tr>\n",
       "      <th>191640</th>\n",
       "      <td>1310463</td>\n",
       "      <td>2001-01-01 00:01:00</td>\n",
       "      <td>STREET</td>\n",
       "      <td>False</td>\n",
       "      <td>False</td>\n",
       "      <td>1911</td>\n",
       "      <td>NaN</td>\n",
       "      <td>NaN</td>\n",
       "      <td>2001</td>\n",
       "      <td>41.968327</td>\n",
       "      <td>-87.696388</td>\n",
       "    </tr>\n",
       "  </tbody>\n",
       "</table>\n",
       "</div>"
      ],
      "text/plain": [
       "             ID                Date LocationDescription Arrest Domestic  Beat  \\\n",
       "191636  1310068 2001-01-01 00:05:00              STREET  False    False  1123   \n",
       "191637  1313404 2001-01-01 00:01:00              STREET  False    False  2023   \n",
       "191638  1313442 2001-01-01 00:01:00              STREET  False    False   911   \n",
       "191639  1563324 2001-01-01 00:01:00              STREET  False    False  1712   \n",
       "191640  1310463 2001-01-01 00:01:00              STREET  False    False  1911   \n",
       "\n",
       "       District CommunityArea  Year   Latitude  Longitude  \n",
       "191636      NaN           NaN  2001  41.887566 -87.711323  \n",
       "191637      NaN           NaN  2001  41.981924 -87.658878  \n",
       "191638      NaN           NaN  2001  41.799024 -87.696538  \n",
       "191639      NaN           NaN  2001  41.971437 -87.727056  \n",
       "191640      NaN           NaN  2001  41.968327 -87.696388  "
      ]
     },
     "execution_count": 5,
     "metadata": {},
     "output_type": "execute_result"
    }
   ],
   "source": [
    "df.tail()"
   ]
  },
  {
   "cell_type": "markdown",
   "metadata": {},
   "source": [
    "Problem 1.1 - Loading the Data\n",
    "How many rows of data (observations) are in this dataset?"
   ]
  },
  {
   "cell_type": "code",
   "execution_count": 6,
   "metadata": {
    "collapsed": false
   },
   "outputs": [
    {
     "data": {
      "text/plain": [
       "(191641, 11)"
      ]
     },
     "execution_count": 6,
     "metadata": {},
     "output_type": "execute_result"
    }
   ],
   "source": [
    "df.shape"
   ]
  },
  {
   "cell_type": "markdown",
   "metadata": {},
   "source": [
    "Problem 1.2 - Loading the Data\n",
    "1 point possible (graded)\n",
    "How many variables are in this dataset?"
   ]
  },
  {
   "cell_type": "code",
   "execution_count": 7,
   "metadata": {
    "collapsed": false
   },
   "outputs": [
    {
     "data": {
      "text/plain": [
       "11"
      ]
     },
     "execution_count": 7,
     "metadata": {},
     "output_type": "execute_result"
    }
   ],
   "source": [
    "len(df.columns)"
   ]
  },
  {
   "cell_type": "markdown",
   "metadata": {},
   "source": [
    "Problem 1.3 - Loading the Data\n",
    "1 point possible (graded)\n",
    "Using the \"max\" function, what is the maximum value of the variable \"ID\"?\n",
    "\n"
   ]
  },
  {
   "cell_type": "code",
   "execution_count": 8,
   "metadata": {
    "collapsed": false
   },
   "outputs": [
    {
     "data": {
      "text/plain": [
       "9181151"
      ]
     },
     "execution_count": 8,
     "metadata": {},
     "output_type": "execute_result"
    }
   ],
   "source": [
    "df.ID.max()"
   ]
  },
  {
   "cell_type": "markdown",
   "metadata": {},
   "source": [
    "Problem 1.4 - Loading the Data\n",
    "1 point possible (graded)\n",
    "What is the minimum value of the variable \"Beat\"?"
   ]
  },
  {
   "cell_type": "code",
   "execution_count": 9,
   "metadata": {
    "collapsed": false
   },
   "outputs": [
    {
     "data": {
      "text/plain": [
       "111"
      ]
     },
     "execution_count": 9,
     "metadata": {},
     "output_type": "execute_result"
    }
   ],
   "source": [
    "df.Beat.min()"
   ]
  },
  {
   "cell_type": "markdown",
   "metadata": {},
   "source": [
    "Problem 1.5 - Loading the Data\n",
    "1 point possible (graded)\n",
    "How many observations have value TRUE in the Arrest variable (this is the number of crimes for which an arrest was made)?"
   ]
  },
  {
   "cell_type": "code",
   "execution_count": 10,
   "metadata": {
    "collapsed": false
   },
   "outputs": [
    {
     "data": {
      "text/plain": [
       "15536"
      ]
     },
     "execution_count": 10,
     "metadata": {},
     "output_type": "execute_result"
    }
   ],
   "source": [
    "df[df.Arrest].shape[0]"
   ]
  },
  {
   "cell_type": "markdown",
   "metadata": {},
   "source": [
    "Problem 1.6 - Loading the Data\n",
    "1 point possible (graded)\n",
    "How many observations have a LocationDescription value of ALLEY?"
   ]
  },
  {
   "cell_type": "code",
   "execution_count": 11,
   "metadata": {
    "collapsed": false
   },
   "outputs": [
    {
     "data": {
      "text/plain": [
       "2308"
      ]
     },
     "execution_count": 11,
     "metadata": {},
     "output_type": "execute_result"
    }
   ],
   "source": [
    "df[df.LocationDescription=='ALLEY'].shape[0]"
   ]
  },
  {
   "cell_type": "markdown",
   "metadata": {},
   "source": [
    "Problem 2.1 - Understanding Dates in R\n",
    "1 point possible (graded)\n",
    "In many datasets, like this one, you have a date field. Unfortunately, R does not automatically recognize entries that look like dates. We need to use a function in R to extract the date and time. Take a look at the first entry of Date (remember to use square brackets when looking at a certain entry of a variable).\n",
    "\n",
    "In what format are the entries in the variable Date?"
   ]
  },
  {
   "cell_type": "code",
   "execution_count": 12,
   "metadata": {
    "collapsed": false
   },
   "outputs": [
    {
     "name": "stdout",
     "output_type": "stream",
     "text": [
      "0   2012-12-31 23:15:00\n",
      "1   2012-12-31 22:00:00\n",
      "2   2012-12-31 22:00:00\n",
      "3   2012-12-31 22:00:00\n",
      "4   2012-12-31 21:30:00\n",
      "Name: Date, dtype: datetime64[ns]\n",
      "191636   2001-01-01 00:05:00\n",
      "191637   2001-01-01 00:01:00\n",
      "191638   2001-01-01 00:01:00\n",
      "191639   2001-01-01 00:01:00\n",
      "191640   2001-01-01 00:01:00\n",
      "Name: Date, dtype: datetime64[ns]\n"
     ]
    }
   ],
   "source": [
    "print df.Date.head()\n",
    "print df.Date.tail()"
   ]
  },
  {
   "cell_type": "markdown",
   "metadata": {},
   "source": [
    "Problem 2.2 - Understanding Dates in R\n",
    "1 point possible (graded)\n",
    "Now, let's convert these characters into a Date object in R. In your R console, type\n",
    "\n",
    "DateConvert = as.Date(strptime(mvt$Date, \"%m/%d/%y %H:%M\"))\n",
    "\n",
    "This converts the variable \"Date\" into a Date object in R. Take a look at the variable DateConvert using the summary function.\n",
    "\n",
    "What is the month and year of the median date in our dataset? Enter your answer as \"Month Year\", without the quotes. (Ex: if the answer was 2008-03-28, you would give the answer \"March 2008\", without the quotes.)"
   ]
  },
  {
   "cell_type": "code",
   "execution_count": 13,
   "metadata": {
    "collapsed": false
   },
   "outputs": [
    {
     "data": {
      "text/plain": [
       "Timestamp('2006-05-21 12:30:00')"
      ]
     },
     "execution_count": 13,
     "metadata": {},
     "output_type": "execute_result"
    }
   ],
   "source": [
    "df.ix[df.shape[0]/2].Date"
   ]
  },
  {
   "cell_type": "markdown",
   "metadata": {},
   "source": [
    "Problem 2.3 - Understanding Dates in R\n",
    "1 point possible (graded)\n",
    "Now, let's extract the month and the day of the week, and add these variables to our data frame mvt. We can do this with two simple functions. Type the following commands in R:\n",
    "\n",
    "mvt$Month = months(DateConvert)\n",
    "\n",
    "mvt$Weekday = weekdays(DateConvert)\n",
    "\n",
    "This creates two new variables in our data frame, Month and Weekday, and sets them equal to the month and weekday values that we can extract from the Date object. Lastly, replace the old Date variable with DateConvert by typing:\n",
    "\n",
    "mvt$Date = DateConvert\n",
    "\n",
    "Using the table command, answer the following questions.\n",
    "\n",
    "In which month did the fewest motor vehicle thefts occur?\n",
    "\n"
   ]
  },
  {
   "cell_type": "code",
   "execution_count": 35,
   "metadata": {
    "collapsed": true
   },
   "outputs": [],
   "source": [
    "df['Month']=df.Date.dt.strftime('%b')"
   ]
  },
  {
   "cell_type": "code",
   "execution_count": 15,
   "metadata": {
    "collapsed": false
   },
   "outputs": [
    {
     "data": {
      "text/plain": [
       "'Feb'"
      ]
     },
     "execution_count": 15,
     "metadata": {},
     "output_type": "execute_result"
    }
   ],
   "source": [
    "df.groupby('Month').count()['ID'].argmin()"
   ]
  },
  {
   "cell_type": "markdown",
   "metadata": {},
   "source": [
    "Problem 2.4 - Understanding Dates in R\n",
    "1 point possible (graded)\n",
    "On which weekday did the most motor vehicle thefts occur?"
   ]
  },
  {
   "cell_type": "code",
   "execution_count": 16,
   "metadata": {
    "collapsed": false
   },
   "outputs": [
    {
     "data": {
      "text/html": [
       "<div>\n",
       "<table border=\"1\" class=\"dataframe\">\n",
       "  <thead>\n",
       "    <tr style=\"text-align: right;\">\n",
       "      <th></th>\n",
       "      <th>ID</th>\n",
       "      <th>Date</th>\n",
       "      <th>LocationDescription</th>\n",
       "      <th>Arrest</th>\n",
       "      <th>Domestic</th>\n",
       "      <th>Beat</th>\n",
       "      <th>District</th>\n",
       "      <th>CommunityArea</th>\n",
       "      <th>Year</th>\n",
       "      <th>Latitude</th>\n",
       "      <th>Longitude</th>\n",
       "      <th>Month</th>\n",
       "      <th>Weekday</th>\n",
       "    </tr>\n",
       "  </thead>\n",
       "  <tbody>\n",
       "    <tr>\n",
       "      <th>0</th>\n",
       "      <td>8951354</td>\n",
       "      <td>2012-12-31 23:15:00</td>\n",
       "      <td>STREET</td>\n",
       "      <td>False</td>\n",
       "      <td>False</td>\n",
       "      <td>623</td>\n",
       "      <td>6</td>\n",
       "      <td>69</td>\n",
       "      <td>2012</td>\n",
       "      <td>41.756284</td>\n",
       "      <td>-87.621645</td>\n",
       "      <td>Dec</td>\n",
       "      <td>Monday</td>\n",
       "    </tr>\n",
       "    <tr>\n",
       "      <th>1</th>\n",
       "      <td>8951141</td>\n",
       "      <td>2012-12-31 22:00:00</td>\n",
       "      <td>STREET</td>\n",
       "      <td>False</td>\n",
       "      <td>False</td>\n",
       "      <td>1213</td>\n",
       "      <td>12</td>\n",
       "      <td>24</td>\n",
       "      <td>2012</td>\n",
       "      <td>41.898788</td>\n",
       "      <td>-87.661303</td>\n",
       "      <td>Dec</td>\n",
       "      <td>Monday</td>\n",
       "    </tr>\n",
       "    <tr>\n",
       "      <th>2</th>\n",
       "      <td>8952745</td>\n",
       "      <td>2012-12-31 22:00:00</td>\n",
       "      <td>RESIDENTIAL YARD (FRONT/BACK)</td>\n",
       "      <td>False</td>\n",
       "      <td>False</td>\n",
       "      <td>1622</td>\n",
       "      <td>16</td>\n",
       "      <td>11</td>\n",
       "      <td>2012</td>\n",
       "      <td>41.969186</td>\n",
       "      <td>-87.767670</td>\n",
       "      <td>Dec</td>\n",
       "      <td>Monday</td>\n",
       "    </tr>\n",
       "    <tr>\n",
       "      <th>3</th>\n",
       "      <td>8952223</td>\n",
       "      <td>2012-12-31 22:00:00</td>\n",
       "      <td>STREET</td>\n",
       "      <td>False</td>\n",
       "      <td>False</td>\n",
       "      <td>724</td>\n",
       "      <td>7</td>\n",
       "      <td>67</td>\n",
       "      <td>2012</td>\n",
       "      <td>41.769329</td>\n",
       "      <td>-87.657726</td>\n",
       "      <td>Dec</td>\n",
       "      <td>Monday</td>\n",
       "    </tr>\n",
       "    <tr>\n",
       "      <th>4</th>\n",
       "      <td>8951608</td>\n",
       "      <td>2012-12-31 21:30:00</td>\n",
       "      <td>STREET</td>\n",
       "      <td>False</td>\n",
       "      <td>False</td>\n",
       "      <td>211</td>\n",
       "      <td>2</td>\n",
       "      <td>35</td>\n",
       "      <td>2012</td>\n",
       "      <td>41.837568</td>\n",
       "      <td>-87.621761</td>\n",
       "      <td>Dec</td>\n",
       "      <td>Monday</td>\n",
       "    </tr>\n",
       "  </tbody>\n",
       "</table>\n",
       "</div>"
      ],
      "text/plain": [
       "        ID                Date            LocationDescription Arrest Domestic  \\\n",
       "0  8951354 2012-12-31 23:15:00                         STREET  False    False   \n",
       "1  8951141 2012-12-31 22:00:00                         STREET  False    False   \n",
       "2  8952745 2012-12-31 22:00:00  RESIDENTIAL YARD (FRONT/BACK)  False    False   \n",
       "3  8952223 2012-12-31 22:00:00                         STREET  False    False   \n",
       "4  8951608 2012-12-31 21:30:00                         STREET  False    False   \n",
       "\n",
       "   Beat District CommunityArea  Year   Latitude  Longitude Month Weekday  \n",
       "0   623        6            69  2012  41.756284 -87.621645   Dec  Monday  \n",
       "1  1213       12            24  2012  41.898788 -87.661303   Dec  Monday  \n",
       "2  1622       16            11  2012  41.969186 -87.767670   Dec  Monday  \n",
       "3   724        7            67  2012  41.769329 -87.657726   Dec  Monday  \n",
       "4   211        2            35  2012  41.837568 -87.621761   Dec  Monday  "
      ]
     },
     "execution_count": 16,
     "metadata": {},
     "output_type": "execute_result"
    }
   ],
   "source": [
    "df['Weekday']=df.Date.dt.strftime('%A')\n",
    "df.head()"
   ]
  },
  {
   "cell_type": "code",
   "execution_count": 17,
   "metadata": {
    "collapsed": false
   },
   "outputs": [
    {
     "data": {
      "text/plain": [
       "'Friday'"
      ]
     },
     "execution_count": 17,
     "metadata": {},
     "output_type": "execute_result"
    }
   ],
   "source": [
    "df.groupby('Weekday')['ID'].count().argmax()"
   ]
  },
  {
   "cell_type": "markdown",
   "metadata": {},
   "source": [
    "Problem 2.5 - Understanding Dates in R\n",
    "1 point possible (graded)\n",
    "Each observation in the dataset represents a motor vehicle theft, and the Arrest variable indicates whether an arrest was later made for this theft. Which month has the largest number of motor vehicle thefts for which an arrest was made?\n",
    "\n"
   ]
  },
  {
   "cell_type": "code",
   "execution_count": 18,
   "metadata": {
    "collapsed": false
   },
   "outputs": [
    {
     "data": {
      "text/plain": [
       "'Jan'"
      ]
     },
     "execution_count": 18,
     "metadata": {},
     "output_type": "execute_result"
    }
   ],
   "source": [
    "df[df.Arrest].groupby('Month').count()['ID'].argmax()"
   ]
  },
  {
   "cell_type": "markdown",
   "metadata": {},
   "source": [
    "Problem 3.1 - Visualizing Crime Trends\n",
    "3 points possible (graded)\n",
    "Now, let's make some plots to help us better understand how crime has changed over time in Chicago. Throughout this problem, and in general, you can save your plot to a file. For more information, this website very clearly explains the process.\n",
    "\n",
    "First, let's make a histogram of the variable Date. We'll add an extra argument, to specify the number of bars we want in our histogram. In your R console, type\n",
    "\n",
    "hist(mvt$Date, breaks=100)\n",
    "\n",
    "Looking at the histogram, answer the following questions.\n",
    "\n",
    "In general, does it look like crime increases or decreases from 2002 - 2012?"
   ]
  },
  {
   "cell_type": "code",
   "execution_count": 19,
   "metadata": {
    "collapsed": false
   },
   "outputs": [
    {
     "data": {
      "text/plain": [
       "<matplotlib.axes._subplots.AxesSubplot at 0x7fbc9595dd50>"
      ]
     },
     "execution_count": 19,
     "metadata": {},
     "output_type": "execute_result"
    },
    {
     "data": {
      "image/png": "[encoded data removed]",
      "text/plain": [
       "<matplotlib.figure.Figure at 0x7fbc965a6c50>"
      ]
     },
     "metadata": {},
     "output_type": "display_data"
    }
   ],
   "source": [
    "df.Date.hist(bins=100)"
   ]
  },
  {
   "cell_type": "markdown",
   "metadata": {},
   "source": [
    "Problem 3.2 - Visualizing Crime Trends\n",
    "1 point possible (graded)\n",
    "Now, let's see how arrests have changed over time. Create a boxplot of the variable \"Date\", sorted by the variable \"Arrest\" (if you are not familiar with boxplots and would like to learn more, check out this tutorial). In a boxplot, the bold horizontal line is the median value of the data, the box shows the range of values between the first quartile and third quartile, and the whiskers (the dotted lines extending outside the box) show the minimum and maximum values, excluding any outliers (which are plotted as circles). Outliers are defined by first computing the difference between the first and third quartile values, or the height of the box. This number is called the Inter-Quartile Range (IQR). Any point that is greater than the third quartile plus the IQR or less than the first quartile minus the IQR is considered an outlier.\n",
    "\n",
    "Does it look like there were more crimes for which arrests were made in the first half of the time period or the second half of the time period? (Note that the time period is from 2001 to 2012, so the middle of the time period is the beginning of 2007.)"
   ]
  },
  {
   "cell_type": "code",
   "execution_count": 76,
   "metadata": {
    "collapsed": false
   },
   "outputs": [],
   "source": [
    "import datetime\n",
    "df['days_since']=df.Date-datetime.datetime(2016,1,10)\n",
    "df.days_since = df.days_since.apply(lambda x: x.days)\n",
    "df.head()\n",
    "df['Year_Month']=df.Year+df.Date.dt.month/12"
   ]
  },
  {
   "cell_type": "code",
   "execution_count": 77,
   "metadata": {
    "collapsed": false
   },
   "outputs": [
    {
     "data": {
      "text/plain": [
       "<matplotlib.axes._subplots.AxesSubplot at 0x7fbc68819a10>"
      ]
     },
     "execution_count": 77,
     "metadata": {},
     "output_type": "execute_result"
    },
    {
     "data": {
      "image/png": "[encoded data removed]",
      "text/plain": [
       "<matplotlib.figure.Figure at 0x7fbc91cccf50>"
      ]
     },
     "metadata": {},
     "output_type": "display_data"
    }
   ],
   "source": [
    "df.reset_index().boxplot(['Year_Month'], by='Arrest')"
   ]
  },
  {
   "cell_type": "code",
   "execution_count": 60,
   "metadata": {
    "collapsed": false
   },
   "outputs": [
    {
     "data": {
      "text/plain": [
       "<matplotlib.axes._subplots.AxesSubplot at 0x7fbc91969c90>"
      ]
     },
     "execution_count": 60,
     "metadata": {},
     "output_type": "execute_result"
    },
    {
     "data": {
      "image/png": "[encoded data removed]",
      "text/plain": [
       "<matplotlib.figure.Figure at 0x7fbc918c68d0>"
      ]
     },
     "metadata": {},
     "output_type": "display_data"
    }
   ],
   "source": [
    "df.reset_index().boxplot(['Year'], by='Arrest')"
   ]
  },
  {
   "cell_type": "code",
   "execution_count": null,
   "metadata": {
    "collapsed": true
   },
   "outputs": [],
   "source": []
  }
 ],
 "metadata": {
  "anaconda-cloud": {},
  "kernelspec": {
   "display_name": "Python [conda root]",
   "language": "python",
   "name": "conda-root-py"
  },
  "language_info": {
   "codemirror_mode": {
    "name": "ipython",
    "version": 2
   },
   "file_extension": ".py",
   "mimetype": "text/x-python",
   "name": "python",
   "nbconvert_exporter": "python",
   "pygments_lexer": "ipython2",
   "version": "2.7.12"
  }
 },
 "nbformat": 4,
 "nbformat_minor": 1
}
